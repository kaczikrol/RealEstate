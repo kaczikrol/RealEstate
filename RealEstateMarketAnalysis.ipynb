{
 "cells": [
  {
   "cell_type": "markdown",
   "metadata": {},
   "source": [
    "# Poznań - Real estate market analysis\n",
    "\n",
    "## 1. Introduce\n",
    "\n",
    "Main purpose this document is understanding of situation on Poznan flat market. User of this document can analyse data by himself and also take a look into mine findings \n",
    "summaries. It's not full market analyse - I have focused only on interesting for me variables and relationships. Have fun!"
   ]
  },
  {
   "cell_type": "markdown",
   "metadata": {},
   "source": [
    "## 2. Used libraries for analysis"
   ]
  },
  {
   "cell_type": "code",
   "execution_count": 13,
   "metadata": {},
   "outputs": [
    {
     "data": {
      "text/html": [
       "<style>.rendered_html { font-size: 10=px; }</style>"
      ],
      "text/plain": [
       "<IPython.core.display.HTML object>"
      ]
     },
     "metadata": {},
     "output_type": "display_data"
    }
   ],
   "source": [
    "import pandas as pd\n",
    "import numpy as np\n",
    "import matplotlib.pyplot as plt\n",
    "import math\n",
    "import ipywidgets as widgets\n",
    "from ipywidgets import interact, interactive, fixed, interact_manual\n",
    "from matplotlib import style\n",
    "from IPython.core.display import display, HTML\n",
    "display(HTML(\"<style>.rendered_html { font-size: 10=px; }</style>\"))\n",
    "style.use(\"ggplot\")"
   ]
  },
  {
   "cell_type": "markdown",
   "metadata": {},
   "source": [
    "## 3. User-definied functions\n",
    "Below you can see two functions <i>Range</i> and <i>Histogram</i>. Function <i>Range</i> add to our dataset new column with surfaces ranges."
   ]
  },
  {
   "cell_type": "code",
   "execution_count": 29,
   "metadata": {},
   "outputs": [],
   "source": [
    "def Range(surface):\n",
    "    \"\"\"Function for creating surface ranges\"\"\"\n",
    "    df = pd.DataFrame(surface)\n",
    "    list_values = []\n",
    "    for value in surface.values:\n",
    "        if value<31:\n",
    "            list_values.append(\"0-30\")\n",
    "        elif value<41:\n",
    "            list_values.append(\"31-40\")\n",
    "        elif value<51:\n",
    "            list_values.append(\"41-50\")\n",
    "        elif value<61:\n",
    "            list_values.append(\"51-60\")\n",
    "        elif value<71:\n",
    "            list_values.append(\"61-70\")\n",
    "        elif value<81:\n",
    "            list_values.append(\"71-80\")\n",
    "        elif value<101:\n",
    "            list_values.append(\"81-100\")\n",
    "        elif value is None:\n",
    "            list_values.append(\"N/A\")\n",
    "        else:\n",
    "            list_values.append(\">100\")\n",
    "    df[\"PRZEDZIAŁ_POW\"] = list_values\n",
    "    return df[\"PRZEDZIAŁ_POW\"]"
   ]
  },
  {
   "cell_type": "markdown",
   "metadata": {},
   "source": [
    "Function <i>Histogram</i> is little more complex - returns histogram for input data.In <i>Histogram</i> you can insert values to filter data it can be price, year of building flat, market type, flat surface, number of rooms and district. But for your comfort I have created special sliders so you don't have to type."
   ]
  },
  {
   "cell_type": "code",
   "execution_count": 30,
   "metadata": {},
   "outputs": [],
   "source": [
    "def Histogram(variable, dataset, price_min = 200000, price_max = 500000, \n",
    "              start_year = 1990, end_year = 2020, market = \"pierwotny\", \n",
    "              min_surface = 30, max_surface = 60, min_rooms = 2, \n",
    "              max_rooms = 4, dzielnica = \"Stare Miasto\"):\n",
    "    \"\"\"function for plotting histograms, analyse assumptions that price is lowest than 500 000 PLN\"\"\"\n",
    "    \n",
    "    dataset_hist = dataset[(dataset[\"CENA\"] >= price_min) & (dataset[\"CENA\"] <= price_max)]\n",
    "    dataset_hist = dataset_hist[(dataset_hist[\"ROK_BUDOWY\"] >= start_year) & (dataset_hist[\"ROK_BUDOWY\"] <= end_year)]                                                                     \n",
    "    dataset_hist = dataset_hist[(dataset_hist[\"RYNEK\"] == market)]                                                                       \n",
    "    dataset_hist = dataset_hist[(dataset_hist[\"POWIERZCHNIA\"] >= min_surface) & (dataset_hist[\"POWIERZCHNIA\"] <= max_surface)]                                                                          \n",
    "    dataset_hist = dataset_hist[(dataset_hist[\"POKOJE\"] >= min_rooms) & (dataset_hist[\"POKOJE\"] <= max_rooms)]\n",
    "    dataset_hist = dataset_hist[dataset_hist[\"DZIELNICA\"] == dzielnica]\n",
    "    dataset_hist.hist(column=variable)\n",
    "    #if variable in (\"RYNEK\",\"PRZEDZIAŁ_POW\", \"DZIELNICA\"):\n",
    "    #    dataset_hist = dataset_hist[variable]\n",
    "    #    dataset_hist.value_counts().plot(kind = \"bar\", title = variable)\n",
    "    #else:\n",
    "    return plt.show()"
   ]
  },
  {
   "cell_type": "code",
   "execution_count": 31,
   "metadata": {},
   "outputs": [],
   "source": [
    "dataset = pd.read_csv(\"C:/Users/Przemek/PycharmProjects/Real estate scrapping OtoDom/real_estate_data.csv\", sep=\";\",\n",
    "                      index_col=2)\n",
    "dataset = pd.DataFrame(dataset)"
   ]
  },
  {
   "cell_type": "code",
   "execution_count": 32,
   "metadata": {},
   "outputs": [],
   "source": [
    "dataset = dataset[~dataset.index.duplicated(keep=\"first\")]"
   ]
  },
  {
   "cell_type": "code",
   "execution_count": 33,
   "metadata": {},
   "outputs": [],
   "source": [
    "dataset[\"PRZEDZIAŁ_POW\"] = Range(dataset[\"POWIERZCHNIA\"])"
   ]
  },
  {
   "cell_type": "code",
   "execution_count": 34,
   "metadata": {},
   "outputs": [
    {
     "name": "stdout",
     "output_type": "stream",
     "text": [
      "Overall statistic of dataset: \n",
      "Number of offers:  3214 \n",
      "Average price for square meter:  6510.61 \n",
      "Average surface of flat:  60.16 \n",
      "Average price:  386196.84 \n",
      "Max price:  5756000.0 \n",
      "Min price:  99000.0\n"
     ]
    }
   ],
   "source": [
    "print(\"Overall statistic of dataset:\" ,\n",
    "      \"\\nNumber of offers: \", len(dataset.index),\n",
    "      \"\\nAverage price for square meter: \", round(dataset[\"CENA_M2\"].mean(),2),\n",
    "      \"\\nAverage surface of flat: \", round(dataset[\"POWIERZCHNIA\"].mean(),2),\n",
    "      \"\\nAverage price: \", round(dataset[\"CENA\"].mean(),2),\n",
    "      \"\\nMax price: \", max(dataset[\"CENA\"]),\n",
    "      \"\\nMin price: \", min(dataset[\"CENA\"])\n",
    "      )\n"
   ]
  },
  {
   "cell_type": "code",
   "execution_count": 35,
   "metadata": {},
   "outputs": [],
   "source": [
    "analysis_headers = [\"CENA\", \"CENA_M2\", \"POWIERZCHNIA\", \"POKOJE\", \"ROK_BUDOWY\", \"DZIELNICA\"]\n",
    "district_headers = ['Antoninek','Zieliniec','Kobylepole','Chartowo','Fabianowo','Kotowo','Główna','Głuszyna',\n",
    "                     'Górczyn','Grunwald','Jana III Sobieskiego','Jeżyce','Junikowo','Kiekrz','Krzesiny','Pokrzywno',\n",
    "                     'Garaszewo','Krzyżowniki','Smochowice','Kwiatowe','Ławica','Morasko','Radojewo','Naramowice',\n",
    "                     'Winogrady','Ogrody','Ostrów Tumski','Śródka','Zawady','Komandoria','Piątkowo','Podolany',\n",
    "                     'Rataje','Sołacz','Stare Miasto','Stare Winogrady','Starołęka','Minikowo','Marlewo',\n",
    "                     'Stary Grunwald','Strzeszyn','Szczepankowo','Spławie','Krzesinki','Łazarz','Świerczewo',\n",
    "                     'Umultowo','Warszawskie','Pomet','Maltańskie','Wilda','Winiary','Wola','Zielony Dębiec',\n",
    "                     'Żegrze','Dębiec']"
   ]
  },
  {
   "cell_type": "code",
   "execution_count": 36,
   "metadata": {},
   "outputs": [
    {
     "data": {
      "image/png": "[encoded data removed]",
      "text/plain": [
       "<matplotlib.figure.Figure at 0xa252b70>"
      ]
     },
     "metadata": {},
     "output_type": "display_data"
    },
    {
     "data": {
      "text/plain": [
       "<function __main__.Histogram>"
      ]
     },
     "execution_count": 36,
     "metadata": {},
     "output_type": "execute_result"
    }
   ],
   "source": [
    "%matplotlib inline\n",
    "import matplotlib.pyplot as plt\n",
    "plt.rcParams[\"figure.figsize\"] = [12,9]\n",
    "interact(Histogram,variable = analysis_headers, dataset = fixed(dataset), \n",
    "         price_min = widgets.IntSlider(min = 0, max = 1000000, step = 20000, value = 200000),\n",
    "         price_max = widgets.IntSlider(min = 0, max = 1000000, step = 20000, value = 500000),\n",
    "        start_year = widgets.IntSlider(min = 1990, max = 2020, step = 1, value = 2000),\n",
    "        end_year = widgets.IntSlider(min = 1990, max = 2020, step = 1, value = 2020),\n",
    "        market = [\"pierwotny\", \"wtórny\"],\n",
    "        dzielnica = district_headers)\n"
   ]
  }
 ],
 "metadata": {
  "kernelspec": {
   "display_name": "Python 3",
   "language": "python",
   "name": "python3"
  },
  "language_info": {
   "codemirror_mode": {
    "name": "ipython",
    "version": 3
   },
   "file_extension": ".py",
   "mimetype": "text/x-python",
   "name": "python",
   "nbconvert_exporter": "python",
   "pygments_lexer": "ipython3",
   "version": "3.4.3"
  }
 },
 "nbformat": 4,
 "nbformat_minor": 2
}
