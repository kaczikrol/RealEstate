{
 "cells": [
  {
   "cell_type": "markdown",
   "metadata": {},
   "source": [
    "# Poznań - Real estate market analysis\n",
    "\n",
    "## Description\n",
    "\n",
    "## 1. Introduce\n",
    "\n",
    "Main purpose this document is understanding of situation on Poznan flat market. User of this document can analyse data by himself and also take a look into mine findings \n",
    "summaries. It's not full market analyse - I have focused only on interesting for me variables and relationships. Have fun!"
   ]
  },
  {
   "cell_type": "markdown",
   "metadata": {},
   "source": [
    "## 2. Used libraries for analysis"
   ]
  },
  {
   "cell_type": "code",
   "execution_count": 1,
   "metadata": {},
   "outputs": [],
   "source": [
    "import pandas as pd\n",
    "import numpy as np\n",
    "import matplotlib.pyplot as plt\n",
    "import math\n",
    "import ipywidgets as widgets\n",
    "import scipy\n",
    "from scipy import stats\n",
    "from ipywidgets import interact, interactive, fixed, interact_manual\n",
    "from matplotlib import style\n",
    "from IPython.core.display import display, HTML\n",
    "#display(HTML(\"<style>.rendered_html { font-size: 10=px; }</style>\"))\n",
    "style.use(\"fivethirtyeight\")"
   ]
  },
  {
   "cell_type": "markdown",
   "metadata": {},
   "source": [
    "## 3. User-definied functions\n",
    "Below you can see two functions <i>Range</i> and <i>Histogram</i>. Function <i>Range</i> add to our dataset new column with surfaces ranges."
   ]
  },
  {
   "cell_type": "code",
   "execution_count": 2,
   "metadata": {},
   "outputs": [],
   "source": [
    "def Range(surface):\n",
    "    \"\"\"Function for creating surface ranges\"\"\"\n",
    "    df = pd.DataFrame(surface)\n",
    "    list_values = []\n",
    "    for value in surface.values:\n",
    "        if value<31:\n",
    "            list_values.append(\"0-30\")\n",
    "        elif value<41:\n",
    "            list_values.append(\"31-40\")\n",
    "        elif value<51:\n",
    "            list_values.append(\"41-50\")\n",
    "        elif value<61:\n",
    "            list_values.append(\"51-60\")\n",
    "        elif value<71:\n",
    "            list_values.append(\"61-70\")\n",
    "        elif value<81:\n",
    "            list_values.append(\"71-80\")\n",
    "        elif value<101:\n",
    "            list_values.append(\"81-100\")\n",
    "        elif value is None:\n",
    "            list_values.append(\"N/A\")\n",
    "        else:\n",
    "            list_values.append(\">100\")\n",
    "    df[\"PRZEDZIAŁ_POW\"] = list_values\n",
    "    return df[\"PRZEDZIAŁ_POW\"]"
   ]
  },
  {
   "cell_type": "markdown",
   "metadata": {},
   "source": [
    "Function <i>Histogram</i> is little more complex - returns histogram for input data.In <i>Histogram</i> you can insert values to filter data it can be price, year of building flat, market type, flat surface, number of rooms and district. But for your comfort I have created special sliders so you don't have to type."
   ]
  },
  {
   "cell_type": "code",
   "execution_count": 3,
   "metadata": {},
   "outputs": [],
   "source": [
    "analysis_headers = [\"CENA\", \"CENA_M2\", \"POWIERZCHNIA\", \"POKOJE\", \"ROK_BUDOWY\", \"DZIELNICA\"]\n",
    "district_headers = ['Antoninek','Zieliniec','Kobylepole','Chartowo','Fabianowo','Kotowo','Główna','Głuszyna',\n",
    "                    'Górczyn','Grunwald','Jana III Sobieskiego','Jeżyce','Junikowo','Kiekrz','Krzesiny',\n",
    "                    'Pokrzywno','Garaszewo','Krzyżowniki','Smochowice','Kwiatowe','Ławica','Morasko','Radojewo',\n",
    "                    'Naramowice','Winogrady','Ogrody','Ostrów Tumski','Śródka','Zawady','Komandoria','Piątkowo',\n",
    "                    'Podolany','Rataje','Sołacz','Stare Miasto','Stare Winogrady','Starołęka','Minikowo',\n",
    "                    'Marlewo','Stary Grunwald','Strzeszyn','Szczepankowo','Spławie','Krzesinki','Łazarz',\n",
    "                    'Świerczewo','Umultowo','Warszawskie','Pomet','Maltańskie','Wilda','Winiary','Wola',\n",
    "                    'Zielony Dębiec','Żegrze','Dębiec','','NaN','NA']\n",
    "var_dictionary = {\"CENA\":\"Price\", \"CENA_M2\":\"Price_M2\", \"POWIERZCHNIA\":\"Surface\", \"POKOJE\":\"Rooms\", \"ROK_BUDOWY\":\n",
    "                 \"Year of building\", \"DZIELNICA\":\"District\"}"
   ]
  },
  {
   "cell_type": "code",
   "execution_count": 4,
   "metadata": {},
   "outputs": [],
   "source": [
    "def Filtered(dataset, price_min = None, price_max = None, start_year = None, end_year = None, min_surface = None, \n",
    "             max_surface = None, min_rooms = None, max_rooms = None, district = None, market = None):\n",
    "    \"\"\"function for data filter, return dataframe\"\"\"\n",
    "    \n",
    "    if price_min is not None:\n",
    "        dataset = dataset[(dataset[\"CENA\"] >= price_min)]\n",
    "    if price_max is not None:\n",
    "        dataset = dataset[(dataset[\"CENA\"] <= price_max)]\n",
    "    if start_year is not None:\n",
    "        dataset = dataset[(dataset[\"ROK_BUDOWY\"] >= start_year)]\n",
    "    if end_year is not None:\n",
    "        dataset = dataset[(dataset[\"ROK_BUDOWY\"] <= end_year)]\n",
    "    if min_surface is not None:\n",
    "        dataset = dataset[(dataset[\"POWIERZCHNIA\"] >= min_surface)]\n",
    "    if max_surface is not None:\n",
    "        dataset = dataset[(dataset[\"POWIERZCHNIA\"] <= max_surface)]\n",
    "    if min_rooms is not None:\n",
    "        dataset = dataset[(dataset[\"POKOJE\"] >= min_rooms)]\n",
    "    if max_rooms is not None:\n",
    "        dataset = dataset[(dataset[\"POKOJE\"] <= max_rooms)]\n",
    "    if district is not None:\n",
    "        dataset = dataset[dataset[\"DZIELNICA\"] == district]\n",
    "    if market is not None:\n",
    "        dataset = dataset[(dataset[\"RYNEK\"] == market)]\n",
    "    return dataset"
   ]
  },
  {
   "cell_type": "code",
   "execution_count": 5,
   "metadata": {},
   "outputs": [],
   "source": [
    "def Histogram(variable, dataset):\n",
    "    \n",
    "    \"\"\"function for plotting histogram of variable, return plot\"\"\"                           \n",
    "    dataset.hist(column=variable)\n",
    "    #if variable in (\"RYNEK\",\"PRZEDZIAŁ_POW\", \"DZIELNICA\"):\n",
    "    #    dataset_hist = dataset_hist[variable]\n",
    "    #    dataset_hist.value_counts().plot(kind = \"bar\", title = variable)\n",
    "    #else:\n",
    "    plt.title(\"Distribution of variable: \"+variable)\n",
    "    plt.xlabel(var_dictionary[variable])\n",
    "    plt.ylabel(\"Quantity\")\n",
    "    if variable == \"POKOJE\":\n",
    "        plt.xlim([0,6])\n",
    "    return plt.show()\n",
    "    "
   ]
  },
  {
   "cell_type": "code",
   "execution_count": 6,
   "metadata": {},
   "outputs": [],
   "source": [
    "def Statistics(dataset):\n",
    "    print(\"Overall statistic of dataset:\")\n",
    "    print(\"Number of offers all: \", len(dataset.index))\n",
    "    print(\"Number of offers in district:\\n\", dataset.groupby([\"DZIELNICA\"]).size().reset_index(name=\"Offers\").sort_values(by=\"Offers\", ascending = False), \"\\n\")\n",
    "    try:\n",
    "        print(\"Number of offers on primary market: \", len(dataset[(dataset[\"RYNEK\"] == \"pierwotny\")].index))\n",
    "        print(\"Number of offers on secondary market: \", len(dataset[(dataset[\"RYNEK\"] == \"wtórny\")].index))\n",
    "        print(\"Average price for square meter: {:0,.2f}\".format(dataset[\"CENA_M2\"].mean()))\n",
    "        print(\"Average price for square meter primary market: {:0,.2f}\".format(dataset[(dataset[\"RYNEK\"] == \"pierwotny\")][\"CENA_M2\"].mean()))\n",
    "        print(\"Average price for square meter secondary market: {:0,.2f}\".format(dataset[(dataset[\"RYNEK\"] == \"wtórny\")][\"CENA_M2\"].mean()))\n",
    "        print(\"Average surface of flat: {:0,.2f}\".format(dataset[\"POWIERZCHNIA\"].mean()))\n",
    "        print(\"Average surface of flat on primary market: {:0,.2f}\".format(dataset[(dataset[\"RYNEK\"] == \"pierwotny\")][\"POWIERZCHNIA\"].mean()))\n",
    "        print(\"Average surface of flat on secondary market: {:0,.2f}\".format(dataset[(dataset[\"RYNEK\"] == \"wtórny\")][\"POWIERZCHNIA\"].mean()))\n",
    "        print(\"Average price all: {:0,.2f}\".format(dataset[\"CENA\"].mean()))\n",
    "        print(\"Average price on primary market: {:0,.2f}\".format(dataset[(dataset[\"RYNEK\"] == \"pierwotny\")][\"CENA\"].mean()))\n",
    "        print(\"Average price on secondary market: {:0,.2f}\".format(dataset[(dataset[\"RYNEK\"] == \"wtórny\")][\"CENA\"].mean()))\n",
    "        print(\"Max price: {:0,.2f}\".format(max(dataset[\"CENA\"])))\n",
    "        print(\"Max price on primary market: {:0,.2f}\".format(max(dataset[(dataset[\"RYNEK\"] == \"pierwotny\")][\"CENA\"])))\n",
    "        print(\"Max price on secondary market: {:0,.2f}\".format(max(dataset[(dataset[\"RYNEK\"] == \"wtórny\")][\"CENA\"])))\n",
    "        print(\"Min price: {:0,.2f}\".format(min(dataset[\"CENA\"])))\n",
    "        print(\"Min price on primary market: {:0,.2f}\".format(min(dataset[(dataset[\"RYNEK\"] == \"pierwotny\")][\"CENA\"])))\n",
    "        print(\"Min price on secondary market: {:0,.2f}\".format(min(dataset[(dataset[\"RYNEK\"] == \"wtórny\")][\"CENA\"])))\n",
    "    except ValueError:\n",
    "        print(\"\\nWarning: You have set filter on market - some data is unavaiable\")\n",
    "        \n",
    "\n",
    "    "
   ]
  },
  {
   "cell_type": "code",
   "execution_count": 7,
   "metadata": {},
   "outputs": [],
   "source": [
    "def ShapiroResults(dataset, variable):\n",
    "    shapiro_results = scipy.stats.shapiro(dataset[[variable]])\n",
    "    if shapiro_results[1] <= 0.0001:\n",
    "        asterisk = \"****\"\n",
    "    elif shapiro_results[1] <=0.001:\n",
    "        asterisk = \"***\"\n",
    "    elif shapiro_results[1] <= 0.01:\n",
    "        asterisk = \"**\"\n",
    "    elif shapiro_results[1] <= 0.01:\n",
    "        asterisk = \"**\"\n",
    "    elif shapiro_results[1] <= 0.05:\n",
    "        asterisk = \"*\"\n",
    "    else:\n",
    "        asterisk = \"ns\"\n",
    "    print(\"Test for: \", var_dictionary[variable])\n",
    "    print(\"Test Statistics: \", shapiro_results[0])\n",
    "    print(\"p-value\", shapiro_results[1], asterisk,\"\\n\")\n",
    "    \n"
   ]
  },
  {
   "cell_type": "markdown",
   "metadata": {},
   "source": [
    "## 4. Dataset\n",
    "Dataset is a csv file and content data about flats for sale in Poznan in February 2018 from website olx.pl. I have collected data by web scraping method. All code for import data is in scripts into repository. In this analyse I use DataFrame from pandas. "
   ]
  },
  {
   "cell_type": "code",
   "execution_count": 8,
   "metadata": {},
   "outputs": [],
   "source": [
    "dataset = pd.read_csv(\"C:/Users/Przemek/PycharmProjects/Real estate scrapping OtoDom/real_estate_data.csv\", \n",
    "                      sep=\";\",index_col=2)\n",
    "dataset = pd.DataFrame(dataset)"
   ]
  },
  {
   "cell_type": "markdown",
   "metadata": {},
   "source": [
    "In dataset exist duplicated data - for example awarded offers which are on every page, so in below code I delete duplciates data"
   ]
  },
  {
   "cell_type": "code",
   "execution_count": 9,
   "metadata": {},
   "outputs": [],
   "source": [
    "dataset = dataset[~dataset.index.duplicated(keep=\"first\")]"
   ]
  },
  {
   "cell_type": "markdown",
   "metadata": {},
   "source": [
    "It is not neccessary but I have added colum with ranges of surface based on function <i>Range</i>"
   ]
  },
  {
   "cell_type": "code",
   "execution_count": 10,
   "metadata": {},
   "outputs": [],
   "source": [
    "dataset[\"PRZEDZIAŁ_POW\"] = Range(dataset[\"POWIERZCHNIA\"])"
   ]
  },
  {
   "cell_type": "markdown",
   "metadata": {},
   "source": [
    "# Analysis\n",
    "\n",
    "## 1. Overall summary\n",
    "\n",
    "In this point you can see, some particular statistics about data."
   ]
  },
  {
   "cell_type": "code",
   "execution_count": 11,
   "metadata": {},
   "outputs": [
    {
     "name": "stdout",
     "output_type": "stream",
     "text": [
      "Overall statistic of dataset:\n",
      "Number of offers all:  3214\n",
      "Number of offers in district:\n",
      "                DZIELNICA  Offers\n",
      "3               Grunwald     554\n",
      "28                 Wilda     301\n",
      "19                Rataje     186\n",
      "30             Winogrady     157\n",
      "8                 Jeżyce     150\n",
      "22          Stare Miasto     149\n",
      "13            Naramowice     128\n",
      "16              Piątkowo     105\n",
      "35                Łazarz      87\n",
      "17              Podolany      79\n",
      "4                Górczyn      71\n",
      "21                Sołacz      57\n",
      "24             Strzeszyn      50\n",
      "2                 Dębiec      37\n",
      "14                Ogrody      37\n",
      "38                Żegrze      29\n",
      "23             Starołęka      22\n",
      "25          Szczepankowo      22\n",
      "36                Śródka      21\n",
      "5               Głuszyna      18\n",
      "6                 Główna      16\n",
      "1               Chartowo      13\n",
      "29               Winiary      12\n",
      "32                Zawady      10\n",
      "0              Antoninek       8\n",
      "9               Junikowo       8\n",
      "33             Zieliniec       7\n",
      "20            Smochowice       5\n",
      "31                  Wola       3\n",
      "27           Warszawskie       3\n",
      "7   Jana III Sobieskiego       2\n",
      "26              Umultowo       2\n",
      "10            Komandoria       2\n",
      "34                Ławica       2\n",
      "11                Kotowo       2\n",
      "12               Morasko       1\n",
      "18             Pokrzywno       1\n",
      "37            Świerczewo       1\n",
      "15         Ostrów Tumski       1 \n",
      "\n",
      "Number of offers on primary market:  1418\n",
      "Number of offers on secondary market:  1795\n",
      "Average price for square meter: 6,510.61\n",
      "Average price for square meter primary market: 6,560.25\n",
      "Average price for square meter secondary market: 6,471.39\n",
      "Average surface of flat: 60.16\n",
      "Average surface of flat on primary market: 55.70\n",
      "Average surface of flat on secondary market: 63.67\n",
      "Average price all: 386,196.84\n",
      "Average price on primary market: 360,391.75\n",
      "Average price on secondary market: 406,582.14\n",
      "Max price: 5,756,000.00\n",
      "Max price on primary market: 4,674,880.00\n",
      "Max price on secondary market: 5,756,000.00\n",
      "Min price: 99,000.00\n",
      "Min price on primary market: 128,361.00\n",
      "Min price on secondary market: 99,000.00\n"
     ]
    }
   ],
   "source": [
    "Statistics(dataset)"
   ]
  },
  {
   "cell_type": "markdown",
   "metadata": {},
   "source": [
    "## 2. Locally interactive histogram\n",
    "\n",
    "Main idea of this analysis part was - user self service. Unfortunately this interactive histogram not works via HTML - I still cannot embeed <i>interact</i> input sliders and histogram to HTML. But it works locally, so if you want check this part of analysis and enjoy data by your own assumptions you can open it in Jupyter. In this part you can change price, year, market, surface, rooms, district and check how looks histogram with different inputs control. "
   ]
  },
  {
   "cell_type": "code",
   "execution_count": 12,
   "metadata": {},
   "outputs": [
    {
     "data": {
      "application/vnd.jupyter.widget-view+json": {
       "model_id": "590f1f6fc1c5461a8e7443aac3565987",
       "version_major": 2,
       "version_minor": 0
      },
      "text/html": [
       "<p>Failed to display Jupyter Widget of type <code>interactive</code>.</p>\n",
       "<p>\n",
       "  If you're reading this message in the Jupyter Notebook or JupyterLab Notebook, it may mean\n",
       "  that the widgets JavaScript is still loading. If this message persists, it\n",
       "  likely means that the widgets JavaScript library is either not installed or\n",
       "  not enabled. See the <a href=\"https://ipywidgets.readthedocs.io/en/stable/user_install.html\">Jupyter\n",
       "  Widgets Documentation</a> for setup instructions.\n",
       "</p>\n",
       "<p>\n",
       "  If you're reading this message in another frontend (for example, a static\n",
       "  rendering on GitHub or <a href=\"https://nbviewer.jupyter.org/\">NBViewer</a>),\n",
       "  it may mean that your frontend doesn't currently support widgets.\n",
       "</p>\n"
      ],
      "text/plain": [
       "interactive(children=(Dropdown(description='variable', options=('CENA', 'CENA_M2', 'POWIERZCHNIA', 'POKOJE', 'ROK_BUDOWY', 'DZIELNICA'), value='CENA'), Output()), _dom_classes=('widget-interact',))"
      ]
     },
     "metadata": {},
     "output_type": "display_data"
    },
    {
     "data": {
      "text/plain": [
       "<function __main__.Histogram>"
      ]
     },
     "metadata": {},
     "output_type": "display_data"
    }
   ],
   "source": [
    "#To narazei bedzie niedzialalo - zmiana podejscia\n",
    "import matplotlib.pyplot as plt\n",
    "plt.rcParams[\"figure.figsize\"] = [12,9]\n",
    "t = interact(Histogram,variable = analysis_headers, dataset = fixed(dataset))\n",
    "display(t)\n"
   ]
  },
  {
   "cell_type": "markdown",
   "metadata": {},
   "source": [
    "## 3. Static analysis of different variables\n",
    "\n",
    "In this part of statement you can see distribution of different variables with different conditions. For me the most interesting flats are:\n",
    "* 2/3 rooms\n",
    "* no matter of type of market\n",
    "* surface between 40 and 65 square meters\n",
    "* building shoudn't be old, so year of building > 2005 \n",
    "* price between 230k and 330k \n",
    "\n",
    "At the begginig I use Shapiro Wilk test to ensure, if data with above condtions has normallity distibution.\n",
    "\n",
    "Let's check data!"
   ]
  },
  {
   "cell_type": "markdown",
   "metadata": {},
   "source": [
    "## Shapiro Wilk test\n",
    "\n",
    "* <i>H0:</i> Price per square meter in price range 230k - 330k has normallity distribuation\n",
    "\n",
    "Filtered data sample has really low p-value, so we don't have reason to exclude <i>H0</i>. We can assume that distribution of Price, Price_M2, Surface, Rooms is normally. It's good news because thanks that we can use a lot of statistician methods for this sample"
   ]
  },
  {
   "cell_type": "code",
   "execution_count": 13,
   "metadata": {},
   "outputs": [
    {
     "name": "stdout",
     "output_type": "stream",
     "text": [
      "Test for:  Price\n",
      "Test Statistics:  0.969916582107544\n",
      "p-value 3.5854731184926936e-13 **** \n",
      "\n",
      "Test for:  Price_M2\n",
      "Test Statistics:  0.9915907979011536\n",
      "p-value 2.8457874577725306e-05 **** \n",
      "\n",
      "Test for:  Surface\n",
      "Test Statistics:  0.9480193853378296\n",
      "p-value 7.44197853501708e-18 **** \n",
      "\n",
      "Test for:  Rooms\n",
      "Test Statistics:  0.5707506537437439\n",
      "p-value 2.6624670822171524e-43 **** \n",
      "\n"
     ]
    }
   ],
   "source": [
    "fdataset = Filtered(dataset, min_rooms = 2, max_rooms = 3, min_surface = 40, max_surface = 65, price_min = 230000,\n",
    "                    price_max = 330000)\n",
    "\n",
    "ShapiroResults(fdataset,\"CENA\")\n",
    "ShapiroResults(fdataset,\"CENA_M2\")\n",
    "ShapiroResults(fdataset,\"POWIERZCHNIA\")\n",
    "ShapiroResults(fdataset,\"POKOJE\")"
   ]
  },
  {
   "cell_type": "markdown",
   "metadata": {},
   "source": [
    "## Price"
   ]
  },
  {
   "cell_type": "code",
   "execution_count": 14,
   "metadata": {},
   "outputs": [
    {
     "data": {
      "image/png": "[encoded data removed]",
      "text/plain": [
       "<matplotlib.figure.Figure at 0x12a7cc18>"
      ]
     },
     "metadata": {},
     "output_type": "display_data"
    },
    {
     "name": "stdout",
     "output_type": "stream",
     "text": [
      "Overall statistic of dataset:\n",
      "Number of offers all:  1733\n",
      "Number of offers in district:\n",
      "                DZIELNICA  Offers\n",
      "3               Grunwald     318\n",
      "23                 Wilda     156\n",
      "15                Rataje     103\n",
      "25             Winogrady      82\n",
      "18          Stare Miasto      75\n",
      "13              Piątkowo      69\n",
      "11            Naramowice      67\n",
      "8                 Jeżyce      59\n",
      "4                Górczyn      42\n",
      "14              Podolany      37\n",
      "30                Łazarz      34\n",
      "20             Strzeszyn      32\n",
      "17                Sołacz      30\n",
      "33                Żegrze      24\n",
      "2                 Dębiec      23\n",
      "12                Ogrody      22\n",
      "19             Starołęka      14\n",
      "31                Śródka      11\n",
      "1               Chartowo      10\n",
      "6                 Główna       8\n",
      "24               Winiary       8\n",
      "5               Głuszyna       7\n",
      "9               Junikowo       3\n",
      "22           Warszawskie       2\n",
      "7   Jana III Sobieskiego       2\n",
      "10            Komandoria       2\n",
      "27                Zawady       2\n",
      "16            Smochowice       2\n",
      "0              Antoninek       2\n",
      "21              Umultowo       1\n",
      "26                  Wola       1\n",
      "28             Zieliniec       1\n",
      "29                Ławica       1\n",
      "32            Świerczewo       1 \n",
      "\n",
      "Number of offers on primary market:  849\n",
      "Number of offers on secondary market:  884\n",
      "Average price for square meter: 6,537.65\n",
      "Average price for square meter primary market: 6,556.33\n",
      "Average price for square meter secondary market: 6,519.72\n",
      "Average surface of flat: 51.36\n",
      "Average surface of flat on primary market: 50.71\n",
      "Average surface of flat on secondary market: 51.99\n",
      "Average price all: 334,756.75\n",
      "Average price on primary market: 331,778.53\n",
      "Average price on secondary market: 337,617.05\n",
      "Max price: 850,000.00\n",
      "Max price on primary market: 750,000.00\n",
      "Max price on secondary market: 850,000.00\n",
      "Min price: 99,000.00\n",
      "Min price on primary market: 191,000.00\n",
      "Min price on secondary market: 99,000.00\n"
     ]
    }
   ],
   "source": [
    "fdataset = Filtered(dataset, min_rooms = 2, max_rooms = 3, min_surface = 40, max_surface = 65)\n",
    "Histogram(\"CENA\", fdataset)\n",
    "Statistics(fdataset)"
   ]
  },
  {
   "cell_type": "code",
   "execution_count": 15,
   "metadata": {},
   "outputs": [
    {
     "data": {
      "image/png": "[encoded data removed]",
      "text/plain": [
       "<matplotlib.figure.Figure at 0x12d11b00>"
      ]
     },
     "metadata": {},
     "output_type": "display_data"
    },
    {
     "name": "stdout",
     "output_type": "stream",
     "text": [
      "Overall statistic of dataset:\n",
      "Number of offers all:  957\n",
      "Number of offers in district:\n",
      "                DZIELNICA  Offers\n",
      "3               Grunwald     176\n",
      "22                 Wilda      98\n",
      "15                Rataje      64\n",
      "24             Winogrady      63\n",
      "13              Piątkowo      40\n",
      "11            Naramowice      36\n",
      "14              Podolany      35\n",
      "8                 Jeżyce      32\n",
      "4                Górczyn      17\n",
      "30                Żegrze      16\n",
      "20             Strzeszyn      14\n",
      "28                Łazarz      14\n",
      "2                 Dębiec      14\n",
      "18          Stare Miasto      13\n",
      "12                Ogrody      11\n",
      "19             Starołęka      10\n",
      "1               Chartowo       7\n",
      "17                Sołacz       7\n",
      "23               Winiary       6\n",
      "6                 Główna       6\n",
      "29                Śródka       5\n",
      "5               Głuszyna       3\n",
      "26                Zawady       2\n",
      "0              Antoninek       2\n",
      "21           Warszawskie       2\n",
      "7   Jana III Sobieskiego       2\n",
      "25                  Wola       1\n",
      "9               Junikowo       1\n",
      "27             Zieliniec       1\n",
      "16            Smochowice       1\n",
      "10            Komandoria       1 \n",
      "\n",
      "Number of offers on primary market:  490\n",
      "Number of offers on secondary market:  467\n",
      "Average price for square meter: 6,097.88\n",
      "Average price for square meter primary market: 6,273.43\n",
      "Average price for square meter secondary market: 5,913.69\n",
      "Average surface of flat: 48.22\n",
      "Average surface of flat on primary market: 47.24\n",
      "Average surface of flat on secondary market: 49.25\n",
      "Average price all: 291,659.05\n",
      "Average price on primary market: 294,725.76\n",
      "Average price on secondary market: 288,441.29\n",
      "Max price: 330,000.00\n",
      "Max price on primary market: 329,524.00\n",
      "Max price on secondary market: 330,000.00\n",
      "Min price: 230,000.00\n",
      "Min price on primary market: 232,904.00\n",
      "Min price on secondary market: 230,000.00\n"
     ]
    }
   ],
   "source": [
    "fdataset = Filtered(dataset, min_rooms = 2, max_rooms = 3, min_surface = 40, max_surface = 65, price_min = 230000,\n",
    "                    price_max = 330000)\n",
    "Histogram(\"CENA\", fdataset)\n",
    "Statistics(fdataset)"
   ]
  },
  {
   "cell_type": "code",
   "execution_count": 16,
   "metadata": {},
   "outputs": [
    {
     "data": {
      "image/png": "[encoded data removed]",
      "text/plain": [
       "<matplotlib.figure.Figure at 0x12dea400>"
      ]
     },
     "metadata": {},
     "output_type": "display_data"
    },
    {
     "name": "stdout",
     "output_type": "stream",
     "text": [
      "Overall statistic of dataset:\n",
      "Number of offers all:  467\n",
      "Number of offers in district:\n",
      "                DZIELNICA  Offers\n",
      "3               Grunwald      67\n",
      "14                Rataje      64\n",
      "23             Winogrady      52\n",
      "10            Naramowice      33\n",
      "21                 Wilda      30\n",
      "7                 Jeżyce      25\n",
      "12              Piątkowo      21\n",
      "2                 Dębiec      14\n",
      "25                Łazarz      13\n",
      "17          Stare Miasto       9\n",
      "11                Ogrody       8\n",
      "27                Żegrze       8\n",
      "16                Sołacz       7\n",
      "22               Winiary       6\n",
      "1               Chartowo       5\n",
      "18             Starołęka       4\n",
      "19             Strzeszyn       4\n",
      "4                Górczyn       4\n",
      "13              Podolany       3\n",
      "26                Śródka       3\n",
      "20           Warszawskie       2\n",
      "6   Jana III Sobieskiego       2\n",
      "5                 Główna       2\n",
      "0              Antoninek       2\n",
      "9             Komandoria       1\n",
      "15            Smochowice       1\n",
      "8               Junikowo       1\n",
      "24                  Wola       1 \n",
      "\n",
      "Number of offers on primary market:  0\n",
      "Number of offers on secondary market:  467\n",
      "Average price for square meter: 5,913.69\n",
      "Average price for square meter primary market: nan\n",
      "Average price for square meter secondary market: 5,913.69\n",
      "Average surface of flat: 49.25\n",
      "Average surface of flat on primary market: nan\n",
      "Average surface of flat on secondary market: 49.25\n",
      "Average price all: 288,441.29\n",
      "Average price on primary market: nan\n",
      "Average price on secondary market: 288,441.29\n",
      "Max price: 330,000.00\n",
      "\n",
      "Warning: You have set filter on market - some data is unavaiable\n"
     ]
    }
   ],
   "source": [
    "fdataset = Filtered(dataset, min_rooms = 2, max_rooms = 3, min_surface = 40, max_surface = 65, price_min = 230000,\n",
    "                  price_max = 330000, market = \"wtórny\")\n",
    "Histogram(\"CENA\", fdataset)\n",
    "Statistics(fdataset)"
   ]
  },
  {
   "cell_type": "code",
   "execution_count": 17,
   "metadata": {},
   "outputs": [
    {
     "data": {
      "image/png": "[encoded data removed]",
      "text/plain": [
       "<matplotlib.figure.Figure at 0x12dfb518>"
      ]
     },
     "metadata": {},
     "output_type": "display_data"
    },
    {
     "name": "stdout",
     "output_type": "stream",
     "text": [
      "Overall statistic of dataset:\n",
      "Number of offers all:  490\n",
      "Number of offers in district:\n",
      "        DZIELNICA  Offers\n",
      "1       Grunwald     109\n",
      "13         Wilda      68\n",
      "9       Podolany      32\n",
      "8       Piątkowo      19\n",
      "2        Górczyn      13\n",
      "14     Winogrady      11\n",
      "12     Strzeszyn      10\n",
      "19        Żegrze       8\n",
      "5         Jeżyce       7\n",
      "11     Starołęka       6\n",
      "10  Stare Miasto       4\n",
      "4         Główna       4\n",
      "7         Ogrody       3\n",
      "6     Naramowice       3\n",
      "3       Głuszyna       3\n",
      "15        Zawady       2\n",
      "18        Śródka       2\n",
      "0       Chartowo       2\n",
      "16     Zieliniec       1\n",
      "17        Łazarz       1 \n",
      "\n",
      "Number of offers on primary market:  490\n",
      "Number of offers on secondary market:  0\n",
      "Average price for square meter: 6,273.43\n",
      "Average price for square meter primary market: 6,273.43\n",
      "Average price for square meter secondary market: nan\n",
      "Average surface of flat: 47.24\n",
      "Average surface of flat on primary market: 47.24\n",
      "Average surface of flat on secondary market: nan\n",
      "Average price all: 294,725.76\n",
      "Average price on primary market: 294,725.76\n",
      "Average price on secondary market: nan\n",
      "Max price: 329,524.00\n",
      "Max price on primary market: 329,524.00\n",
      "\n",
      "Warning: You have set filter on market - some data is unavaiable\n"
     ]
    }
   ],
   "source": [
    "fdataset = Filtered(dataset, min_rooms = 2, max_rooms = 3, min_surface = 40, max_surface = 65, price_min = 230000,\n",
    "                    price_max = 330000, market = \"pierwotny\")\n",
    "Histogram(\"CENA\", fdataset)\n",
    "Statistics(fdataset)"
   ]
  },
  {
   "cell_type": "markdown",
   "metadata": {},
   "source": [
    "## Price per square meter\n",
    "\n",
    "It's short look into distribution of price per square meter for flats where price is in range 230k-330k. After first look into histogram (espacially in scondary market) I noticed that price per square meter can have gausiann distribuation. Related with this findings I check it by Shapiro-Wilk test with \n",
    "* <i>H0:</i> Price per square meter in price range 230k - 330k has normallity distribuation\n",
    "\n",
    "I ommited here global distiribution becuase it is really resemblence like price distribuation."
   ]
  },
  {
   "cell_type": "code",
   "execution_count": 18,
   "metadata": {},
   "outputs": [
    {
     "data": {
      "image/png": "[encoded data removed]",
      "text/plain": [
       "<matplotlib.figure.Figure at 0x12cb0cc0>"
      ]
     },
     "metadata": {},
     "output_type": "display_data"
    }
   ],
   "source": [
    "fdataset = Filtered(dataset, min_rooms = 2, max_rooms = 3, min_surface = 40, max_surface = 65, price_min = 230000,\n",
    "                    price_max = 330000)\n",
    "Histogram(\"CENA_M2\", fdataset)\n"
   ]
  },
  {
   "cell_type": "code",
   "execution_count": 19,
   "metadata": {},
   "outputs": [
    {
     "data": {
      "image/png": "[encoded data removed]",
      "text/plain": [
       "<matplotlib.figure.Figure at 0x12e60860>"
      ]
     },
     "metadata": {},
     "output_type": "display_data"
    }
   ],
   "source": [
    "fdataset = Filtered(dataset, min_rooms = 2, max_rooms = 3, min_surface = 40, max_surface = 65, price_min = 230000,\n",
    "                    price_max = 330000, market = \"wtórny\")\n",
    "Histogram(\"CENA_M2\", fdataset)"
   ]
  },
  {
   "cell_type": "code",
   "execution_count": 20,
   "metadata": {},
   "outputs": [
    {
     "data": {
      "image/png": "[encoded data removed]",
      "text/plain": [
       "<matplotlib.figure.Figure at 0x13598e80>"
      ]
     },
     "metadata": {},
     "output_type": "display_data"
    }
   ],
   "source": [
    "fdataset = Filtered(dataset, min_rooms = 2, max_rooms = 3, min_surface = 40, max_surface = 65, price_min = 230000,\n",
    "                    price_max = 330000, market = \"pierwotny\")\n",
    "Histogram(\"CENA_M2\", fdataset)\n"
   ]
  },
  {
   "cell_type": "markdown",
   "metadata": {},
   "source": [
    "## Surface"
   ]
  },
  {
   "cell_type": "code",
   "execution_count": 21,
   "metadata": {},
   "outputs": [
    {
     "data": {
      "image/png": "[encoded data removed]",
      "text/plain": [
       "<matplotlib.figure.Figure at 0x12ea65f8>"
      ]
     },
     "metadata": {},
     "output_type": "display_data"
    }
   ],
   "source": [
    "fdataset = Filtered(dataset, min_rooms = 2, max_rooms = 3, min_surface = 40, max_surface = 65, price_min = 230000,\n",
    "                    price_max = 330000)\n",
    "Histogram(\"POWIERZCHNIA\", fdataset)"
   ]
  },
  {
   "cell_type": "markdown",
   "metadata": {},
   "source": [
    "## Rooms"
   ]
  },
  {
   "cell_type": "code",
   "execution_count": 24,
   "metadata": {},
   "outputs": [
    {
     "data": {
      "image/png": "[encoded data removed]",
      "text/plain": [
       "<matplotlib.figure.Figure at 0x139db6d8>"
      ]
     },
     "metadata": {},
     "output_type": "display_data"
    }
   ],
   "source": [
    "fdataset = Filtered(dataset, min_rooms = 2, max_rooms = 3, min_surface = 40, max_surface = 65, price_min = 230000,\n",
    "                    price_max = 330000)\n",
    "Histogram(\"POKOJE\", fdataset)"
   ]
  },
  {
   "cell_type": "markdown",
   "metadata": {},
   "source": [
    "* pobawic sie dzielnicami, jak to sie tam rozklada, sprawdzic srednia cene etc - bardziej takie groupby na pandas dataframe\n",
    "* sprawdzić korelacje róznych zmiennych, jak na siebie wpływaja\n",
    "* sprobowac zrobic regresje, svm, drzewo, jakis klasyfikator, porozbijac te dane\n",
    "* sprawdzic mediany dla tych cen - dodaj to do funkcji statystiki\n",
    "* zaleznosci mozna na calym zbiorze np cena vs liczba pokoi, cena vs wyposazenie\n",
    "* cena od powierzchni ale nie histogramy\n",
    "* ceny wzgledem dzielnic tez na calosci - glownie mediany\n",
    "* wiecej danych jakosciowych wez ziomeczku obczaj\n",
    "* sprobuj sie pobawic regresja, svm etc"
   ]
  }
 ],
 "metadata": {
  "kernelspec": {
   "display_name": "Python 3",
   "language": "python",
   "name": "python3"
  },
  "language_info": {
   "codemirror_mode": {
    "name": "ipython",
    "version": 3
   },
   "file_extension": ".py",
   "mimetype": "text/x-python",
   "name": "python",
   "nbconvert_exporter": "python",
   "pygments_lexer": "ipython3",
   "version": "3.4.3"
  }
 },
 "nbformat": 4,
 "nbformat_minor": 2
}
