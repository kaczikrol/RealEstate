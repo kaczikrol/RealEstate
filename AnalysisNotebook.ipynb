{
 "cells": [
  {
   "cell_type": "markdown",
   "metadata": {},
   "source": [
    "# Poznań - Real estate market analysis and ML\n",
    "\n",
    "## Description\n",
    "\n",
    "## 1. Introduce\n",
    "\n",
    "Main purpose of this document is understanding of situation on Poznan flat market. Second part of document is trying to fit ML model to predict price of flat. "
   ]
  },
  {
   "cell_type": "markdown",
   "metadata": {},
   "source": [
    "## 2. Libraries"
   ]
  },
  {
   "cell_type": "code",
   "execution_count": 1,
   "metadata": {},
   "outputs": [],
   "source": [
    "import pandas as pd\n",
    "import numpy as np\n",
    "import matplotlib.pyplot as plt\n",
    "import math\n",
    "import random\n",
    "import scipy\n",
    "import plotly.plotly as py\n",
    "import plotly.graph_objs as go\n",
    "import sklearn\n",
    "from sklearn import svm\n",
    "from scipy import stats\n",
    "from matplotlib import style\n",
    "from ipywidgets import interact, interactive, fixed, interact_manual\n",
    "import ipywidgets as widgets\n",
    "from IPython.core.display import display, HTML\n",
    "style.use(\"fivethirtyeight\")\n",
    "\n",
    "%matplotlib inline\n",
    "plt.rcParams[\"figure.figsize\"] = [9,6]\n",
    "pd.set_option('float_format', '{:.0f}'.format)"
   ]
  },
  {
   "cell_type": "markdown",
   "metadata": {},
   "source": [
    "## 3. User-definied functions"
   ]
  },
  {
   "cell_type": "code",
   "execution_count": 2,
   "metadata": {},
   "outputs": [],
   "source": [
    "analysis_headers = [\"CENA\", \"CENA_M2\", \"POWIERZCHNIA\", \"POKOJE\", \"ROK_BUDOWY\", \"DZIELNICA\"]\n",
    "district_headers = ['Antoninek','Zieliniec','Kobylepole','Chartowo','Fabianowo','Kotowo','Główna','Głuszyna',\n",
    "                    'Górczyn','Grunwald','Jana III Sobieskiego','Jeżyce','Junikowo','Kiekrz','Krzesiny',\n",
    "                    'Pokrzywno','Garaszewo','Krzyżowniki','Smochowice','Kwiatowe','Ławica','Morasko','Radojewo',\n",
    "                    'Naramowice','Winogrady','Ogrody','Ostrów Tumski','Śródka','Zawady','Komandoria','Piątkowo',\n",
    "                    'Podolany','Rataje','Sołacz','Stare Miasto','Stare Winogrady','Starołęka','Minikowo',\n",
    "                    'Marlewo','Stary Grunwald','Strzeszyn','Szczepankowo','Spławie','Krzesinki','Łazarz',\n",
    "                    'Świerczewo','Umultowo','Warszawskie','Pomet','Maltańskie','Wilda','Winiary','Wola',\n",
    "                    'Zielony Dębiec','Żegrze','Dębiec','','NaN','NA']\n",
    "var_dictionary   = {\"CENA\":\"Price\", \"CENA_M2\":\"Price_M2\", \"POWIERZCHNIA\":\"Surface\", \"POKOJE\":\"Rooms\", \n",
    "                    \"ROK_BUDOWY\":\"Year of building\", \"DZIELNICA\":\"District\"}"
   ]
  },
  {
   "cell_type": "code",
   "execution_count": 3,
   "metadata": {},
   "outputs": [],
   "source": [
    "def Filtered(dataset, price_min = None, price_max = None, start_year = None, end_year = None, min_surface = None, \n",
    "             max_surface = None, min_rooms = None, max_rooms = None, district = None, market = None):\n",
    "    \"\"\"function for data filter, returns dataframe\"\"\"\n",
    "    \n",
    "    if price_min is not None:\n",
    "        dataset = dataset[(dataset[\"CENA\"] >= price_min)]\n",
    "    if price_max is not None:\n",
    "        dataset = dataset[(dataset[\"CENA\"] <= price_max)]\n",
    "    if start_year is not None:\n",
    "        dataset = dataset[(dataset[\"ROK_BUDOWY\"] >= start_year)]\n",
    "    if end_year is not None:\n",
    "        dataset = dataset[(dataset[\"ROK_BUDOWY\"] <= end_year)]\n",
    "    if min_surface is not None:\n",
    "        dataset = dataset[(dataset[\"POWIERZCHNIA\"] >= min_surface)]\n",
    "    if max_surface is not None:\n",
    "        dataset = dataset[(dataset[\"POWIERZCHNIA\"] <= max_surface)]\n",
    "    if min_rooms is not None:\n",
    "        dataset = dataset[(dataset[\"POKOJE\"] >= min_rooms)]\n",
    "    if max_rooms is not None:\n",
    "        dataset = dataset[(dataset[\"POKOJE\"] <= max_rooms)]\n",
    "    if district is not None:\n",
    "        dataset = dataset[dataset[\"DZIELNICA\"] == district]\n",
    "    if market is not None:\n",
    "        dataset = dataset[(dataset[\"RYNEK\"] == market)]\n",
    "    return dataset"
   ]
  },
  {
   "cell_type": "code",
   "execution_count": 4,
   "metadata": {},
   "outputs": [],
   "source": [
    "def HistogramPlot(variable, dataset):\n",
    "    \"\"\"function for plotting data, returns histogram plot\"\"\"\n",
    "    \n",
    "    data_array = np.array((dataset[[variable]]))\n",
    "    hist_data = np.histogram(data_array)\n",
    "    binsize = hist_data[1][1] - hist_data[1][0]\n",
    "    \n",
    "    trace1 = go.Histogram(\n",
    "        x=data_array,\n",
    "        histnorm='count',\n",
    "        name=random.randint(0,100000),\n",
    "        autobinx=False,\n",
    "        xbins=dict(\n",
    "            start=hist_data[1][0],\n",
    "            end=hist_data[1][-1],\n",
    "            size=binsize)\n",
    "    )\n",
    "\n",
    "    trace_data = [trace1]\n",
    "    layout = go.Layout(\n",
    "        bargroupgap=0.3,\n",
    "    #    title='Distribution of: '+variable,\n",
    "    #    xaxis=dict(\n",
    "    #        title=variable,\n",
    "    #        titlefont=dict(\n",
    "    #            family='Courier New, monospace',\n",
    "    #            size=18,\n",
    "    #            color='#7f7f7f'\n",
    "    #            )\n",
    "    #        ),\n",
    "    #    yaxis=dict(\n",
    "    #        title='Number of offers',\n",
    "    #        titlefont=dict(\n",
    "    #            family='Courier New, monospace',\n",
    "    #            size=18,\n",
    "    #            color='#7f7f7f'\n",
    "    #        )\n",
    "    #    )\n",
    "    )\n",
    "    fig = go.Figure(data=trace_data, layout=layout)\n",
    "    return py.iplot(fig, filename='styling-names')\n",
    "    "
   ]
  },
  {
   "cell_type": "code",
   "execution_count": 5,
   "metadata": {},
   "outputs": [],
   "source": [
    "def Statistics(dataset):\n",
    "    \"\"\"function for statistics description data, returns dataframe\"\"\"\n",
    "    pd.set_option('float_format', '{:.0f}'.format)\n",
    "    \n",
    "    df = pd.DataFrame()\n",
    "    try:\n",
    "        df = df.append({\"Description\":\"Number of offers all:\" , \"Value\":len(dataset.index)},\n",
    "                       ignore_index=True)\n",
    "        df = df.append({\"Description\":\"Number of offers on primary market:\" , \"Value\":len(dataset[(dataset[\"RYNEK\"] == \"pierwotny\")].index)},\n",
    "                       ignore_index=True)\n",
    "        df = df.append({\"Description\":\"Number of offers on secondary market:\" , \"Value\":len(dataset[(dataset[\"RYNEK\"] == \"wtórny\")].index)},\n",
    "                       ignore_index=True)\n",
    "        df = df.append({\"Description\":\"Average price for square meter:\" , \"Value\":dataset[\"CENA_M2\"].mean()},\n",
    "                       ignore_index=True)\n",
    "        df = df.append({\"Description\":\"Average price for square meter primary market:\" , \"Value\":dataset[(dataset[\"RYNEK\"] == \"pierwotny\")][\"CENA_M2\"].mean()},\n",
    "                       ignore_index=True)\n",
    "        df = df.append({\"Description\":\"Average price for square meter secondary market:\" , \"Value\":dataset[(dataset[\"RYNEK\"] == \"wtórny\")][\"CENA_M2\"].mean()},\n",
    "                       ignore_index=True)\n",
    "        df = df.append({\"Description\":\"Average surface of flat:\" , \"Value\":dataset[\"POWIERZCHNIA\"].mean()},\n",
    "                       ignore_index=True)\n",
    "        df = df.append({\"Description\":\"Average surface of flat on primary market:\" , \"Value\":dataset[(dataset[\"RYNEK\"] == \"pierwotny\")][\"POWIERZCHNIA\"].mean()},\n",
    "                       ignore_index=True)\n",
    "        df = df.append({\"Description\":\"Average surface of flat on secondary market:\" , \"Value\":dataset[(dataset[\"RYNEK\"] == \"wtórny\")][\"POWIERZCHNIA\"].mean()},\n",
    "                       ignore_index=True)\n",
    "        df = df.append({\"Description\":\"Average price all:\" , \"Value\":dataset[\"CENA\"].mean()},\n",
    "                       ignore_index=True)\n",
    "        df = df.append({\"Description\":\"Average price on primary market:\" , \"Value\":dataset[(dataset[\"RYNEK\"] == \"pierwotny\")][\"CENA\"].mean()},\n",
    "                       ignore_index=True)\n",
    "        df = df.append({\"Description\":\"Average price on secondary market:\" , \"Value\":dataset[(dataset[\"RYNEK\"] == \"wtórny\")][\"CENA\"].mean()},\n",
    "                       ignore_index=True)\n",
    "        df = df.append({\"Description\":\"Max price:\" , \"Value\":max(dataset[\"CENA\"])},\n",
    "                       ignore_index=True)\n",
    "        df = df.append({\"Description\":\"Max price on primary market:\" , \"Value\":max(dataset[(dataset[\"RYNEK\"] == \"pierwotny\")][\"CENA\"])},\n",
    "                       ignore_index=True)\n",
    "        df = df.append({\"Description\":\"Max price on secondary market:\" , \"Value\":max(dataset[(dataset[\"RYNEK\"] == \"wtórny\")][\"CENA\"])},\n",
    "                       ignore_index=True)\n",
    "        df = df.append({\"Description\":\"Min price:\" , \"Value\":min(dataset[\"CENA\"])},\n",
    "                       ignore_index=True)\n",
    "        df = df.append({\"Description\":\"Min price on primary market:\" , \"Value\":min(dataset[(dataset[\"RYNEK\"] == \"pierwotny\")][\"CENA\"])},\n",
    "                       ignore_index=True)\n",
    "        df = df.append({\"Description\":\"Min price on secondary market:\" , \"Value\":min(dataset[(dataset[\"RYNEK\"] == \"wtórny\")][\"CENA\"])},\n",
    "                       ignore_index=True)\n",
    "    except ValueError:\n",
    "        print(\"\\nWarning: You have set filter on market - some data is unavaiable\")\n",
    "    return display(HTML(df.to_html(index=False)))"
   ]
  },
  {
   "cell_type": "code",
   "execution_count": 6,
   "metadata": {},
   "outputs": [],
   "source": [
    "def AveragePerVariable(dataset, variable_group, variable_value1):\n",
    "    dataset = dataset[[variable_group, variable_value1]]\n",
    "    dataset = dataset.groupby([variable_group]).agg([\"mean\",\"size\"])\n",
    "    if variable_value1 == \"ROK_BUDOWY\":\n",
    "        dataset = dataset.sort_values(by = (variable_value1, \"size\"), ascending = False)\n",
    "    else:\n",
    "        dataset = dataset.sort_values(by = (variable_value1, \"mean\"), ascending = False)\n",
    "    dataset = dataset.round(0)\n",
    "    return dataset"
   ]
  },
  {
   "cell_type": "code",
   "execution_count": 7,
   "metadata": {},
   "outputs": [],
   "source": [
    "def ShapiroResults(dataset, variable):\n",
    "    shapiro_results = scipy.stats.shapiro(dataset[[variable]])\n",
    "    if shapiro_results[1] <= 0.0001:\n",
    "        asterisk = \"****\"\n",
    "    elif shapiro_results[1] <=0.001:\n",
    "        asterisk = \"***\"\n",
    "    elif shapiro_results[1] <= 0.01:\n",
    "        asterisk = \"**\"\n",
    "    elif shapiro_results[1] <= 0.01:\n",
    "        asterisk = \"**\"\n",
    "    elif shapiro_results[1] <= 0.05:\n",
    "        asterisk = \"*\"\n",
    "    else:\n",
    "        asterisk = \"ns\"\n",
    "    df = pd.DataFrame()\n",
    "    df = df.append({\"Test for\":var_dictionary[variable],\"Test Statistics\":shapiro_results[0],\n",
    "                    \"p-value\":shapiro_results[1], \"Label\":asterisk}, ignore_index = True)\n",
    "    df = df[[\"Test for\", \"Test Statistics\", \"p-value\", \"Label\"]]\n",
    "    return display(HTML(df.to_html(index=False)))\n",
    "    \n"
   ]
  },
  {
   "cell_type": "markdown",
   "metadata": {},
   "source": [
    "## 4. Dataset\n",
    "Dataset is a csv file and content data about flats for sale in Poznan in February 2018 from website olx.pl. I have collected data by web scraping method. All code for import data is in scripts into repository. In this analyse I use DataFrame from pandas. "
   ]
  },
  {
   "cell_type": "code",
   "execution_count": 8,
   "metadata": {},
   "outputs": [],
   "source": [
    "dataset = pd.read_csv(\"C:/Users/Przemek/PycharmProjects/Real estate scrapping OtoDom/real_estate_data.csv\", \n",
    "                      sep=\";\",index_col=2)\n",
    "dataset = pd.DataFrame(dataset)"
   ]
  },
  {
   "cell_type": "markdown",
   "metadata": {},
   "source": [
    "In dataset exist duplicated data - for example awarded offers which are on every page, so in below code I delete duplciates data"
   ]
  },
  {
   "cell_type": "code",
   "execution_count": 9,
   "metadata": {},
   "outputs": [],
   "source": [
    "dataset = dataset[~dataset.index.duplicated(keep=\"first\")]"
   ]
  },
  {
   "cell_type": "markdown",
   "metadata": {},
   "source": [
    "# Analysis\n",
    "\n",
    "## 1. Overall summary\n",
    "\n",
    "In this point you can see, some particular statistics about data."
   ]
  },
  {
   "cell_type": "code",
   "execution_count": 10,
   "metadata": {},
   "outputs": [
    {
     "data": {
      "text/html": [
       "<table border=\"1\" class=\"dataframe\">\n",
       "  <thead>\n",
       "    <tr style=\"text-align: right;\">\n",
       "      <th>Description</th>\n",
       "      <th>Value</th>\n",
       "    </tr>\n",
       "  </thead>\n",
       "  <tbody>\n",
       "    <tr>\n",
       "      <td>Number of offers all:</td>\n",
       "      <td>3214</td>\n",
       "    </tr>\n",
       "    <tr>\n",
       "      <td>Number of offers on primary market:</td>\n",
       "      <td>1418</td>\n",
       "    </tr>\n",
       "    <tr>\n",
       "      <td>Number of offers on secondary market:</td>\n",
       "      <td>1795</td>\n",
       "    </tr>\n",
       "    <tr>\n",
       "      <td>Average price for square meter:</td>\n",
       "      <td>6511</td>\n",
       "    </tr>\n",
       "    <tr>\n",
       "      <td>Average price for square meter primary market:</td>\n",
       "      <td>6560</td>\n",
       "    </tr>\n",
       "    <tr>\n",
       "      <td>Average price for square meter secondary market:</td>\n",
       "      <td>6471</td>\n",
       "    </tr>\n",
       "    <tr>\n",
       "      <td>Average surface of flat:</td>\n",
       "      <td>60</td>\n",
       "    </tr>\n",
       "    <tr>\n",
       "      <td>Average surface of flat on primary market:</td>\n",
       "      <td>56</td>\n",
       "    </tr>\n",
       "    <tr>\n",
       "      <td>Average surface of flat on secondary market:</td>\n",
       "      <td>64</td>\n",
       "    </tr>\n",
       "    <tr>\n",
       "      <td>Average price all:</td>\n",
       "      <td>386197</td>\n",
       "    </tr>\n",
       "    <tr>\n",
       "      <td>Average price on primary market:</td>\n",
       "      <td>360392</td>\n",
       "    </tr>\n",
       "    <tr>\n",
       "      <td>Average price on secondary market:</td>\n",
       "      <td>406582</td>\n",
       "    </tr>\n",
       "    <tr>\n",
       "      <td>Max price:</td>\n",
       "      <td>5756000</td>\n",
       "    </tr>\n",
       "    <tr>\n",
       "      <td>Max price on primary market:</td>\n",
       "      <td>4674880</td>\n",
       "    </tr>\n",
       "    <tr>\n",
       "      <td>Max price on secondary market:</td>\n",
       "      <td>5756000</td>\n",
       "    </tr>\n",
       "    <tr>\n",
       "      <td>Min price:</td>\n",
       "      <td>99000</td>\n",
       "    </tr>\n",
       "    <tr>\n",
       "      <td>Min price on primary market:</td>\n",
       "      <td>128361</td>\n",
       "    </tr>\n",
       "    <tr>\n",
       "      <td>Min price on secondary market:</td>\n",
       "      <td>99000</td>\n",
       "    </tr>\n",
       "  </tbody>\n",
       "</table>"
      ],
      "text/plain": [
       "<IPython.core.display.HTML object>"
      ]
     },
     "metadata": {},
     "output_type": "display_data"
    }
   ],
   "source": [
    "Statistics(dataset)"
   ]
  },
  {
   "cell_type": "markdown",
   "metadata": {},
   "source": [
    "## 2. Static analysis of different variables\n",
    "\n",
    "In this part of statement you can see distribution of different variables with different conditions. For me the most interesting flats are:\n",
    "* 2/3 rooms\n",
    "* no matter of type of market\n",
    "* surface between 40 and 65 square meters\n",
    "* building shoudn't be old, so year of building > 2005 \n",
    "* price between 230k and 330k \n",
    "\n",
    "At the begginig I use Shapiro Wilk test to ensure, if data with above condtions has normallity distibution.\n",
    "\n",
    "Let's check data!"
   ]
  },
  {
   "cell_type": "markdown",
   "metadata": {},
   "source": [
    "## Shapiro Wilk test\n",
    "\n",
    "* <i>H0:</i> Price per square meter in price range 230k - 330k has normallity distribuation\n",
    "\n",
    "Filtered data sample has really low p-value, so we don't have reason to exclude <i>H0</i>. We can assume that distribution of Price, Price_M2, Surface, Rooms is normally. It's good news because thanks that we can use a lot of statistician methods for this sample"
   ]
  },
  {
   "cell_type": "code",
   "execution_count": 11,
   "metadata": {},
   "outputs": [
    {
     "data": {
      "text/html": [
       "<table border=\"1\" class=\"dataframe\">\n",
       "  <thead>\n",
       "    <tr style=\"text-align: right;\">\n",
       "      <th>Test for</th>\n",
       "      <th>Test Statistics</th>\n",
       "      <th>p-value</th>\n",
       "      <th>Label</th>\n",
       "    </tr>\n",
       "  </thead>\n",
       "  <tbody>\n",
       "    <tr>\n",
       "      <td>Price</td>\n",
       "      <td>0.96992</td>\n",
       "      <td>0.00000</td>\n",
       "      <td>****</td>\n",
       "    </tr>\n",
       "  </tbody>\n",
       "</table>"
      ],
      "text/plain": [
       "<IPython.core.display.HTML object>"
      ]
     },
     "metadata": {},
     "output_type": "display_data"
    },
    {
     "data": {
      "text/html": [
       "<table border=\"1\" class=\"dataframe\">\n",
       "  <thead>\n",
       "    <tr style=\"text-align: right;\">\n",
       "      <th>Test for</th>\n",
       "      <th>Test Statistics</th>\n",
       "      <th>p-value</th>\n",
       "      <th>Label</th>\n",
       "    </tr>\n",
       "  </thead>\n",
       "  <tbody>\n",
       "    <tr>\n",
       "      <td>Price_M2</td>\n",
       "      <td>0.99159</td>\n",
       "      <td>0.00003</td>\n",
       "      <td>****</td>\n",
       "    </tr>\n",
       "  </tbody>\n",
       "</table>"
      ],
      "text/plain": [
       "<IPython.core.display.HTML object>"
      ]
     },
     "metadata": {},
     "output_type": "display_data"
    },
    {
     "data": {
      "text/html": [
       "<table border=\"1\" class=\"dataframe\">\n",
       "  <thead>\n",
       "    <tr style=\"text-align: right;\">\n",
       "      <th>Test for</th>\n",
       "      <th>Test Statistics</th>\n",
       "      <th>p-value</th>\n",
       "      <th>Label</th>\n",
       "    </tr>\n",
       "  </thead>\n",
       "  <tbody>\n",
       "    <tr>\n",
       "      <td>Surface</td>\n",
       "      <td>0.94802</td>\n",
       "      <td>0.00000</td>\n",
       "      <td>****</td>\n",
       "    </tr>\n",
       "  </tbody>\n",
       "</table>"
      ],
      "text/plain": [
       "<IPython.core.display.HTML object>"
      ]
     },
     "metadata": {},
     "output_type": "display_data"
    },
    {
     "data": {
      "text/html": [
       "<table border=\"1\" class=\"dataframe\">\n",
       "  <thead>\n",
       "    <tr style=\"text-align: right;\">\n",
       "      <th>Test for</th>\n",
       "      <th>Test Statistics</th>\n",
       "      <th>p-value</th>\n",
       "      <th>Label</th>\n",
       "    </tr>\n",
       "  </thead>\n",
       "  <tbody>\n",
       "    <tr>\n",
       "      <td>Rooms</td>\n",
       "      <td>0.57075</td>\n",
       "      <td>0.00000</td>\n",
       "      <td>****</td>\n",
       "    </tr>\n",
       "  </tbody>\n",
       "</table>"
      ],
      "text/plain": [
       "<IPython.core.display.HTML object>"
      ]
     },
     "metadata": {},
     "output_type": "display_data"
    }
   ],
   "source": [
    "pd.set_option('float_format', '{:.5f}'.format)\n",
    "fdataset = Filtered(dataset, min_rooms = 2, max_rooms = 3, min_surface = 40, max_surface = 65, price_min = 230000,\n",
    "                    price_max = 330000)\n",
    "\n",
    "ShapiroResults(fdataset,\"CENA\")\n",
    "ShapiroResults(fdataset,\"CENA_M2\")\n",
    "ShapiroResults(fdataset,\"POWIERZCHNIA\")\n",
    "ShapiroResults(fdataset,\"POKOJE\")"
   ]
  },
  {
   "cell_type": "markdown",
   "metadata": {},
   "source": [
    "## Price"
   ]
  },
  {
   "cell_type": "code",
   "execution_count": 12,
   "metadata": {
    "scrolled": false
   },
   "outputs": [
    {
     "data": {
      "text/html": [
       "<table border=\"1\" class=\"dataframe\">\n",
       "  <thead>\n",
       "    <tr style=\"text-align: right;\">\n",
       "      <th>Description</th>\n",
       "      <th>Value</th>\n",
       "    </tr>\n",
       "  </thead>\n",
       "  <tbody>\n",
       "    <tr>\n",
       "      <td>Number of offers all:</td>\n",
       "      <td>1733</td>\n",
       "    </tr>\n",
       "    <tr>\n",
       "      <td>Number of offers on primary market:</td>\n",
       "      <td>849</td>\n",
       "    </tr>\n",
       "    <tr>\n",
       "      <td>Number of offers on secondary market:</td>\n",
       "      <td>884</td>\n",
       "    </tr>\n",
       "    <tr>\n",
       "      <td>Average price for square meter:</td>\n",
       "      <td>6538</td>\n",
       "    </tr>\n",
       "    <tr>\n",
       "      <td>Average price for square meter primary market:</td>\n",
       "      <td>6556</td>\n",
       "    </tr>\n",
       "    <tr>\n",
       "      <td>Average price for square meter secondary market:</td>\n",
       "      <td>6520</td>\n",
       "    </tr>\n",
       "    <tr>\n",
       "      <td>Average surface of flat:</td>\n",
       "      <td>51</td>\n",
       "    </tr>\n",
       "    <tr>\n",
       "      <td>Average surface of flat on primary market:</td>\n",
       "      <td>51</td>\n",
       "    </tr>\n",
       "    <tr>\n",
       "      <td>Average surface of flat on secondary market:</td>\n",
       "      <td>52</td>\n",
       "    </tr>\n",
       "    <tr>\n",
       "      <td>Average price all:</td>\n",
       "      <td>334757</td>\n",
       "    </tr>\n",
       "    <tr>\n",
       "      <td>Average price on primary market:</td>\n",
       "      <td>331779</td>\n",
       "    </tr>\n",
       "    <tr>\n",
       "      <td>Average price on secondary market:</td>\n",
       "      <td>337617</td>\n",
       "    </tr>\n",
       "    <tr>\n",
       "      <td>Max price:</td>\n",
       "      <td>850000</td>\n",
       "    </tr>\n",
       "    <tr>\n",
       "      <td>Max price on primary market:</td>\n",
       "      <td>750000</td>\n",
       "    </tr>\n",
       "    <tr>\n",
       "      <td>Max price on secondary market:</td>\n",
       "      <td>850000</td>\n",
       "    </tr>\n",
       "    <tr>\n",
       "      <td>Min price:</td>\n",
       "      <td>99000</td>\n",
       "    </tr>\n",
       "    <tr>\n",
       "      <td>Min price on primary market:</td>\n",
       "      <td>191000</td>\n",
       "    </tr>\n",
       "    <tr>\n",
       "      <td>Min price on secondary market:</td>\n",
       "      <td>99000</td>\n",
       "    </tr>\n",
       "  </tbody>\n",
       "</table>"
      ],
      "text/plain": [
       "<IPython.core.display.HTML object>"
      ]
     },
     "metadata": {},
     "output_type": "display_data"
    },
    {
     "data": {
      "text/html": [
       "<iframe id=\"igraph\" scrolling=\"no\" style=\"border:none;\" seamless=\"seamless\" src=\"https://plot.ly/~kaczikrol/324.embed\" height=\"525px\" width=\"100%\"></iframe>"
      ],
      "text/plain": [
       "<plotly.tools.PlotlyDisplay object>"
      ]
     },
     "execution_count": 12,
     "metadata": {},
     "output_type": "execute_result"
    }
   ],
   "source": [
    "fdataset = Filtered(dataset, min_rooms = 2, max_rooms = 3, min_surface = 40, max_surface = 65)\n",
    "Statistics(fdataset)\n",
    "HistogramPlot(\"CENA\", fdataset)"
   ]
  },
  {
   "cell_type": "code",
   "execution_count": 13,
   "metadata": {},
   "outputs": [
    {
     "data": {
      "text/html": [
       "<table border=\"1\" class=\"dataframe\">\n",
       "  <thead>\n",
       "    <tr style=\"text-align: right;\">\n",
       "      <th>Description</th>\n",
       "      <th>Value</th>\n",
       "    </tr>\n",
       "  </thead>\n",
       "  <tbody>\n",
       "    <tr>\n",
       "      <td>Number of offers all:</td>\n",
       "      <td>957</td>\n",
       "    </tr>\n",
       "    <tr>\n",
       "      <td>Number of offers on primary market:</td>\n",
       "      <td>490</td>\n",
       "    </tr>\n",
       "    <tr>\n",
       "      <td>Number of offers on secondary market:</td>\n",
       "      <td>467</td>\n",
       "    </tr>\n",
       "    <tr>\n",
       "      <td>Average price for square meter:</td>\n",
       "      <td>6098</td>\n",
       "    </tr>\n",
       "    <tr>\n",
       "      <td>Average price for square meter primary market:</td>\n",
       "      <td>6273</td>\n",
       "    </tr>\n",
       "    <tr>\n",
       "      <td>Average price for square meter secondary market:</td>\n",
       "      <td>5914</td>\n",
       "    </tr>\n",
       "    <tr>\n",
       "      <td>Average surface of flat:</td>\n",
       "      <td>48</td>\n",
       "    </tr>\n",
       "    <tr>\n",
       "      <td>Average surface of flat on primary market:</td>\n",
       "      <td>47</td>\n",
       "    </tr>\n",
       "    <tr>\n",
       "      <td>Average surface of flat on secondary market:</td>\n",
       "      <td>49</td>\n",
       "    </tr>\n",
       "    <tr>\n",
       "      <td>Average price all:</td>\n",
       "      <td>291659</td>\n",
       "    </tr>\n",
       "    <tr>\n",
       "      <td>Average price on primary market:</td>\n",
       "      <td>294726</td>\n",
       "    </tr>\n",
       "    <tr>\n",
       "      <td>Average price on secondary market:</td>\n",
       "      <td>288441</td>\n",
       "    </tr>\n",
       "    <tr>\n",
       "      <td>Max price:</td>\n",
       "      <td>330000</td>\n",
       "    </tr>\n",
       "    <tr>\n",
       "      <td>Max price on primary market:</td>\n",
       "      <td>329524</td>\n",
       "    </tr>\n",
       "    <tr>\n",
       "      <td>Max price on secondary market:</td>\n",
       "      <td>330000</td>\n",
       "    </tr>\n",
       "    <tr>\n",
       "      <td>Min price:</td>\n",
       "      <td>230000</td>\n",
       "    </tr>\n",
       "    <tr>\n",
       "      <td>Min price on primary market:</td>\n",
       "      <td>232904</td>\n",
       "    </tr>\n",
       "    <tr>\n",
       "      <td>Min price on secondary market:</td>\n",
       "      <td>230000</td>\n",
       "    </tr>\n",
       "  </tbody>\n",
       "</table>"
      ],
      "text/plain": [
       "<IPython.core.display.HTML object>"
      ]
     },
     "metadata": {},
     "output_type": "display_data"
    },
    {
     "data": {
      "text/html": [
       "<iframe id=\"igraph\" scrolling=\"no\" style=\"border:none;\" seamless=\"seamless\" src=\"https://plot.ly/~kaczikrol/324.embed\" height=\"525px\" width=\"100%\"></iframe>"
      ],
      "text/plain": [
       "<plotly.tools.PlotlyDisplay object>"
      ]
     },
     "execution_count": 13,
     "metadata": {},
     "output_type": "execute_result"
    }
   ],
   "source": [
    "fdataset = Filtered(dataset, min_rooms = 2, max_rooms = 3, min_surface = 40, max_surface = 65, price_min = 230000,\n",
    "                    price_max = 330000)\n",
    "Statistics(fdataset)\n",
    "HistogramPlot(\"CENA\", fdataset)"
   ]
  },
  {
   "cell_type": "code",
   "execution_count": 14,
   "metadata": {
    "scrolled": false
   },
   "outputs": [
    {
     "name": "stdout",
     "output_type": "stream",
     "text": [
      "\n",
      "Warning: You have set filter on market - some data is unavaiable\n"
     ]
    },
    {
     "data": {
      "text/html": [
       "<table border=\"1\" class=\"dataframe\">\n",
       "  <thead>\n",
       "    <tr style=\"text-align: right;\">\n",
       "      <th>Description</th>\n",
       "      <th>Value</th>\n",
       "    </tr>\n",
       "  </thead>\n",
       "  <tbody>\n",
       "    <tr>\n",
       "      <td>Number of offers all:</td>\n",
       "      <td>467</td>\n",
       "    </tr>\n",
       "    <tr>\n",
       "      <td>Number of offers on primary market:</td>\n",
       "      <td>0</td>\n",
       "    </tr>\n",
       "    <tr>\n",
       "      <td>Number of offers on secondary market:</td>\n",
       "      <td>467</td>\n",
       "    </tr>\n",
       "    <tr>\n",
       "      <td>Average price for square meter:</td>\n",
       "      <td>5914</td>\n",
       "    </tr>\n",
       "    <tr>\n",
       "      <td>Average price for square meter primary market:</td>\n",
       "      <td>nan</td>\n",
       "    </tr>\n",
       "    <tr>\n",
       "      <td>Average price for square meter secondary market:</td>\n",
       "      <td>5914</td>\n",
       "    </tr>\n",
       "    <tr>\n",
       "      <td>Average surface of flat:</td>\n",
       "      <td>49</td>\n",
       "    </tr>\n",
       "    <tr>\n",
       "      <td>Average surface of flat on primary market:</td>\n",
       "      <td>nan</td>\n",
       "    </tr>\n",
       "    <tr>\n",
       "      <td>Average surface of flat on secondary market:</td>\n",
       "      <td>49</td>\n",
       "    </tr>\n",
       "    <tr>\n",
       "      <td>Average price all:</td>\n",
       "      <td>288441</td>\n",
       "    </tr>\n",
       "    <tr>\n",
       "      <td>Average price on primary market:</td>\n",
       "      <td>nan</td>\n",
       "    </tr>\n",
       "    <tr>\n",
       "      <td>Average price on secondary market:</td>\n",
       "      <td>288441</td>\n",
       "    </tr>\n",
       "    <tr>\n",
       "      <td>Max price:</td>\n",
       "      <td>330000</td>\n",
       "    </tr>\n",
       "  </tbody>\n",
       "</table>"
      ],
      "text/plain": [
       "<IPython.core.display.HTML object>"
      ]
     },
     "metadata": {},
     "output_type": "display_data"
    },
    {
     "data": {
      "text/html": [
       "<iframe id=\"igraph\" scrolling=\"no\" style=\"border:none;\" seamless=\"seamless\" src=\"https://plot.ly/~kaczikrol/324.embed\" height=\"525px\" width=\"100%\"></iframe>"
      ],
      "text/plain": [
       "<plotly.tools.PlotlyDisplay object>"
      ]
     },
     "execution_count": 14,
     "metadata": {},
     "output_type": "execute_result"
    }
   ],
   "source": [
    "fdataset = Filtered(dataset, min_rooms = 2, max_rooms = 3, min_surface = 40, max_surface = 65, price_min = 230000,\n",
    "                  price_max = 330000, market = \"wtórny\")\n",
    "Statistics(fdataset)\n",
    "HistogramPlot(\"CENA\", fdataset)"
   ]
  },
  {
   "cell_type": "code",
   "execution_count": 15,
   "metadata": {},
   "outputs": [
    {
     "name": "stdout",
     "output_type": "stream",
     "text": [
      "\n",
      "Warning: You have set filter on market - some data is unavaiable\n"
     ]
    },
    {
     "data": {
      "text/html": [
       "<table border=\"1\" class=\"dataframe\">\n",
       "  <thead>\n",
       "    <tr style=\"text-align: right;\">\n",
       "      <th>Description</th>\n",
       "      <th>Value</th>\n",
       "    </tr>\n",
       "  </thead>\n",
       "  <tbody>\n",
       "    <tr>\n",
       "      <td>Number of offers all:</td>\n",
       "      <td>490</td>\n",
       "    </tr>\n",
       "    <tr>\n",
       "      <td>Number of offers on primary market:</td>\n",
       "      <td>490</td>\n",
       "    </tr>\n",
       "    <tr>\n",
       "      <td>Number of offers on secondary market:</td>\n",
       "      <td>0</td>\n",
       "    </tr>\n",
       "    <tr>\n",
       "      <td>Average price for square meter:</td>\n",
       "      <td>6273</td>\n",
       "    </tr>\n",
       "    <tr>\n",
       "      <td>Average price for square meter primary market:</td>\n",
       "      <td>6273</td>\n",
       "    </tr>\n",
       "    <tr>\n",
       "      <td>Average price for square meter secondary market:</td>\n",
       "      <td>nan</td>\n",
       "    </tr>\n",
       "    <tr>\n",
       "      <td>Average surface of flat:</td>\n",
       "      <td>47</td>\n",
       "    </tr>\n",
       "    <tr>\n",
       "      <td>Average surface of flat on primary market:</td>\n",
       "      <td>47</td>\n",
       "    </tr>\n",
       "    <tr>\n",
       "      <td>Average surface of flat on secondary market:</td>\n",
       "      <td>nan</td>\n",
       "    </tr>\n",
       "    <tr>\n",
       "      <td>Average price all:</td>\n",
       "      <td>294726</td>\n",
       "    </tr>\n",
       "    <tr>\n",
       "      <td>Average price on primary market:</td>\n",
       "      <td>294726</td>\n",
       "    </tr>\n",
       "    <tr>\n",
       "      <td>Average price on secondary market:</td>\n",
       "      <td>nan</td>\n",
       "    </tr>\n",
       "    <tr>\n",
       "      <td>Max price:</td>\n",
       "      <td>329524</td>\n",
       "    </tr>\n",
       "    <tr>\n",
       "      <td>Max price on primary market:</td>\n",
       "      <td>329524</td>\n",
       "    </tr>\n",
       "  </tbody>\n",
       "</table>"
      ],
      "text/plain": [
       "<IPython.core.display.HTML object>"
      ]
     },
     "metadata": {},
     "output_type": "display_data"
    },
    {
     "data": {
      "text/html": [
       "<iframe id=\"igraph\" scrolling=\"no\" style=\"border:none;\" seamless=\"seamless\" src=\"https://plot.ly/~kaczikrol/324.embed\" height=\"525px\" width=\"100%\"></iframe>"
      ],
      "text/plain": [
       "<plotly.tools.PlotlyDisplay object>"
      ]
     },
     "execution_count": 15,
     "metadata": {},
     "output_type": "execute_result"
    }
   ],
   "source": [
    "fdataset = Filtered(dataset, min_rooms = 2, max_rooms = 3, min_surface = 40, max_surface = 65, price_min = 230000,\n",
    "                    price_max = 330000, market = \"pierwotny\")\n",
    "Statistics(fdataset)\n",
    "HistogramPlot(\"CENA\", fdataset)"
   ]
  },
  {
   "cell_type": "markdown",
   "metadata": {},
   "source": [
    "## Price per square meter\n",
    "\n",
    "It's short look into distribution of price per square meter for flats where price is in range 230k-330k. After first look into histogram (espacially in scondary market) I noticed that price per square meter can have gausiann distribuation. Related with this findings I check it by Shapiro-Wilk test with \n",
    "* <i>H0:</i> Price per square meter in price range 230k - 330k has normallity distribuation\n",
    "\n",
    "I ommited here global distiribution becuase it is really resemblence like price distribuation."
   ]
  },
  {
   "cell_type": "code",
   "execution_count": 16,
   "metadata": {},
   "outputs": [
    {
     "data": {
      "text/html": [
       "<iframe id=\"igraph\" scrolling=\"no\" style=\"border:none;\" seamless=\"seamless\" src=\"https://plot.ly/~kaczikrol/324.embed\" height=\"525px\" width=\"100%\"></iframe>"
      ],
      "text/plain": [
       "<plotly.tools.PlotlyDisplay object>"
      ]
     },
     "execution_count": 16,
     "metadata": {},
     "output_type": "execute_result"
    }
   ],
   "source": [
    "fdataset = Filtered(dataset, min_rooms = 2, max_rooms = 3, min_surface = 40, max_surface = 65, price_min = 230000,\n",
    "                    price_max = 330000)\n",
    "HistogramPlot(\"CENA_M2\", fdataset)"
   ]
  },
  {
   "cell_type": "code",
   "execution_count": 17,
   "metadata": {},
   "outputs": [
    {
     "data": {
      "text/html": [
       "<iframe id=\"igraph\" scrolling=\"no\" style=\"border:none;\" seamless=\"seamless\" src=\"https://plot.ly/~kaczikrol/324.embed\" height=\"525px\" width=\"100%\"></iframe>"
      ],
      "text/plain": [
       "<plotly.tools.PlotlyDisplay object>"
      ]
     },
     "execution_count": 17,
     "metadata": {},
     "output_type": "execute_result"
    }
   ],
   "source": [
    "fdataset = Filtered(dataset, min_rooms = 2, max_rooms = 3, min_surface = 40, max_surface = 65, price_min = 230000,\n",
    "                    price_max = 330000, market = \"wtórny\")\n",
    "HistogramPlot(\"CENA_M2\", fdataset)"
   ]
  },
  {
   "cell_type": "code",
   "execution_count": 18,
   "metadata": {},
   "outputs": [
    {
     "data": {
      "text/html": [
       "<iframe id=\"igraph\" scrolling=\"no\" style=\"border:none;\" seamless=\"seamless\" src=\"https://plot.ly/~kaczikrol/324.embed\" height=\"525px\" width=\"100%\"></iframe>"
      ],
      "text/plain": [
       "<plotly.tools.PlotlyDisplay object>"
      ]
     },
     "execution_count": 18,
     "metadata": {},
     "output_type": "execute_result"
    }
   ],
   "source": [
    "fdataset = Filtered(dataset, min_rooms = 2, max_rooms = 3, min_surface = 40, max_surface = 65, price_min = 230000,\n",
    "                    price_max = 330000, market = \"pierwotny\")\n",
    "HistogramPlot(\"CENA_M2\", fdataset)\n"
   ]
  },
  {
   "cell_type": "markdown",
   "metadata": {},
   "source": [
    "## Surface"
   ]
  },
  {
   "cell_type": "code",
   "execution_count": 19,
   "metadata": {},
   "outputs": [
    {
     "data": {
      "text/html": [
       "<iframe id=\"igraph\" scrolling=\"no\" style=\"border:none;\" seamless=\"seamless\" src=\"https://plot.ly/~kaczikrol/324.embed\" height=\"525px\" width=\"100%\"></iframe>"
      ],
      "text/plain": [
       "<plotly.tools.PlotlyDisplay object>"
      ]
     },
     "execution_count": 19,
     "metadata": {},
     "output_type": "execute_result"
    }
   ],
   "source": [
    "fdataset = Filtered(dataset, min_rooms = 2, max_rooms = 3, min_surface = 40, max_surface = 65, price_min = 230000,\n",
    "                    price_max = 330000)\n",
    "HistogramPlot(\"POWIERZCHNIA\", fdataset)"
   ]
  },
  {
   "cell_type": "markdown",
   "metadata": {},
   "source": [
    "## Rooms"
   ]
  },
  {
   "cell_type": "code",
   "execution_count": 20,
   "metadata": {},
   "outputs": [
    {
     "data": {
      "text/html": [
       "<table border=\"1\" class=\"dataframe\">\n",
       "  <thead>\n",
       "    <tr style=\"text-align: right;\">\n",
       "      <th>POKOJE</th>\n",
       "      <th>QUANTITY</th>\n",
       "    </tr>\n",
       "  </thead>\n",
       "  <tbody>\n",
       "    <tr>\n",
       "      <td>2</td>\n",
       "      <td>677</td>\n",
       "    </tr>\n",
       "    <tr>\n",
       "      <td>3</td>\n",
       "      <td>280</td>\n",
       "    </tr>\n",
       "  </tbody>\n",
       "</table>"
      ],
      "text/plain": [
       "<IPython.core.display.HTML object>"
      ]
     },
     "metadata": {},
     "output_type": "display_data"
    }
   ],
   "source": [
    "fdataset = Filtered(dataset, min_rooms = 2, max_rooms = 3, min_surface = 40, max_surface = 65, price_min = 230000,\n",
    "                    price_max = 330000)\n",
    "fdataset = fdataset.groupby([\"POKOJE\"]).size().reset_index(name=\"QUANTITY\").sort_values(by=\"QUANTITY\", ascending = False)\n",
    "display(HTML(fdataset.to_html(index=False)))\n"
   ]
  },
  {
   "cell_type": "code",
   "execution_count": 21,
   "metadata": {},
   "outputs": [
    {
     "data": {
      "text/html": [
       "<table border=\"1\" class=\"dataframe\">\n",
       "  <thead>\n",
       "    <tr style=\"text-align: right;\">\n",
       "      <th>POKOJE</th>\n",
       "      <th>QUANTITY</th>\n",
       "    </tr>\n",
       "  </thead>\n",
       "  <tbody>\n",
       "    <tr>\n",
       "      <td>2</td>\n",
       "      <td>1300</td>\n",
       "    </tr>\n",
       "    <tr>\n",
       "      <td>3</td>\n",
       "      <td>1122</td>\n",
       "    </tr>\n",
       "    <tr>\n",
       "      <td>4</td>\n",
       "      <td>408</td>\n",
       "    </tr>\n",
       "    <tr>\n",
       "      <td>1</td>\n",
       "      <td>272</td>\n",
       "    </tr>\n",
       "    <tr>\n",
       "      <td>5</td>\n",
       "      <td>76</td>\n",
       "    </tr>\n",
       "    <tr>\n",
       "      <td>6</td>\n",
       "      <td>18</td>\n",
       "    </tr>\n",
       "    <tr>\n",
       "      <td>7</td>\n",
       "      <td>7</td>\n",
       "    </tr>\n",
       "    <tr>\n",
       "      <td>9</td>\n",
       "      <td>5</td>\n",
       "    </tr>\n",
       "    <tr>\n",
       "      <td>10</td>\n",
       "      <td>3</td>\n",
       "    </tr>\n",
       "    <tr>\n",
       "      <td>8</td>\n",
       "      <td>2</td>\n",
       "    </tr>\n",
       "  </tbody>\n",
       "</table>"
      ],
      "text/plain": [
       "<IPython.core.display.HTML object>"
      ]
     },
     "metadata": {},
     "output_type": "display_data"
    }
   ],
   "source": [
    "fdataset = Filtered(dataset, min_rooms = 1, max_rooms = 10)\n",
    "fdataset = fdataset.groupby([\"POKOJE\"]).size().reset_index(name=\"QUANTITY\").sort_values(by=\"QUANTITY\", ascending = False)\n",
    "display(HTML(fdataset.to_html(index=False)))"
   ]
  },
  {
   "cell_type": "markdown",
   "metadata": {},
   "source": [
    "## Bachelor apartment"
   ]
  },
  {
   "cell_type": "code",
   "execution_count": 22,
   "metadata": {
    "scrolled": false
   },
   "outputs": [
    {
     "data": {
      "text/html": [
       "<table border=\"1\" class=\"dataframe\">\n",
       "  <thead>\n",
       "    <tr style=\"text-align: right;\">\n",
       "      <th>Description</th>\n",
       "      <th>Value</th>\n",
       "    </tr>\n",
       "  </thead>\n",
       "  <tbody>\n",
       "    <tr>\n",
       "      <td>Number of offers all:</td>\n",
       "      <td>272</td>\n",
       "    </tr>\n",
       "    <tr>\n",
       "      <td>Number of offers on primary market:</td>\n",
       "      <td>107</td>\n",
       "    </tr>\n",
       "    <tr>\n",
       "      <td>Number of offers on secondary market:</td>\n",
       "      <td>165</td>\n",
       "    </tr>\n",
       "    <tr>\n",
       "      <td>Average price for square meter:</td>\n",
       "      <td>7201</td>\n",
       "    </tr>\n",
       "    <tr>\n",
       "      <td>Average price for square meter primary market:</td>\n",
       "      <td>7557</td>\n",
       "    </tr>\n",
       "    <tr>\n",
       "      <td>Average price for square meter secondary market:</td>\n",
       "      <td>6971</td>\n",
       "    </tr>\n",
       "    <tr>\n",
       "      <td>Average surface of flat:</td>\n",
       "      <td>34</td>\n",
       "    </tr>\n",
       "    <tr>\n",
       "      <td>Average surface of flat on primary market:</td>\n",
       "      <td>35</td>\n",
       "    </tr>\n",
       "    <tr>\n",
       "      <td>Average surface of flat on secondary market:</td>\n",
       "      <td>33</td>\n",
       "    </tr>\n",
       "    <tr>\n",
       "      <td>Average price all:</td>\n",
       "      <td>238480</td>\n",
       "    </tr>\n",
       "    <tr>\n",
       "      <td>Average price on primary market:</td>\n",
       "      <td>256743</td>\n",
       "    </tr>\n",
       "    <tr>\n",
       "      <td>Average price on secondary market:</td>\n",
       "      <td>226636</td>\n",
       "    </tr>\n",
       "    <tr>\n",
       "      <td>Max price:</td>\n",
       "      <td>607048</td>\n",
       "    </tr>\n",
       "    <tr>\n",
       "      <td>Max price on primary market:</td>\n",
       "      <td>607048</td>\n",
       "    </tr>\n",
       "    <tr>\n",
       "      <td>Max price on secondary market:</td>\n",
       "      <td>489000</td>\n",
       "    </tr>\n",
       "    <tr>\n",
       "      <td>Min price:</td>\n",
       "      <td>119400</td>\n",
       "    </tr>\n",
       "    <tr>\n",
       "      <td>Min price on primary market:</td>\n",
       "      <td>128361</td>\n",
       "    </tr>\n",
       "    <tr>\n",
       "      <td>Min price on secondary market:</td>\n",
       "      <td>119400</td>\n",
       "    </tr>\n",
       "  </tbody>\n",
       "</table>"
      ],
      "text/plain": [
       "<IPython.core.display.HTML object>"
      ]
     },
     "metadata": {},
     "output_type": "display_data"
    },
    {
     "data": {
      "text/html": [
       "<iframe id=\"igraph\" scrolling=\"no\" style=\"border:none;\" seamless=\"seamless\" src=\"https://plot.ly/~kaczikrol/324.embed\" height=\"525px\" width=\"100%\"></iframe>"
      ],
      "text/plain": [
       "<plotly.tools.PlotlyDisplay object>"
      ]
     },
     "execution_count": 22,
     "metadata": {},
     "output_type": "execute_result"
    }
   ],
   "source": [
    "fdataset = Filtered(dataset, min_rooms = 1, max_rooms = 1)\n",
    "Statistics(fdataset)\n",
    "HistogramPlot(\"CENA_M2\", fdataset)"
   ]
  },
  {
   "cell_type": "markdown",
   "metadata": {},
   "source": [
    "## Highest price districts in Poznan"
   ]
  },
  {
   "cell_type": "code",
   "execution_count": 23,
   "metadata": {},
   "outputs": [
    {
     "data": {
      "text/html": [
       "<div>\n",
       "<style>\n",
       "    .dataframe thead tr:only-child th {\n",
       "        text-align: right;\n",
       "    }\n",
       "\n",
       "    .dataframe thead th {\n",
       "        text-align: left;\n",
       "    }\n",
       "\n",
       "    .dataframe tbody tr th {\n",
       "        vertical-align: top;\n",
       "    }\n",
       "</style>\n",
       "<table border=\"1\" class=\"dataframe\">\n",
       "  <thead>\n",
       "    <tr>\n",
       "      <th></th>\n",
       "      <th colspan=\"2\" halign=\"left\">CENA_M2</th>\n",
       "    </tr>\n",
       "    <tr>\n",
       "      <th></th>\n",
       "      <th>mean</th>\n",
       "      <th>size</th>\n",
       "    </tr>\n",
       "    <tr>\n",
       "      <th>DZIELNICA</th>\n",
       "      <th></th>\n",
       "      <th></th>\n",
       "    </tr>\n",
       "  </thead>\n",
       "  <tbody>\n",
       "    <tr>\n",
       "      <th>Ostrów Tumski</th>\n",
       "      <td>8438</td>\n",
       "      <td>1</td>\n",
       "    </tr>\n",
       "    <tr>\n",
       "      <th>Stare Miasto</th>\n",
       "      <td>7662</td>\n",
       "      <td>149</td>\n",
       "    </tr>\n",
       "    <tr>\n",
       "      <th>Sołacz</th>\n",
       "      <td>7457</td>\n",
       "      <td>57</td>\n",
       "    </tr>\n",
       "    <tr>\n",
       "      <th>Górczyn</th>\n",
       "      <td>6920</td>\n",
       "      <td>71</td>\n",
       "    </tr>\n",
       "    <tr>\n",
       "      <th>Świerczewo</th>\n",
       "      <td>6833</td>\n",
       "      <td>1</td>\n",
       "    </tr>\n",
       "    <tr>\n",
       "      <th>Śródka</th>\n",
       "      <td>6812</td>\n",
       "      <td>21</td>\n",
       "    </tr>\n",
       "    <tr>\n",
       "      <th>Zawady</th>\n",
       "      <td>6787</td>\n",
       "      <td>10</td>\n",
       "    </tr>\n",
       "    <tr>\n",
       "      <th>Winogrady</th>\n",
       "      <td>6779</td>\n",
       "      <td>157</td>\n",
       "    </tr>\n",
       "    <tr>\n",
       "      <th>Ławica</th>\n",
       "      <td>6637</td>\n",
       "      <td>2</td>\n",
       "    </tr>\n",
       "    <tr>\n",
       "      <th>Zieliniec</th>\n",
       "      <td>6588</td>\n",
       "      <td>7</td>\n",
       "    </tr>\n",
       "    <tr>\n",
       "      <th>Umultowo</th>\n",
       "      <td>6574</td>\n",
       "      <td>2</td>\n",
       "    </tr>\n",
       "    <tr>\n",
       "      <th>Grunwald</th>\n",
       "      <td>6545</td>\n",
       "      <td>554</td>\n",
       "    </tr>\n",
       "    <tr>\n",
       "      <th>Wilda</th>\n",
       "      <td>6417</td>\n",
       "      <td>301</td>\n",
       "    </tr>\n",
       "    <tr>\n",
       "      <th>Strzeszyn</th>\n",
       "      <td>6400</td>\n",
       "      <td>50</td>\n",
       "    </tr>\n",
       "    <tr>\n",
       "      <th>Chartowo</th>\n",
       "      <td>6375</td>\n",
       "      <td>13</td>\n",
       "    </tr>\n",
       "    <tr>\n",
       "      <th>Jeżyce</th>\n",
       "      <td>6361</td>\n",
       "      <td>150</td>\n",
       "    </tr>\n",
       "    <tr>\n",
       "      <th>Żegrze</th>\n",
       "      <td>6326</td>\n",
       "      <td>29</td>\n",
       "    </tr>\n",
       "    <tr>\n",
       "      <th>Ogrody</th>\n",
       "      <td>6323</td>\n",
       "      <td>37</td>\n",
       "    </tr>\n",
       "    <tr>\n",
       "      <th>Łazarz</th>\n",
       "      <td>6301</td>\n",
       "      <td>87</td>\n",
       "    </tr>\n",
       "    <tr>\n",
       "      <th>Wola</th>\n",
       "      <td>6202</td>\n",
       "      <td>3</td>\n",
       "    </tr>\n",
       "    <tr>\n",
       "      <th>Naramowice</th>\n",
       "      <td>6188</td>\n",
       "      <td>128</td>\n",
       "    </tr>\n",
       "    <tr>\n",
       "      <th>Piątkowo</th>\n",
       "      <td>6142</td>\n",
       "      <td>105</td>\n",
       "    </tr>\n",
       "    <tr>\n",
       "      <th>Komandoria</th>\n",
       "      <td>6058</td>\n",
       "      <td>2</td>\n",
       "    </tr>\n",
       "    <tr>\n",
       "      <th>Jana III Sobieskiego</th>\n",
       "      <td>6014</td>\n",
       "      <td>2</td>\n",
       "    </tr>\n",
       "    <tr>\n",
       "      <th>Rataje</th>\n",
       "      <td>6013</td>\n",
       "      <td>186</td>\n",
       "    </tr>\n",
       "    <tr>\n",
       "      <th>Winiary</th>\n",
       "      <td>5957</td>\n",
       "      <td>12</td>\n",
       "    </tr>\n",
       "    <tr>\n",
       "      <th>Junikowo</th>\n",
       "      <td>5853</td>\n",
       "      <td>8</td>\n",
       "    </tr>\n",
       "    <tr>\n",
       "      <th>Podolany</th>\n",
       "      <td>5651</td>\n",
       "      <td>79</td>\n",
       "    </tr>\n",
       "    <tr>\n",
       "      <th>Antoninek</th>\n",
       "      <td>5644</td>\n",
       "      <td>8</td>\n",
       "    </tr>\n",
       "    <tr>\n",
       "      <th>Dębiec</th>\n",
       "      <td>5624</td>\n",
       "      <td>37</td>\n",
       "    </tr>\n",
       "    <tr>\n",
       "      <th>Smochowice</th>\n",
       "      <td>5530</td>\n",
       "      <td>5</td>\n",
       "    </tr>\n",
       "    <tr>\n",
       "      <th>Starołęka</th>\n",
       "      <td>5464</td>\n",
       "      <td>22</td>\n",
       "    </tr>\n",
       "    <tr>\n",
       "      <th>Główna</th>\n",
       "      <td>5442</td>\n",
       "      <td>16</td>\n",
       "    </tr>\n",
       "    <tr>\n",
       "      <th>Morasko</th>\n",
       "      <td>5099</td>\n",
       "      <td>1</td>\n",
       "    </tr>\n",
       "    <tr>\n",
       "      <th>Głuszyna</th>\n",
       "      <td>4830</td>\n",
       "      <td>18</td>\n",
       "    </tr>\n",
       "    <tr>\n",
       "      <th>Szczepankowo</th>\n",
       "      <td>4556</td>\n",
       "      <td>22</td>\n",
       "    </tr>\n",
       "    <tr>\n",
       "      <th>Kotowo</th>\n",
       "      <td>4440</td>\n",
       "      <td>2</td>\n",
       "    </tr>\n",
       "    <tr>\n",
       "      <th>Pokrzywno</th>\n",
       "      <td>4433</td>\n",
       "      <td>1</td>\n",
       "    </tr>\n",
       "    <tr>\n",
       "      <th>Warszawskie</th>\n",
       "      <td>3556</td>\n",
       "      <td>3</td>\n",
       "    </tr>\n",
       "  </tbody>\n",
       "</table>\n",
       "</div>"
      ],
      "text/plain": [
       "                     CENA_M2     \n",
       "                        mean size\n",
       "DZIELNICA                        \n",
       "Ostrów Tumski           8438    1\n",
       "Stare Miasto            7662  149\n",
       "Sołacz                  7457   57\n",
       "Górczyn                 6920   71\n",
       "Świerczewo              6833    1\n",
       "Śródka                  6812   21\n",
       "Zawady                  6787   10\n",
       "Winogrady               6779  157\n",
       "Ławica                  6637    2\n",
       "Zieliniec               6588    7\n",
       "Umultowo                6574    2\n",
       "Grunwald                6545  554\n",
       "Wilda                   6417  301\n",
       "Strzeszyn               6400   50\n",
       "Chartowo                6375   13\n",
       "Jeżyce                  6361  150\n",
       "Żegrze                  6326   29\n",
       "Ogrody                  6323   37\n",
       "Łazarz                  6301   87\n",
       "Wola                    6202    3\n",
       "Naramowice              6188  128\n",
       "Piątkowo                6142  105\n",
       "Komandoria              6058    2\n",
       "Jana III Sobieskiego    6014    2\n",
       "Rataje                  6013  186\n",
       "Winiary                 5957   12\n",
       "Junikowo                5853    8\n",
       "Podolany                5651   79\n",
       "Antoninek               5644    8\n",
       "Dębiec                  5624   37\n",
       "Smochowice              5530    5\n",
       "Starołęka               5464   22\n",
       "Główna                  5442   16\n",
       "Morasko                 5099    1\n",
       "Głuszyna                4830   18\n",
       "Szczepankowo            4556   22\n",
       "Kotowo                  4440    2\n",
       "Pokrzywno               4433    1\n",
       "Warszawskie             3556    3"
      ]
     },
     "execution_count": 23,
     "metadata": {},
     "output_type": "execute_result"
    }
   ],
   "source": [
    "pd.set_option('float_format', '{:.0f}'.format)\n",
    "fdataset = dataset\n",
    "AveragePerVariable(fdataset,\"DZIELNICA\",\"CENA_M2\")"
   ]
  },
  {
   "cell_type": "markdown",
   "metadata": {},
   "source": [
    "## Highest price per year of building"
   ]
  },
  {
   "cell_type": "code",
   "execution_count": 24,
   "metadata": {},
   "outputs": [
    {
     "data": {
      "text/html": [
       "<div>\n",
       "<style>\n",
       "    .dataframe thead tr:only-child th {\n",
       "        text-align: right;\n",
       "    }\n",
       "\n",
       "    .dataframe thead th {\n",
       "        text-align: left;\n",
       "    }\n",
       "\n",
       "    .dataframe tbody tr th {\n",
       "        vertical-align: top;\n",
       "    }\n",
       "</style>\n",
       "<table border=\"1\" class=\"dataframe\">\n",
       "  <thead>\n",
       "    <tr>\n",
       "      <th></th>\n",
       "      <th colspan=\"2\" halign=\"left\">CENA_M2</th>\n",
       "    </tr>\n",
       "    <tr>\n",
       "      <th></th>\n",
       "      <th>mean</th>\n",
       "      <th>size</th>\n",
       "    </tr>\n",
       "    <tr>\n",
       "      <th>ROK_BUDOWY</th>\n",
       "      <th></th>\n",
       "      <th></th>\n",
       "    </tr>\n",
       "  </thead>\n",
       "  <tbody>\n",
       "    <tr>\n",
       "      <th>2013</th>\n",
       "      <td>9503</td>\n",
       "      <td>18</td>\n",
       "    </tr>\n",
       "    <tr>\n",
       "      <th>2009</th>\n",
       "      <td>8435</td>\n",
       "      <td>52</td>\n",
       "    </tr>\n",
       "    <tr>\n",
       "      <th>2014</th>\n",
       "      <td>8403</td>\n",
       "      <td>20</td>\n",
       "    </tr>\n",
       "    <tr>\n",
       "      <th>2010</th>\n",
       "      <td>8150</td>\n",
       "      <td>30</td>\n",
       "    </tr>\n",
       "    <tr>\n",
       "      <th>2011</th>\n",
       "      <td>7889</td>\n",
       "      <td>26</td>\n",
       "    </tr>\n",
       "    <tr>\n",
       "      <th>2008</th>\n",
       "      <td>7727</td>\n",
       "      <td>57</td>\n",
       "    </tr>\n",
       "    <tr>\n",
       "      <th>2015</th>\n",
       "      <td>7605</td>\n",
       "      <td>34</td>\n",
       "    </tr>\n",
       "    <tr>\n",
       "      <th>2012</th>\n",
       "      <td>7516</td>\n",
       "      <td>20</td>\n",
       "    </tr>\n",
       "    <tr>\n",
       "      <th>2005</th>\n",
       "      <td>7248</td>\n",
       "      <td>21</td>\n",
       "    </tr>\n",
       "    <tr>\n",
       "      <th>2002</th>\n",
       "      <td>7034</td>\n",
       "      <td>13</td>\n",
       "    </tr>\n",
       "    <tr>\n",
       "      <th>2006</th>\n",
       "      <td>7004</td>\n",
       "      <td>32</td>\n",
       "    </tr>\n",
       "    <tr>\n",
       "      <th>2007</th>\n",
       "      <td>6996</td>\n",
       "      <td>33</td>\n",
       "    </tr>\n",
       "    <tr>\n",
       "      <th>2003</th>\n",
       "      <td>6881</td>\n",
       "      <td>12</td>\n",
       "    </tr>\n",
       "    <tr>\n",
       "      <th>2020</th>\n",
       "      <td>6797</td>\n",
       "      <td>3</td>\n",
       "    </tr>\n",
       "    <tr>\n",
       "      <th>2001</th>\n",
       "      <td>6614</td>\n",
       "      <td>25</td>\n",
       "    </tr>\n",
       "    <tr>\n",
       "      <th>2016</th>\n",
       "      <td>6563</td>\n",
       "      <td>117</td>\n",
       "    </tr>\n",
       "    <tr>\n",
       "      <th>2019</th>\n",
       "      <td>6526</td>\n",
       "      <td>243</td>\n",
       "    </tr>\n",
       "    <tr>\n",
       "      <th>2018</th>\n",
       "      <td>6509</td>\n",
       "      <td>436</td>\n",
       "    </tr>\n",
       "    <tr>\n",
       "      <th>2017</th>\n",
       "      <td>6431</td>\n",
       "      <td>235</td>\n",
       "    </tr>\n",
       "    <tr>\n",
       "      <th>2004</th>\n",
       "      <td>6385</td>\n",
       "      <td>10</td>\n",
       "    </tr>\n",
       "    <tr>\n",
       "      <th>2000</th>\n",
       "      <td>6362</td>\n",
       "      <td>48</td>\n",
       "    </tr>\n",
       "  </tbody>\n",
       "</table>\n",
       "</div>"
      ],
      "text/plain": [
       "           CENA_M2     \n",
       "              mean size\n",
       "ROK_BUDOWY             \n",
       "2013          9503   18\n",
       "2009          8435   52\n",
       "2014          8403   20\n",
       "2010          8150   30\n",
       "2011          7889   26\n",
       "2008          7727   57\n",
       "2015          7605   34\n",
       "2012          7516   20\n",
       "2005          7248   21\n",
       "2002          7034   13\n",
       "2006          7004   32\n",
       "2007          6996   33\n",
       "2003          6881   12\n",
       "2020          6797    3\n",
       "2001          6614   25\n",
       "2016          6563  117\n",
       "2019          6526  243\n",
       "2018          6509  436\n",
       "2017          6431  235\n",
       "2004          6385   10\n",
       "2000          6362   48"
      ]
     },
     "execution_count": 24,
     "metadata": {},
     "output_type": "execute_result"
    }
   ],
   "source": [
    "fdataset = Filtered(dataset, start_year = 2000, end_year = 2030)\n",
    "AveragePerVariable(fdataset,\"ROK_BUDOWY\",\"CENA_M2\")"
   ]
  },
  {
   "cell_type": "markdown",
   "metadata": {},
   "source": [
    "## Most popular districts to building new flats"
   ]
  },
  {
   "cell_type": "code",
   "execution_count": 25,
   "metadata": {},
   "outputs": [
    {
     "data": {
      "text/html": [
       "<div>\n",
       "<style>\n",
       "    .dataframe thead tr:only-child th {\n",
       "        text-align: right;\n",
       "    }\n",
       "\n",
       "    .dataframe thead th {\n",
       "        text-align: left;\n",
       "    }\n",
       "\n",
       "    .dataframe tbody tr th {\n",
       "        vertical-align: top;\n",
       "    }\n",
       "</style>\n",
       "<table border=\"1\" class=\"dataframe\">\n",
       "  <thead>\n",
       "    <tr>\n",
       "      <th></th>\n",
       "      <th colspan=\"2\" halign=\"left\">ROK_BUDOWY</th>\n",
       "    </tr>\n",
       "    <tr>\n",
       "      <th></th>\n",
       "      <th>mean</th>\n",
       "      <th>size</th>\n",
       "    </tr>\n",
       "    <tr>\n",
       "      <th>DZIELNICA</th>\n",
       "      <th></th>\n",
       "      <th></th>\n",
       "    </tr>\n",
       "  </thead>\n",
       "  <tbody>\n",
       "    <tr>\n",
       "      <th>Grunwald</th>\n",
       "      <td>2019</td>\n",
       "      <td>197</td>\n",
       "    </tr>\n",
       "    <tr>\n",
       "      <th>Wilda</th>\n",
       "      <td>2019</td>\n",
       "      <td>43</td>\n",
       "    </tr>\n",
       "    <tr>\n",
       "      <th>Stare Miasto</th>\n",
       "      <td>2018</td>\n",
       "      <td>29</td>\n",
       "    </tr>\n",
       "    <tr>\n",
       "      <th>Strzeszyn</th>\n",
       "      <td>2018</td>\n",
       "      <td>25</td>\n",
       "    </tr>\n",
       "    <tr>\n",
       "      <th>Naramowice</th>\n",
       "      <td>2019</td>\n",
       "      <td>23</td>\n",
       "    </tr>\n",
       "    <tr>\n",
       "      <th>Sołacz</th>\n",
       "      <td>2018</td>\n",
       "      <td>18</td>\n",
       "    </tr>\n",
       "    <tr>\n",
       "      <th>Górczyn</th>\n",
       "      <td>2018</td>\n",
       "      <td>17</td>\n",
       "    </tr>\n",
       "    <tr>\n",
       "      <th>Żegrze</th>\n",
       "      <td>2019</td>\n",
       "      <td>15</td>\n",
       "    </tr>\n",
       "    <tr>\n",
       "      <th>Winogrady</th>\n",
       "      <td>2018</td>\n",
       "      <td>13</td>\n",
       "    </tr>\n",
       "    <tr>\n",
       "      <th>Ogrody</th>\n",
       "      <td>2018</td>\n",
       "      <td>11</td>\n",
       "    </tr>\n",
       "    <tr>\n",
       "      <th>Szczepankowo</th>\n",
       "      <td>2018</td>\n",
       "      <td>7</td>\n",
       "    </tr>\n",
       "    <tr>\n",
       "      <th>Główna</th>\n",
       "      <td>2018</td>\n",
       "      <td>7</td>\n",
       "    </tr>\n",
       "    <tr>\n",
       "      <th>Jeżyce</th>\n",
       "      <td>2018</td>\n",
       "      <td>5</td>\n",
       "    </tr>\n",
       "    <tr>\n",
       "      <th>Rataje</th>\n",
       "      <td>2018</td>\n",
       "      <td>3</td>\n",
       "    </tr>\n",
       "    <tr>\n",
       "      <th>Zawady</th>\n",
       "      <td>2018</td>\n",
       "      <td>3</td>\n",
       "    </tr>\n",
       "    <tr>\n",
       "      <th>Podolany</th>\n",
       "      <td>2018</td>\n",
       "      <td>2</td>\n",
       "    </tr>\n",
       "    <tr>\n",
       "      <th>Starołęka</th>\n",
       "      <td>2018</td>\n",
       "      <td>2</td>\n",
       "    </tr>\n",
       "    <tr>\n",
       "      <th>Morasko</th>\n",
       "      <td>2018</td>\n",
       "      <td>1</td>\n",
       "    </tr>\n",
       "    <tr>\n",
       "      <th>Kotowo</th>\n",
       "      <td>2018</td>\n",
       "      <td>1</td>\n",
       "    </tr>\n",
       "    <tr>\n",
       "      <th>Junikowo</th>\n",
       "      <td>2018</td>\n",
       "      <td>1</td>\n",
       "    </tr>\n",
       "    <tr>\n",
       "      <th>Zieliniec</th>\n",
       "      <td>2018</td>\n",
       "      <td>1</td>\n",
       "    </tr>\n",
       "    <tr>\n",
       "      <th>Śródka</th>\n",
       "      <td>2018</td>\n",
       "      <td>1</td>\n",
       "    </tr>\n",
       "    <tr>\n",
       "      <th>Smochowice</th>\n",
       "      <td>2018</td>\n",
       "      <td>1</td>\n",
       "    </tr>\n",
       "  </tbody>\n",
       "</table>\n",
       "</div>"
      ],
      "text/plain": [
       "             ROK_BUDOWY     \n",
       "                   mean size\n",
       "DZIELNICA                   \n",
       "Grunwald           2019  197\n",
       "Wilda              2019   43\n",
       "Stare Miasto       2018   29\n",
       "Strzeszyn          2018   25\n",
       "Naramowice         2019   23\n",
       "Sołacz             2018   18\n",
       "Górczyn            2018   17\n",
       "Żegrze             2019   15\n",
       "Winogrady          2018   13\n",
       "Ogrody             2018   11\n",
       "Szczepankowo       2018    7\n",
       "Główna             2018    7\n",
       "Jeżyce             2018    5\n",
       "Rataje             2018    3\n",
       "Zawady             2018    3\n",
       "Podolany           2018    2\n",
       "Starołęka          2018    2\n",
       "Morasko            2018    1\n",
       "Kotowo             2018    1\n",
       "Junikowo           2018    1\n",
       "Zieliniec          2018    1\n",
       "Śródka             2018    1\n",
       "Smochowice         2018    1"
      ]
     },
     "execution_count": 25,
     "metadata": {},
     "output_type": "execute_result"
    }
   ],
   "source": [
    "fdataset = Filtered(dataset, start_year = 2018, end_year = 2030)\n",
    "AveragePerVariable(fdataset,\"DZIELNICA\",\"ROK_BUDOWY\")"
   ]
  },
  {
   "cell_type": "markdown",
   "metadata": {},
   "source": [
    "## Correlate"
   ]
  },
  {
   "cell_type": "code",
   "execution_count": 26,
   "metadata": {},
   "outputs": [
    {
     "data": {
      "text/html": [
       "<div>\n",
       "<style>\n",
       "    .dataframe thead tr:only-child th {\n",
       "        text-align: right;\n",
       "    }\n",
       "\n",
       "    .dataframe thead th {\n",
       "        text-align: left;\n",
       "    }\n",
       "\n",
       "    .dataframe tbody tr th {\n",
       "        vertical-align: top;\n",
       "    }\n",
       "</style>\n",
       "<table border=\"1\" class=\"dataframe\">\n",
       "  <thead>\n",
       "    <tr style=\"text-align: right;\">\n",
       "      <th></th>\n",
       "      <th>CENA</th>\n",
       "      <th>CENA_M2</th>\n",
       "      <th>POWIERZCHNIA</th>\n",
       "      <th>POKOJE</th>\n",
       "      <th>PIĘTRO</th>\n",
       "      <th>ROK_BUDOWY</th>\n",
       "      <th>CZYNSZ</th>\n",
       "    </tr>\n",
       "  </thead>\n",
       "  <tbody>\n",
       "    <tr>\n",
       "      <th>CENA</th>\n",
       "      <td>1.000</td>\n",
       "      <td>0.522</td>\n",
       "      <td>0.723</td>\n",
       "      <td>0.489</td>\n",
       "      <td>-0.002</td>\n",
       "      <td>0.002</td>\n",
       "      <td>0.512</td>\n",
       "    </tr>\n",
       "    <tr>\n",
       "      <th>CENA_M2</th>\n",
       "      <td>0.522</td>\n",
       "      <td>1.000</td>\n",
       "      <td>-0.114</td>\n",
       "      <td>-0.190</td>\n",
       "      <td>0.109</td>\n",
       "      <td>0.080</td>\n",
       "      <td>0.056</td>\n",
       "    </tr>\n",
       "    <tr>\n",
       "      <th>POWIERZCHNIA</th>\n",
       "      <td>0.723</td>\n",
       "      <td>-0.114</td>\n",
       "      <td>1.000</td>\n",
       "      <td>0.767</td>\n",
       "      <td>-0.107</td>\n",
       "      <td>-0.079</td>\n",
       "      <td>0.467</td>\n",
       "    </tr>\n",
       "    <tr>\n",
       "      <th>POKOJE</th>\n",
       "      <td>0.489</td>\n",
       "      <td>-0.190</td>\n",
       "      <td>0.767</td>\n",
       "      <td>1.000</td>\n",
       "      <td>-0.058</td>\n",
       "      <td>-0.019</td>\n",
       "      <td>0.411</td>\n",
       "    </tr>\n",
       "    <tr>\n",
       "      <th>PIĘTRO</th>\n",
       "      <td>-0.002</td>\n",
       "      <td>0.109</td>\n",
       "      <td>-0.107</td>\n",
       "      <td>-0.058</td>\n",
       "      <td>1.000</td>\n",
       "      <td>0.049</td>\n",
       "      <td>0.081</td>\n",
       "    </tr>\n",
       "    <tr>\n",
       "      <th>ROK_BUDOWY</th>\n",
       "      <td>0.002</td>\n",
       "      <td>0.080</td>\n",
       "      <td>-0.079</td>\n",
       "      <td>-0.019</td>\n",
       "      <td>0.049</td>\n",
       "      <td>1.000</td>\n",
       "      <td>0.049</td>\n",
       "    </tr>\n",
       "    <tr>\n",
       "      <th>CZYNSZ</th>\n",
       "      <td>0.512</td>\n",
       "      <td>0.056</td>\n",
       "      <td>0.467</td>\n",
       "      <td>0.411</td>\n",
       "      <td>0.081</td>\n",
       "      <td>0.049</td>\n",
       "      <td>1.000</td>\n",
       "    </tr>\n",
       "  </tbody>\n",
       "</table>\n",
       "</div>"
      ],
      "text/plain": [
       "               CENA  CENA_M2  POWIERZCHNIA  POKOJE  PIĘTRO  ROK_BUDOWY  CZYNSZ\n",
       "CENA          1.000    0.522         0.723   0.489  -0.002       0.002   0.512\n",
       "CENA_M2       0.522    1.000        -0.114  -0.190   0.109       0.080   0.056\n",
       "POWIERZCHNIA  0.723   -0.114         1.000   0.767  -0.107      -0.079   0.467\n",
       "POKOJE        0.489   -0.190         0.767   1.000  -0.058      -0.019   0.411\n",
       "PIĘTRO       -0.002    0.109        -0.107  -0.058   1.000       0.049   0.081\n",
       "ROK_BUDOWY    0.002    0.080        -0.079  -0.019   0.049       1.000   0.049\n",
       "CZYNSZ        0.512    0.056         0.467   0.411   0.081       0.049   1.000"
      ]
     },
     "execution_count": 26,
     "metadata": {},
     "output_type": "execute_result"
    }
   ],
   "source": [
    "pd.set_option('float_format', '{:.3f}'.format)\n",
    "fdataset = dataset\n",
    "fdataset.corr()"
   ]
  },
  {
   "cell_type": "code",
   "execution_count": 27,
   "metadata": {},
   "outputs": [
    {
     "data": {
      "text/html": [
       "<div>\n",
       "<style>\n",
       "    .dataframe thead tr:only-child th {\n",
       "        text-align: right;\n",
       "    }\n",
       "\n",
       "    .dataframe thead th {\n",
       "        text-align: left;\n",
       "    }\n",
       "\n",
       "    .dataframe tbody tr th {\n",
       "        vertical-align: top;\n",
       "    }\n",
       "</style>\n",
       "<table border=\"1\" class=\"dataframe\">\n",
       "  <thead>\n",
       "    <tr style=\"text-align: right;\">\n",
       "      <th></th>\n",
       "      <th>CENA</th>\n",
       "      <th>CENA_M2</th>\n",
       "      <th>POWIERZCHNIA</th>\n",
       "      <th>POKOJE</th>\n",
       "      <th>PIĘTRO</th>\n",
       "      <th>ROK_BUDOWY</th>\n",
       "      <th>CZYNSZ</th>\n",
       "    </tr>\n",
       "  </thead>\n",
       "  <tbody>\n",
       "    <tr>\n",
       "      <th>CENA</th>\n",
       "      <td>1.000</td>\n",
       "      <td>0.014</td>\n",
       "      <td>0.438</td>\n",
       "      <td>0.341</td>\n",
       "      <td>0.066</td>\n",
       "      <td>0.066</td>\n",
       "      <td>0.261</td>\n",
       "    </tr>\n",
       "    <tr>\n",
       "      <th>CENA_M2</th>\n",
       "      <td>0.014</td>\n",
       "      <td>1.000</td>\n",
       "      <td>-0.815</td>\n",
       "      <td>-0.524</td>\n",
       "      <td>0.048</td>\n",
       "      <td>0.114</td>\n",
       "      <td>-0.310</td>\n",
       "    </tr>\n",
       "    <tr>\n",
       "      <th>POWIERZCHNIA</th>\n",
       "      <td>0.438</td>\n",
       "      <td>-0.815</td>\n",
       "      <td>1.000</td>\n",
       "      <td>0.602</td>\n",
       "      <td>-0.037</td>\n",
       "      <td>-0.117</td>\n",
       "      <td>0.321</td>\n",
       "    </tr>\n",
       "    <tr>\n",
       "      <th>POKOJE</th>\n",
       "      <td>0.341</td>\n",
       "      <td>-0.524</td>\n",
       "      <td>0.602</td>\n",
       "      <td>1.000</td>\n",
       "      <td>0.026</td>\n",
       "      <td>-0.036</td>\n",
       "      <td>0.328</td>\n",
       "    </tr>\n",
       "    <tr>\n",
       "      <th>PIĘTRO</th>\n",
       "      <td>0.066</td>\n",
       "      <td>0.048</td>\n",
       "      <td>-0.037</td>\n",
       "      <td>0.026</td>\n",
       "      <td>1.000</td>\n",
       "      <td>0.033</td>\n",
       "      <td>0.244</td>\n",
       "    </tr>\n",
       "    <tr>\n",
       "      <th>ROK_BUDOWY</th>\n",
       "      <td>0.066</td>\n",
       "      <td>0.114</td>\n",
       "      <td>-0.117</td>\n",
       "      <td>-0.036</td>\n",
       "      <td>0.033</td>\n",
       "      <td>1.000</td>\n",
       "      <td>-0.045</td>\n",
       "    </tr>\n",
       "    <tr>\n",
       "      <th>CZYNSZ</th>\n",
       "      <td>0.261</td>\n",
       "      <td>-0.310</td>\n",
       "      <td>0.321</td>\n",
       "      <td>0.328</td>\n",
       "      <td>0.244</td>\n",
       "      <td>-0.045</td>\n",
       "      <td>1.000</td>\n",
       "    </tr>\n",
       "  </tbody>\n",
       "</table>\n",
       "</div>"
      ],
      "text/plain": [
       "              CENA  CENA_M2  POWIERZCHNIA  POKOJE  PIĘTRO  ROK_BUDOWY  CZYNSZ\n",
       "CENA         1.000    0.014         0.438   0.341   0.066       0.066   0.261\n",
       "CENA_M2      0.014    1.000        -0.815  -0.524   0.048       0.114  -0.310\n",
       "POWIERZCHNIA 0.438   -0.815         1.000   0.602  -0.037      -0.117   0.321\n",
       "POKOJE       0.341   -0.524         0.602   1.000   0.026      -0.036   0.328\n",
       "PIĘTRO       0.066    0.048        -0.037   0.026   1.000       0.033   0.244\n",
       "ROK_BUDOWY   0.066    0.114        -0.117  -0.036   0.033       1.000  -0.045\n",
       "CZYNSZ       0.261   -0.310         0.321   0.328   0.244      -0.045   1.000"
      ]
     },
     "execution_count": 27,
     "metadata": {},
     "output_type": "execute_result"
    }
   ],
   "source": [
    "pd.set_option('float_format', '{:.3f}'.format)\n",
    "fdataset = fdataset = Filtered(dataset, price_min = 230000, price_max = 330000)\n",
    "fdataset.corr()"
   ]
  },
  {
   "cell_type": "markdown",
   "metadata": {},
   "source": [
    "## Findigs about flats from point (2)"
   ]
  },
  {
   "cell_type": "markdown",
   "metadata": {},
   "source": [
    "--dodac podsumowanie i opisy do powyższych kroków i uszergować to w porządny logiczny ciąg"
   ]
  },
  {
   "cell_type": "markdown",
   "metadata": {},
   "source": [
    "## Let's try some Machine Learning"
   ]
  },
  {
   "cell_type": "markdown",
   "metadata": {},
   "source": [
    "* sprobowac zrobic regresje, svm, drzewo, jakis klasyfikator, porozbijac te dane\n",
    "* zaleznosci mozna na calym zbiorze np cena vs liczba pokoi, cena vs wyposazenie\n",
    "* cena od powierzchni ale nie histogramy\n",
    "* ceny wzgledem dzielnic tez na calosci - glownie mediany\n",
    "* wiecej danych jakosciowych\n",
    "* sprobuj sie pobawic regresja, svm etc"
   ]
  },
  {
   "cell_type": "markdown",
   "metadata": {},
   "source": [
    "## Preparing dataset"
   ]
  },
  {
   "cell_type": "code",
   "execution_count": 28,
   "metadata": {},
   "outputs": [],
   "source": [
    "pd.set_option('float_format', '{:.0f}'.format)\n",
    "train = Filtered(dataset, price_min = 200000, price_max = 400000)\n",
    "train.head()\n",
    "train = train[[\"CENA\",\"CENA_M2\",\"POWIERZCHNIA\",\"POKOJE\",\"PIĘTRO\",\"RYNEK\", \"ROK_BUDOWY\", \"STAN_WYKOŃCZENIA\", \n",
    "               \"FORMA_WŁASNOŚCI\"]]"
   ]
  },
  {
   "cell_type": "code",
   "execution_count": 29,
   "metadata": {},
   "outputs": [
    {
     "data": {
      "text/html": [
       "<div>\n",
       "<style>\n",
       "    .dataframe thead tr:only-child th {\n",
       "        text-align: right;\n",
       "    }\n",
       "\n",
       "    .dataframe thead th {\n",
       "        text-align: left;\n",
       "    }\n",
       "\n",
       "    .dataframe tbody tr th {\n",
       "        vertical-align: top;\n",
       "    }\n",
       "</style>\n",
       "<table border=\"1\" class=\"dataframe\">\n",
       "  <thead>\n",
       "    <tr style=\"text-align: right;\">\n",
       "      <th></th>\n",
       "      <th>CENA</th>\n",
       "      <th>CENA_M2</th>\n",
       "      <th>POWIERZCHNIA</th>\n",
       "      <th>POKOJE</th>\n",
       "      <th>PIĘTRO</th>\n",
       "      <th>ROK_BUDOWY</th>\n",
       "    </tr>\n",
       "  </thead>\n",
       "  <tbody>\n",
       "    <tr>\n",
       "      <th>count</th>\n",
       "      <td>2188</td>\n",
       "      <td>2188</td>\n",
       "      <td>2188</td>\n",
       "      <td>2188</td>\n",
       "      <td>1688</td>\n",
       "      <td>1412</td>\n",
       "    </tr>\n",
       "    <tr>\n",
       "      <th>mean</th>\n",
       "      <td>310044</td>\n",
       "      <td>6238</td>\n",
       "      <td>51</td>\n",
       "      <td>2</td>\n",
       "      <td>3</td>\n",
       "      <td>1995</td>\n",
       "    </tr>\n",
       "    <tr>\n",
       "      <th>std</th>\n",
       "      <td>49953</td>\n",
       "      <td>1084</td>\n",
       "      <td>13</td>\n",
       "      <td>1</td>\n",
       "      <td>2</td>\n",
       "      <td>96</td>\n",
       "    </tr>\n",
       "    <tr>\n",
       "      <th>min</th>\n",
       "      <td>200000</td>\n",
       "      <td>2040</td>\n",
       "      <td>23</td>\n",
       "      <td>1</td>\n",
       "      <td>1</td>\n",
       "      <td>1</td>\n",
       "    </tr>\n",
       "    <tr>\n",
       "      <th>25%</th>\n",
       "      <td>273952</td>\n",
       "      <td>5650</td>\n",
       "      <td>43</td>\n",
       "      <td>2</td>\n",
       "      <td>1</td>\n",
       "      <td>1988</td>\n",
       "    </tr>\n",
       "    <tr>\n",
       "      <th>50%</th>\n",
       "      <td>309400</td>\n",
       "      <td>6209</td>\n",
       "      <td>49</td>\n",
       "      <td>2</td>\n",
       "      <td>3</td>\n",
       "      <td>2016</td>\n",
       "    </tr>\n",
       "    <tr>\n",
       "      <th>75%</th>\n",
       "      <td>349000</td>\n",
       "      <td>6700</td>\n",
       "      <td>58</td>\n",
       "      <td>3</td>\n",
       "      <td>4</td>\n",
       "      <td>2018</td>\n",
       "    </tr>\n",
       "    <tr>\n",
       "      <th>max</th>\n",
       "      <td>400000</td>\n",
       "      <td>12176</td>\n",
       "      <td>125</td>\n",
       "      <td>8</td>\n",
       "      <td>10</td>\n",
       "      <td>2108</td>\n",
       "    </tr>\n",
       "  </tbody>\n",
       "</table>\n",
       "</div>"
      ],
      "text/plain": [
       "        CENA  CENA_M2  POWIERZCHNIA  POKOJE  PIĘTRO  ROK_BUDOWY\n",
       "count   2188     2188          2188    2188    1688        1412\n",
       "mean  310044     6238            51       2       3        1995\n",
       "std    49953     1084            13       1       2          96\n",
       "min   200000     2040            23       1       1           1\n",
       "25%   273952     5650            43       2       1        1988\n",
       "50%   309400     6209            49       2       3        2016\n",
       "75%   349000     6700            58       3       4        2018\n",
       "max   400000    12176           125       8      10        2108"
      ]
     },
     "execution_count": 29,
     "metadata": {},
     "output_type": "execute_result"
    }
   ],
   "source": [
    "train.describe()"
   ]
  },
  {
   "cell_type": "markdown",
   "metadata": {},
   "source": [
    "We can notice some suspected data, especially in max row. I checked this data and we should delete row where number of rooms is equal 277761 and row where year of building is equal 2108. "
   ]
  },
  {
   "cell_type": "code",
   "execution_count": 30,
   "metadata": {},
   "outputs": [
    {
     "data": {
      "text/html": [
       "<div>\n",
       "<style>\n",
       "    .dataframe thead tr:only-child th {\n",
       "        text-align: right;\n",
       "    }\n",
       "\n",
       "    .dataframe thead th {\n",
       "        text-align: left;\n",
       "    }\n",
       "\n",
       "    .dataframe tbody tr th {\n",
       "        vertical-align: top;\n",
       "    }\n",
       "</style>\n",
       "<table border=\"1\" class=\"dataframe\">\n",
       "  <thead>\n",
       "    <tr style=\"text-align: right;\">\n",
       "      <th></th>\n",
       "      <th>CENA</th>\n",
       "      <th>CENA_M2</th>\n",
       "      <th>POWIERZCHNIA</th>\n",
       "      <th>POKOJE</th>\n",
       "      <th>PIĘTRO</th>\n",
       "      <th>ROK_BUDOWY</th>\n",
       "    </tr>\n",
       "  </thead>\n",
       "  <tbody>\n",
       "    <tr>\n",
       "      <th>count</th>\n",
       "      <td>2184</td>\n",
       "      <td>2184</td>\n",
       "      <td>2184</td>\n",
       "      <td>2184</td>\n",
       "      <td>1684</td>\n",
       "      <td>1408</td>\n",
       "    </tr>\n",
       "    <tr>\n",
       "      <th>mean</th>\n",
       "      <td>310091</td>\n",
       "      <td>6239</td>\n",
       "      <td>51</td>\n",
       "      <td>2</td>\n",
       "      <td>3</td>\n",
       "      <td>1999</td>\n",
       "    </tr>\n",
       "    <tr>\n",
       "      <th>std</th>\n",
       "      <td>49972</td>\n",
       "      <td>1083</td>\n",
       "      <td>13</td>\n",
       "      <td>1</td>\n",
       "      <td>2</td>\n",
       "      <td>30</td>\n",
       "    </tr>\n",
       "    <tr>\n",
       "      <th>min</th>\n",
       "      <td>200000</td>\n",
       "      <td>2040</td>\n",
       "      <td>23</td>\n",
       "      <td>1</td>\n",
       "      <td>1</td>\n",
       "      <td>1898</td>\n",
       "    </tr>\n",
       "    <tr>\n",
       "      <th>25%</th>\n",
       "      <td>273952</td>\n",
       "      <td>5650</td>\n",
       "      <td>43</td>\n",
       "      <td>2</td>\n",
       "      <td>1</td>\n",
       "      <td>1989</td>\n",
       "    </tr>\n",
       "    <tr>\n",
       "      <th>50%</th>\n",
       "      <td>309400</td>\n",
       "      <td>6209</td>\n",
       "      <td>49</td>\n",
       "      <td>2</td>\n",
       "      <td>3</td>\n",
       "      <td>2016</td>\n",
       "    </tr>\n",
       "    <tr>\n",
       "      <th>75%</th>\n",
       "      <td>349000</td>\n",
       "      <td>6700</td>\n",
       "      <td>58</td>\n",
       "      <td>3</td>\n",
       "      <td>4</td>\n",
       "      <td>2018</td>\n",
       "    </tr>\n",
       "    <tr>\n",
       "      <th>max</th>\n",
       "      <td>400000</td>\n",
       "      <td>12176</td>\n",
       "      <td>125</td>\n",
       "      <td>8</td>\n",
       "      <td>10</td>\n",
       "      <td>2020</td>\n",
       "    </tr>\n",
       "  </tbody>\n",
       "</table>\n",
       "</div>"
      ],
      "text/plain": [
       "        CENA  CENA_M2  POWIERZCHNIA  POKOJE  PIĘTRO  ROK_BUDOWY\n",
       "count   2184     2184          2184    2184    1684        1408\n",
       "mean  310091     6239            51       2       3        1999\n",
       "std    49972     1083            13       1       2          30\n",
       "min   200000     2040            23       1       1        1898\n",
       "25%   273952     5650            43       2       1        1989\n",
       "50%   309400     6209            49       2       3        2016\n",
       "75%   349000     6700            58       3       4        2018\n",
       "max   400000    12176           125       8      10        2020"
      ]
     },
     "execution_count": 30,
     "metadata": {},
     "output_type": "execute_result"
    }
   ],
   "source": [
    "train.drop(train[train[\"POKOJE\"] == 277761].index, inplace = True)\n",
    "train.drop(train[train[\"ROK_BUDOWY\"] == 2108].index, inplace = True)\n",
    "train.drop(train[train[\"ROK_BUDOWY\"] == 1].index, inplace = True)\n",
    "train.drop(train[train[\"ROK_BUDOWY\"] == 70].index, inplace = True)\n",
    "train.describe()"
   ]
  },
  {
   "cell_type": "markdown",
   "metadata": {},
   "source": [
    "In this step I choose columns for ML and fill missing data in variables PIĘTRO and ROK_BUDOWY. You can notice that there are also qualitative data - we should map it to integres. We use for this lambda function. It's easy to convert variable RYNEK to numbers because always has only two values without nan. For variables STAN_WYKOŃCZENIA and FORMA_WŁASNOŚCI I will do following steps:\n",
    "* check how many data is missing\n",
    "* check percentage distribuation of missing data\n",
    "\n",
    "The same steps I will do for missing data in PIĘTRO and ROK_BUDOWY.\n",
    "\n",
    "From the below code we can see that 55% flats as 'do wykończenia' and 40% 'do zamieszkania'. In this case for missing data I will insert pseudo-random values 'do wykonczenia' and 'do zamieszkania'.\n",
    "\n",
    "For 85% of data value in FORMA_WŁASNOŚCI is equal 'pełna własnośc'. In this case every missing data I substitue with 'pełna własność'"
   ]
  },
  {
   "cell_type": "code",
   "execution_count": 31,
   "metadata": {},
   "outputs": [
    {
     "name": "stdout",
     "output_type": "stream",
     "text": [
      "['wtórny' 'pierwotny']\n",
      "['do wykończenia' 'do zamieszkania' nan 'do remontu']\n",
      "['pełna własność' nan 'spółdzielcze wł. z KW' 'spółdzielcze własnościowe'\n",
      " 'udział']\n"
     ]
    }
   ],
   "source": [
    "print(train.RYNEK.unique())\n",
    "print(train.STAN_WYKOŃCZENIA.unique())\n",
    "print(train.FORMA_WŁASNOŚCI.unique())"
   ]
  },
  {
   "cell_type": "code",
   "execution_count": 32,
   "metadata": {},
   "outputs": [
    {
     "name": "stdout",
     "output_type": "stream",
     "text": [
      "Missing values:  945\n",
      "Perentage distribution: \n",
      " STAN_WYKOŃCZENIA\n",
      "do remontu        0.04\n",
      "do wykończenia    0.59\n",
      "do zamieszkania   0.37\n",
      "dtype: float64\n"
     ]
    }
   ],
   "source": [
    "pd.set_option('float_format', '{:.2f}'.format)\n",
    "print(\"Missing values: \", train.STAN_WYKOŃCZENIA.isnull().sum())\n",
    "print(\"Perentage distribution: \\n\",\n",
    "      train.groupby([\"STAN_WYKOŃCZENIA\"]).size()\n",
    "      .apply(lambda x: x/(len(train.index)-train.STAN_WYKOŃCZENIA.isnull().sum())))"
   ]
  },
  {
   "cell_type": "code",
   "execution_count": 33,
   "metadata": {},
   "outputs": [
    {
     "name": "stdout",
     "output_type": "stream",
     "text": [
      "Missing values:  770\n",
      "Percentage distribution: \n",
      " FORMA_WŁASNOŚCI\n",
      "pełna własność              0.83\n",
      "spółdzielcze wł. z KW       0.08\n",
      "spółdzielcze własnościowe   0.09\n",
      "udział                      0.00\n",
      "dtype: float64\n"
     ]
    }
   ],
   "source": [
    "pd.set_option('float_format', '{:.2f}'.format)\n",
    "print(\"Missing values: \",train.FORMA_WŁASNOŚCI.isnull().sum())\n",
    "print(\"Percentage distribution: \\n\",\n",
    "      train.groupby([\"FORMA_WŁASNOŚCI\"]).size()\n",
    "      .apply(lambda x: x/(len(train.index)-train.FORMA_WŁASNOŚCI.isnull().sum())))"
   ]
  },
  {
   "cell_type": "code",
   "execution_count": 34,
   "metadata": {},
   "outputs": [],
   "source": [
    "train[\"RYNEK\"] = train[\"RYNEK\"].apply(lambda rynek:0 if rynek==\"pierwotny\" else  1)\n",
    "train[\"STAN_WYKOŃCZENIA\"] = train[\"STAN_WYKOŃCZENIA\"].apply(lambda stan:0 if stan==\"do remontu\" else\n",
    "                                                            (1 if stan==\"do wykończenia\" else \n",
    "                                                            (2 if stan==\"do zamieszkania\" else\n",
    "                                                            random.randint(1,2))))\n",
    "train[\"FORMA_WŁASNOŚCI\"] = train[\"FORMA_WŁASNOŚCI\"].apply(lambda forma:0 if forma==\"pełna własność\" else\n",
    "                                                         (1 if forma==\"spółdzielcze wł. z KW\" else\n",
    "                                                         (2 if forma==\"spółdzielcze własnościowe\" else\n",
    "                                                         (3 if forma==\"udział\" else 0))))\n",
    "train[\"ROK_BUDOWY\"] = train[\"ROK_BUDOWY\"].fillna(value=random.randint(2000,2020))\n",
    "train[\"PIĘTRO\"] = train[\"PIĘTRO\"].fillna(value=random.randint(1,10))"
   ]
  },
  {
   "cell_type": "code",
   "execution_count": 35,
   "metadata": {},
   "outputs": [
    {
     "data": {
      "text/html": [
       "<div>\n",
       "<style>\n",
       "    .dataframe thead tr:only-child th {\n",
       "        text-align: right;\n",
       "    }\n",
       "\n",
       "    .dataframe thead th {\n",
       "        text-align: left;\n",
       "    }\n",
       "\n",
       "    .dataframe tbody tr th {\n",
       "        vertical-align: top;\n",
       "    }\n",
       "</style>\n",
       "<table border=\"1\" class=\"dataframe\">\n",
       "  <thead>\n",
       "    <tr style=\"text-align: right;\">\n",
       "      <th></th>\n",
       "      <th>CENA</th>\n",
       "      <th>CENA_M2</th>\n",
       "      <th>POWIERZCHNIA</th>\n",
       "      <th>POKOJE</th>\n",
       "      <th>PIĘTRO</th>\n",
       "      <th>RYNEK</th>\n",
       "      <th>ROK_BUDOWY</th>\n",
       "      <th>STAN_WYKOŃCZENIA</th>\n",
       "      <th>FORMA_WŁASNOŚCI</th>\n",
       "    </tr>\n",
       "  </thead>\n",
       "  <tbody>\n",
       "    <tr>\n",
       "      <th>count</th>\n",
       "      <td>2184</td>\n",
       "      <td>2184</td>\n",
       "      <td>2184</td>\n",
       "      <td>2184</td>\n",
       "      <td>2184</td>\n",
       "      <td>2184</td>\n",
       "      <td>2184</td>\n",
       "      <td>2184</td>\n",
       "      <td>2184</td>\n",
       "    </tr>\n",
       "    <tr>\n",
       "      <th>mean</th>\n",
       "      <td>310091</td>\n",
       "      <td>6239</td>\n",
       "      <td>51</td>\n",
       "      <td>2</td>\n",
       "      <td>4</td>\n",
       "      <td>1</td>\n",
       "      <td>2004</td>\n",
       "      <td>1</td>\n",
       "      <td>0</td>\n",
       "    </tr>\n",
       "    <tr>\n",
       "      <th>std</th>\n",
       "      <td>49972</td>\n",
       "      <td>1083</td>\n",
       "      <td>13</td>\n",
       "      <td>1</td>\n",
       "      <td>3</td>\n",
       "      <td>0</td>\n",
       "      <td>25</td>\n",
       "      <td>1</td>\n",
       "      <td>1</td>\n",
       "    </tr>\n",
       "    <tr>\n",
       "      <th>min</th>\n",
       "      <td>200000</td>\n",
       "      <td>2040</td>\n",
       "      <td>23</td>\n",
       "      <td>1</td>\n",
       "      <td>1</td>\n",
       "      <td>0</td>\n",
       "      <td>1898</td>\n",
       "      <td>0</td>\n",
       "      <td>0</td>\n",
       "    </tr>\n",
       "    <tr>\n",
       "      <th>25%</th>\n",
       "      <td>273952</td>\n",
       "      <td>5650</td>\n",
       "      <td>43</td>\n",
       "      <td>2</td>\n",
       "      <td>2</td>\n",
       "      <td>0</td>\n",
       "      <td>2008</td>\n",
       "      <td>1</td>\n",
       "      <td>0</td>\n",
       "    </tr>\n",
       "    <tr>\n",
       "      <th>50%</th>\n",
       "      <td>309400</td>\n",
       "      <td>6209</td>\n",
       "      <td>49</td>\n",
       "      <td>2</td>\n",
       "      <td>3</td>\n",
       "      <td>1</td>\n",
       "      <td>2012</td>\n",
       "      <td>1</td>\n",
       "      <td>0</td>\n",
       "    </tr>\n",
       "    <tr>\n",
       "      <th>75%</th>\n",
       "      <td>349000</td>\n",
       "      <td>6700</td>\n",
       "      <td>58</td>\n",
       "      <td>3</td>\n",
       "      <td>8</td>\n",
       "      <td>1</td>\n",
       "      <td>2017</td>\n",
       "      <td>2</td>\n",
       "      <td>0</td>\n",
       "    </tr>\n",
       "    <tr>\n",
       "      <th>max</th>\n",
       "      <td>400000</td>\n",
       "      <td>12176</td>\n",
       "      <td>125</td>\n",
       "      <td>8</td>\n",
       "      <td>10</td>\n",
       "      <td>1</td>\n",
       "      <td>2020</td>\n",
       "      <td>2</td>\n",
       "      <td>3</td>\n",
       "    </tr>\n",
       "  </tbody>\n",
       "</table>\n",
       "</div>"
      ],
      "text/plain": [
       "        CENA  CENA_M2  POWIERZCHNIA  POKOJE  PIĘTRO  RYNEK  ROK_BUDOWY  \\\n",
       "count   2184     2184          2184    2184    2184   2184        2184   \n",
       "mean  310091     6239            51       2       4      1        2004   \n",
       "std    49972     1083            13       1       3      0          25   \n",
       "min   200000     2040            23       1       1      0        1898   \n",
       "25%   273952     5650            43       2       2      0        2008   \n",
       "50%   309400     6209            49       2       3      1        2012   \n",
       "75%   349000     6700            58       3       8      1        2017   \n",
       "max   400000    12176           125       8      10      1        2020   \n",
       "\n",
       "       STAN_WYKOŃCZENIA  FORMA_WŁASNOŚCI  \n",
       "count              2184             2184  \n",
       "mean                  1                0  \n",
       "std                   1                1  \n",
       "min                   0                0  \n",
       "25%                   1                0  \n",
       "50%                   1                0  \n",
       "75%                   2                0  \n",
       "max                   2                3  "
      ]
     },
     "execution_count": 35,
     "metadata": {},
     "output_type": "execute_result"
    }
   ],
   "source": [
    "pd.set_option('float_format', '{:.0f}'.format)\n",
    "train.describe()"
   ]
  },
  {
   "cell_type": "markdown",
   "metadata": {},
   "source": [
    "So what is important for Machine Learning - we can see that not in every offers we have information about year of building and about rent. So we should fill this fields or ommit it in our model. In my opinon both of them are important and have influence on price. "
   ]
  },
  {
   "cell_type": "code",
   "execution_count": 36,
   "metadata": {},
   "outputs": [
    {
     "data": {
      "image/png": "[encoded data removed]",
      "text/plain": [
       "<matplotlib.figure.Figure at 0x135b1f98>"
      ]
     },
     "metadata": {},
     "output_type": "display_data"
    }
   ],
   "source": [
    "train = Filtered(train, price_max = 2000000)\n",
    "train[\"CENA_M2\"].hist(bins=40)\n",
    "plt.title(\"Distribution of: CENA_M2\")\n",
    "plt.xlabel(\"CENA_M2\")\n",
    "plt.ylabel(\"Number of offers\")\n",
    "plt.show()"
   ]
  },
  {
   "cell_type": "code",
   "execution_count": 37,
   "metadata": {},
   "outputs": [
    {
     "data": {
      "text/plain": [
       "<matplotlib.axes._subplots.AxesSubplot at 0x5803b70>"
      ]
     },
     "execution_count": 37,
     "metadata": {},
     "output_type": "execute_result"
    },
    {
     "data": {
      "image/png": "[encoded data removed]",
      "text/plain": [
       "<matplotlib.figure.Figure at 0x13381dd8>"
      ]
     },
     "metadata": {},
     "output_type": "display_data"
    }
   ],
   "source": [
    "train.plot.scatter(\"CENA_M2\",\"POWIERZCHNIA\")"
   ]
  },
  {
   "cell_type": "code",
   "execution_count": 38,
   "metadata": {},
   "outputs": [
    {
     "data": {
      "text/plain": [
       "<matplotlib.axes._subplots.AxesSubplot at 0x136f5ef0>"
      ]
     },
     "execution_count": 38,
     "metadata": {},
     "output_type": "execute_result"
    },
    {
     "data": {
      "image/png": "[encoded data removed]",
      "text/plain": [
       "<matplotlib.figure.Figure at 0x13749978>"
      ]
     },
     "metadata": {},
     "output_type": "display_data"
    }
   ],
   "source": [
    "train.plot.scatter(\"CENA_M2\",\"POKOJE\")"
   ]
  },
  {
   "cell_type": "code",
   "execution_count": 39,
   "metadata": {},
   "outputs": [
    {
     "data": {
      "text/plain": [
       "<matplotlib.axes._subplots.AxesSubplot at 0x139caa58>"
      ]
     },
     "execution_count": 39,
     "metadata": {},
     "output_type": "execute_result"
    },
    {
     "data": {
      "image/png": "[encoded data removed]",
      "text/plain": [
       "<matplotlib.figure.Figure at 0x139d24a8>"
      ]
     },
     "metadata": {},
     "output_type": "display_data"
    }
   ],
   "source": [
    "train.plot.scatter(\"CENA_M2\",\"PIĘTRO\")"
   ]
  },
  {
   "cell_type": "code",
   "execution_count": 40,
   "metadata": {},
   "outputs": [
    {
     "data": {
      "text/plain": [
       "<matplotlib.axes._subplots.AxesSubplot at 0x139ee2b0>"
      ]
     },
     "execution_count": 40,
     "metadata": {},
     "output_type": "execute_result"
    },
    {
     "data": {
      "image/png": "[encoded data removed]",
      "text/plain": [
       "<matplotlib.figure.Figure at 0x13a3a2e8>"
      ]
     },
     "metadata": {},
     "output_type": "display_data"
    }
   ],
   "source": [
    "train.plot.scatter(\"CENA_M2\",\"RYNEK\")"
   ]
  },
  {
   "cell_type": "code",
   "execution_count": 41,
   "metadata": {},
   "outputs": [
    {
     "data": {
      "text/plain": [
       "<matplotlib.axes._subplots.AxesSubplot at 0x13a98dd8>"
      ]
     },
     "execution_count": 41,
     "metadata": {},
     "output_type": "execute_result"
    },
    {
     "data": {
      "image/png": "[encoded data removed]",
      "text/plain": [
       "<matplotlib.figure.Figure at 0x13a61eb8>"
      ]
     },
     "metadata": {},
     "output_type": "display_data"
    }
   ],
   "source": [
    "train.plot.scatter(\"CENA_M2\",\"ROK_BUDOWY\")"
   ]
  },
  {
   "cell_type": "code",
   "execution_count": 42,
   "metadata": {},
   "outputs": [
    {
     "data": {
      "text/plain": [
       "<matplotlib.axes._subplots.AxesSubplot at 0x13abc0b8>"
      ]
     },
     "execution_count": 42,
     "metadata": {},
     "output_type": "execute_result"
    },
    {
     "data": {
      "image/png": "[encoded data removed]",
      "text/plain": [
       "<matplotlib.figure.Figure at 0x13b172b0>"
      ]
     },
     "metadata": {},
     "output_type": "display_data"
    }
   ],
   "source": [
    "train.plot.scatter(\"CENA_M2\",\"STAN_WYKOŃCZENIA\")"
   ]
  },
  {
   "cell_type": "code",
   "execution_count": 43,
   "metadata": {},
   "outputs": [
    {
     "data": {
      "text/plain": [
       "<matplotlib.axes._subplots.AxesSubplot at 0x14de7860>"
      ]
     },
     "execution_count": 43,
     "metadata": {},
     "output_type": "execute_result"
    },
    {
     "data": {
      "image/png": "[encoded data removed]",
      "text/plain": [
       "<matplotlib.figure.Figure at 0x14df0208>"
      ]
     },
     "metadata": {},
     "output_type": "display_data"
    }
   ],
   "source": [
    "train.plot.scatter(\"CENA_M2\",\"FORMA_WŁASNOŚCI\")"
   ]
  },
  {
   "cell_type": "markdown",
   "metadata": {},
   "source": [
    "## Multiple regression"
   ]
  },
  {
   "cell_type": "markdown",
   "metadata": {},
   "source": [
    "* criterion variable is CENA_M2"
   ]
  },
  {
   "cell_type": "code",
   "execution_count": 44,
   "metadata": {},
   "outputs": [],
   "source": [
    "from sklearn.linear_model import LinearRegression\n",
    "from sklearn.preprocessing import MinMaxScaler"
   ]
  },
  {
   "cell_type": "code",
   "execution_count": 45,
   "metadata": {},
   "outputs": [],
   "source": [
    "reg = LinearRegression()"
   ]
  },
  {
   "cell_type": "code",
   "execution_count": 46,
   "metadata": {},
   "outputs": [],
   "source": [
    "labels = train[\"CENA_M2\"]\n",
    "data = train.drop([\"CENA\",\"CENA_M2\"], axis=1)"
   ]
  },
  {
   "cell_type": "code",
   "execution_count": 47,
   "metadata": {},
   "outputs": [],
   "source": [
    "pd.set_option('float_format', '{:.5f}'.format)\n",
    "scaler = MinMaxScaler() \n",
    "scaled_values = scaler.fit_transform(data) \n",
    "data.loc[:,:] = scaled_values"
   ]
  },
  {
   "cell_type": "code",
   "execution_count": 48,
   "metadata": {},
   "outputs": [
    {
     "name": "stderr",
     "output_type": "stream",
     "text": [
      "c:\\python34\\lib\\site-packages\\sklearn\\cross_validation.py:41: DeprecationWarning:\n",
      "\n",
      "This module was deprecated in version 0.18 in favor of the model_selection module into which all the refactored classes and functions are moved. Also note that the interface of the new CV iterators are different from that of this module. This module will be removed in 0.20.\n",
      "\n"
     ]
    }
   ],
   "source": [
    "from sklearn.cross_validation import train_test_split"
   ]
  },
  {
   "cell_type": "code",
   "execution_count": 49,
   "metadata": {},
   "outputs": [],
   "source": [
    "x_train, x_test, y_train, y_test = train_test_split(data, labels, test_size = 0.20, random_state = 20)"
   ]
  },
  {
   "cell_type": "code",
   "execution_count": 50,
   "metadata": {},
   "outputs": [
    {
     "data": {
      "text/plain": [
       "LinearRegression(copy_X=True, fit_intercept=True, n_jobs=1, normalize=False)"
      ]
     },
     "execution_count": 50,
     "metadata": {},
     "output_type": "execute_result"
    }
   ],
   "source": [
    "reg.fit(x_train,y_train)"
   ]
  },
  {
   "cell_type": "code",
   "execution_count": 51,
   "metadata": {},
   "outputs": [
    {
     "data": {
      "text/plain": [
       "0.53963874523445754"
      ]
     },
     "execution_count": 51,
     "metadata": {},
     "output_type": "execute_result"
    }
   ],
   "source": [
    "reg.score(x_test,y_test)"
   ]
  },
  {
   "cell_type": "markdown",
   "metadata": {},
   "source": [
    "Results of predicting data is 54%. It is weak result for me, so I will try apply gradient boosting regression. "
   ]
  },
  {
   "cell_type": "markdown",
   "metadata": {},
   "source": [
    "## Gradient Boosting Regression"
   ]
  },
  {
   "cell_type": "code",
   "execution_count": 84,
   "metadata": {},
   "outputs": [
    {
     "data": {
      "text/plain": [
       "0.72527231151719018"
      ]
     },
     "execution_count": 84,
     "metadata": {},
     "output_type": "execute_result"
    }
   ],
   "source": [
    "from sklearn import ensemble\n",
    "clf = ensemble.GradientBoostingRegressor(n_estimators = 200, max_depth = 7, min_samples_split=3, \n",
    "                                         learning_rate = 0.1, loss = \"ls\")\n",
    "clf.fit(x_train,y_train)\n",
    "clf.score(x_test,y_test)"
   ]
  },
  {
   "cell_type": "markdown",
   "metadata": {},
   "source": [
    "Results of predicting data is 72%"
   ]
  },
  {
   "cell_type": "code",
   "execution_count": null,
   "metadata": {},
   "outputs": [],
   "source": []
  }
 ],
 "metadata": {
  "kernelspec": {
   "display_name": "Python 3",
   "language": "python",
   "name": "python3"
  },
  "language_info": {
   "codemirror_mode": {
    "name": "ipython",
    "version": 3
   },
   "file_extension": ".py",
   "mimetype": "text/x-python",
   "name": "python",
   "nbconvert_exporter": "python",
   "pygments_lexer": "ipython3",
   "version": "3.4.3"
  }
 },
 "nbformat": 4,
 "nbformat_minor": 2
}
