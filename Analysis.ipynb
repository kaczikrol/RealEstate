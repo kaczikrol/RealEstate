{
 "cells": [
  {
   "cell_type": "markdown",
   "metadata": {},
   "source": [
    "# Poznań - Real estate market analysis\n",
    "\n",
    "## Description\n",
    "\n",
    "## 1. Introduce\n",
    "\n",
    "Main purpose this document is understanding of situation on Poznan flat market. User of this document can analyse data by himself and also take a look into mine findings \n",
    "summaries. It's not full market analyse - I have focused only on interesting for me variables and relationships. Have fun!"
   ]
  },
  {
   "cell_type": "markdown",
   "metadata": {},
   "source": [
    "## 2. Used libraries for analysis"
   ]
  },
  {
   "cell_type": "code",
   "execution_count": 47,
   "metadata": {},
   "outputs": [],
   "source": [
    "import pandas as pd\n",
    "import numpy as np\n",
    "import matplotlib.pyplot as plt\n",
    "import math\n",
    "import ipywidgets as widgets\n",
    "import scipy\n",
    "import plotly.plotly as py\n",
    "import plotly.graph_objs as go\n",
    "import seaborn as sns\n",
    "from scipy import stats\n",
    "from ipywidgets import interact, interactive, fixed, interact_manual\n",
    "from matplotlib import style\n",
    "from IPython.core.display import display, HTML\n",
    "style.use(\"fivethirtyeight\")\n",
    "\n",
    "%matplotlib inline\n",
    "plt.rcParams[\"figure.figsize\"] = [9,6]"
   ]
  },
  {
   "cell_type": "markdown",
   "metadata": {},
   "source": [
    "## 3. User-definied functions\n",
    "Below you can see two functions <i>Range</i> and <i>Histogram</i>. Function <i>Range</i> add to our dataset new column with surfaces ranges."
   ]
  },
  {
   "cell_type": "code",
   "execution_count": 2,
   "metadata": {},
   "outputs": [],
   "source": [
    "def Range(surface):\n",
    "    \"\"\"Function for creating surface ranges\"\"\"\n",
    "    df = pd.DataFrame(surface)\n",
    "    list_values = []\n",
    "    for value in surface.values:\n",
    "        if value<31:\n",
    "            list_values.append(\"0-30\")\n",
    "        elif value<41:\n",
    "            list_values.append(\"31-40\")\n",
    "        elif value<51:\n",
    "            list_values.append(\"41-50\")\n",
    "        elif value<61:\n",
    "            list_values.append(\"51-60\")\n",
    "        elif value<71:\n",
    "            list_values.append(\"61-70\")\n",
    "        elif value<81:\n",
    "            list_values.append(\"71-80\")\n",
    "        elif value<101:\n",
    "            list_values.append(\"81-100\")\n",
    "        elif value is None:\n",
    "            list_values.append(\"N/A\")\n",
    "        else:\n",
    "            list_values.append(\">100\")\n",
    "    df[\"PRZEDZIAŁ_POW\"] = list_values\n",
    "    return df[\"PRZEDZIAŁ_POW\"]"
   ]
  },
  {
   "cell_type": "markdown",
   "metadata": {},
   "source": [
    "Function <i>Histogram</i> is little more complex - returns histogram for input data.In <i>Histogram</i> you can insert values to filter data it can be price, year of building flat, market type, flat surface, number of rooms and district. But for your comfort I have created special sliders so you don't have to type."
   ]
  },
  {
   "cell_type": "code",
   "execution_count": 3,
   "metadata": {},
   "outputs": [],
   "source": [
    "analysis_headers = [\"CENA\", \"CENA_M2\", \"POWIERZCHNIA\", \"POKOJE\", \"ROK_BUDOWY\", \"DZIELNICA\"]\n",
    "district_headers = ['Antoninek','Zieliniec','Kobylepole','Chartowo','Fabianowo','Kotowo','Główna','Głuszyna',\n",
    "                    'Górczyn','Grunwald','Jana III Sobieskiego','Jeżyce','Junikowo','Kiekrz','Krzesiny',\n",
    "                    'Pokrzywno','Garaszewo','Krzyżowniki','Smochowice','Kwiatowe','Ławica','Morasko','Radojewo',\n",
    "                    'Naramowice','Winogrady','Ogrody','Ostrów Tumski','Śródka','Zawady','Komandoria','Piątkowo',\n",
    "                    'Podolany','Rataje','Sołacz','Stare Miasto','Stare Winogrady','Starołęka','Minikowo',\n",
    "                    'Marlewo','Stary Grunwald','Strzeszyn','Szczepankowo','Spławie','Krzesinki','Łazarz',\n",
    "                    'Świerczewo','Umultowo','Warszawskie','Pomet','Maltańskie','Wilda','Winiary','Wola',\n",
    "                    'Zielony Dębiec','Żegrze','Dębiec','','NaN','NA']\n",
    "var_dictionary = {\"CENA\":\"Price\", \"CENA_M2\":\"Price_M2\", \"POWIERZCHNIA\":\"Surface\", \"POKOJE\":\"Rooms\", \"ROK_BUDOWY\":\n",
    "                 \"Year of building\", \"DZIELNICA\":\"District\"}"
   ]
  },
  {
   "cell_type": "code",
   "execution_count": 4,
   "metadata": {},
   "outputs": [],
   "source": [
    "def Filtered(dataset, price_min = None, price_max = None, start_year = None, end_year = None, min_surface = None, \n",
    "             max_surface = None, min_rooms = None, max_rooms = None, district = None, market = None):\n",
    "    \"\"\"function for data filter, return dataframe\"\"\"\n",
    "    \n",
    "    if price_min is not None:\n",
    "        dataset = dataset[(dataset[\"CENA\"] >= price_min)]\n",
    "    if price_max is not None:\n",
    "        dataset = dataset[(dataset[\"CENA\"] <= price_max)]\n",
    "    if start_year is not None:\n",
    "        dataset = dataset[(dataset[\"ROK_BUDOWY\"] >= start_year)]\n",
    "    if end_year is not None:\n",
    "        dataset = dataset[(dataset[\"ROK_BUDOWY\"] <= end_year)]\n",
    "    if min_surface is not None:\n",
    "        dataset = dataset[(dataset[\"POWIERZCHNIA\"] >= min_surface)]\n",
    "    if max_surface is not None:\n",
    "        dataset = dataset[(dataset[\"POWIERZCHNIA\"] <= max_surface)]\n",
    "    if min_rooms is not None:\n",
    "        dataset = dataset[(dataset[\"POKOJE\"] >= min_rooms)]\n",
    "    if max_rooms is not None:\n",
    "        dataset = dataset[(dataset[\"POKOJE\"] <= max_rooms)]\n",
    "    if district is not None:\n",
    "        dataset = dataset[dataset[\"DZIELNICA\"] == district]\n",
    "    if market is not None:\n",
    "        dataset = dataset[(dataset[\"RYNEK\"] == market)]\n",
    "    return dataset"
   ]
  },
  {
   "cell_type": "code",
   "execution_count": 5,
   "metadata": {},
   "outputs": [],
   "source": [
    "def HistogramPlot(variable, dataset):\n",
    "    \n",
    "    data_array = np.array((dataset[[variable]]))\n",
    "    hist_data = np.histogram(data_array)\n",
    "    binsize = hist_data[1][1] - hist_data[1][0]\n",
    "    \n",
    "    trace1 = go.Histogram(\n",
    "        x=data_array,\n",
    "        histnorm='count',\n",
    "        name='Histogram of Wind Speed',\n",
    "        autobinx=False,\n",
    "        xbins=dict(\n",
    "            start=hist_data[1][0],\n",
    "            end=hist_data[1][-1],\n",
    "            size=binsize)\n",
    "    )\n",
    "\n",
    "    trace_data = [trace1]\n",
    "    layout = go.Layout(\n",
    "        bargroupgap=0.3\n",
    "    )\n",
    "    fig = go.Figure(data=trace_data, layout=layout)\n",
    "    return py.iplot(fig)\n",
    "    "
   ]
  },
  {
   "cell_type": "code",
   "execution_count": 6,
   "metadata": {},
   "outputs": [],
   "source": [
    "def BarPlot():\n",
    "    pass"
   ]
  },
  {
   "cell_type": "code",
   "execution_count": 7,
   "metadata": {},
   "outputs": [],
   "source": [
    "def Statistics(dataset):\n",
    "    df = pd.DataFrame()\n",
    "    try:\n",
    "        df = df.append({\"Description\":\"Number of offers all:\" , \"Value\":\"{:0,.0f}\".format(len(dataset.index))},\n",
    "                       ignore_index=True)\n",
    "        df = df.append({\"Description\":\"Number of offers on primary market:\" , \"Value\":\"{:0,.0f}\".format(len(dataset[(dataset[\"RYNEK\"] == \"pierwotny\")].index))},\n",
    "                       ignore_index=True)\n",
    "        df = df.append({\"Description\":\"Number of offers on secondary market:\" , \"Value\":\"{:0,.0f}\".format(len(dataset[(dataset[\"RYNEK\"] == \"wtórny\")].index))},\n",
    "                       ignore_index=True)\n",
    "        df = df.append({\"Description\":\"Average price for square meter:\" , \"Value\":\"{:0,.0f}\".format(dataset[\"CENA_M2\"].mean())},\n",
    "                       ignore_index=True)\n",
    "        df = df.append({\"Description\":\"Average price for square meter primary market:\" , \"Value\":\"{:0,.0f}\".format(dataset[(dataset[\"RYNEK\"] == \"pierwotny\")][\"CENA_M2\"].mean())},\n",
    "                       ignore_index=True)\n",
    "        df = df.append({\"Description\":\"Average price for square meter secondary market:\" , \"Value\":\"{:0,.0f}\".format(dataset[(dataset[\"RYNEK\"] == \"wtórny\")][\"CENA_M2\"].mean())},\n",
    "                       ignore_index=True)\n",
    "        df = df.append({\"Description\":\"Average surface of flat:\" , \"Value\":\"{:0,.0f}\".format(dataset[\"POWIERZCHNIA\"].mean())},\n",
    "                       ignore_index=True)\n",
    "        df = df.append({\"Description\":\"Average surface of flat on primary market:\" , \"Value\":\"{:0,.0f}\".format(dataset[(dataset[\"RYNEK\"] == \"pierwotny\")][\"POWIERZCHNIA\"].mean())},\n",
    "                       ignore_index=True)\n",
    "        df = df.append({\"Description\":\"Average surface of flat on secondary market:\" , \"Value\":\"{:0,.0f}\".format(dataset[(dataset[\"RYNEK\"] == \"wtórny\")][\"POWIERZCHNIA\"].mean())},\n",
    "                       ignore_index=True)\n",
    "        df = df.append({\"Description\":\"Average price all:\" , \"Value\":\"{:0,.0f}\".format(dataset[\"CENA\"].mean())},\n",
    "                       ignore_index=True)\n",
    "        df = df.append({\"Description\":\"Average price on primary market:\" , \"Value\":\"{:0,.0f}\".format(dataset[(dataset[\"RYNEK\"] == \"pierwotny\")][\"CENA\"].mean())},\n",
    "                       ignore_index=True)\n",
    "        df = df.append({\"Description\":\"Average price on secondary market:\" , \"Value\":\"{:0,.0f}\".format(dataset[(dataset[\"RYNEK\"] == \"wtórny\")][\"CENA\"].mean())},\n",
    "                       ignore_index=True)\n",
    "        df = df.append({\"Description\":\"Max price:\" , \"Value\":\"{:0,.0f}\".format(max(dataset[\"CENA\"]))},\n",
    "                       ignore_index=True)\n",
    "        df = df.append({\"Description\":\"Max price on primary market:\" , \"Value\":\"{:0,.0f}\".format(max(dataset[(dataset[\"RYNEK\"] == \"pierwotny\")][\"CENA\"]))},\n",
    "                       ignore_index=True)\n",
    "        df = df.append({\"Description\":\"Max price on secondary market:\" , \"Value\":\"{:0,.0f}\".format(max(dataset[(dataset[\"RYNEK\"] == \"wtórny\")][\"CENA\"]))},\n",
    "                       ignore_index=True)\n",
    "        df = df.append({\"Description\":\"Min price:\" , \"Value\":\"{:0,.0f}\".format(min(dataset[\"CENA\"]))},\n",
    "                       ignore_index=True)\n",
    "        df = df.append({\"Description\":\"Min price on primary market:\" , \"Value\":\"{:0,.0f}\".format(min(dataset[(dataset[\"RYNEK\"] == \"pierwotny\")][\"CENA\"]))},\n",
    "                       ignore_index=True)\n",
    "        df = df.append({\"Description\":\"Min price on secondary market:\" , \"Value\":\"{:0,.0f}\".format(min(dataset[(dataset[\"RYNEK\"] == \"wtórny\")][\"CENA\"]))},\n",
    "                       ignore_index=True)\n",
    "    except ValueError:\n",
    "        print(\"\\nWarning: You have set filter on market - some data is unavaiable\")\n",
    "    return display(HTML(df.to_html(index=False)))"
   ]
  },
  {
   "cell_type": "code",
   "execution_count": 96,
   "metadata": {},
   "outputs": [],
   "source": [
    "def AveragePerVariable(dataset, variable_group, variable_value1):\n",
    "    dataset = dataset[[variable_group, variable_value1]]\n",
    "    dataset = dataset.groupby([variable_group]).agg([\"mean\",\"size\"])\n",
    "    if variable_value1 == \"ROK_BUDOWY\":\n",
    "        dataset = dataset.sort_values(by = (variable_value1, \"size\"), ascending = False)\n",
    "    else:\n",
    "        dataset = dataset.sort_values(by = (variable_value1, \"mean\"), ascending = False)\n",
    "    dataset = dataset.round(0)\n",
    "    return dataset"
   ]
  },
  {
   "cell_type": "code",
   "execution_count": 9,
   "metadata": {},
   "outputs": [],
   "source": [
    "def ShapiroResults(dataset, variable):\n",
    "    shapiro_results = scipy.stats.shapiro(dataset[[variable]])\n",
    "    if shapiro_results[1] <= 0.0001:\n",
    "        asterisk = \"****\"\n",
    "    elif shapiro_results[1] <=0.001:\n",
    "        asterisk = \"***\"\n",
    "    elif shapiro_results[1] <= 0.01:\n",
    "        asterisk = \"**\"\n",
    "    elif shapiro_results[1] <= 0.01:\n",
    "        asterisk = \"**\"\n",
    "    elif shapiro_results[1] <= 0.05:\n",
    "        asterisk = \"*\"\n",
    "    else:\n",
    "        asterisk = \"ns\"\n",
    "    df = pd.DataFrame()\n",
    "    df = df.append({\"Test for\":var_dictionary[variable],\"Test Statistics\":shapiro_results[0],\n",
    "                    \"p-value\":shapiro_results[1], \"Label\":asterisk}, ignore_index = True)\n",
    "    df = df[[\"Test for\", \"Test Statistics\", \"p-value\", \"Label\"]]\n",
    "    return display(HTML(df.to_html(index=False)))\n",
    "    \n"
   ]
  },
  {
   "cell_type": "markdown",
   "metadata": {},
   "source": [
    "## 4. Dataset\n",
    "Dataset is a csv file and content data about flats for sale in Poznan in February 2018 from website olx.pl. I have collected data by web scraping method. All code for import data is in scripts into repository. In this analyse I use DataFrame from pandas. "
   ]
  },
  {
   "cell_type": "code",
   "execution_count": 10,
   "metadata": {},
   "outputs": [],
   "source": [
    "dataset = pd.read_csv(\"C:/Users/Przemek/PycharmProjects/Real estate scrapping OtoDom/real_estate_data.csv\", \n",
    "                      sep=\";\",index_col=2)\n",
    "dataset = pd.DataFrame(dataset)"
   ]
  },
  {
   "cell_type": "markdown",
   "metadata": {},
   "source": [
    "In dataset exist duplicated data - for example awarded offers which are on every page, so in below code I delete duplciates data"
   ]
  },
  {
   "cell_type": "code",
   "execution_count": 11,
   "metadata": {},
   "outputs": [],
   "source": [
    "dataset = dataset[~dataset.index.duplicated(keep=\"first\")]"
   ]
  },
  {
   "cell_type": "markdown",
   "metadata": {},
   "source": [
    "It is not neccessary but I have added colum with ranges of surface based on function <i>Range</i>"
   ]
  },
  {
   "cell_type": "code",
   "execution_count": 12,
   "metadata": {},
   "outputs": [],
   "source": [
    "dataset[\"PRZEDZIAŁ_POW\"] = Range(dataset[\"POWIERZCHNIA\"])"
   ]
  },
  {
   "cell_type": "markdown",
   "metadata": {},
   "source": [
    "# Analysis\n",
    "\n",
    "## 1. Overall summary\n",
    "\n",
    "In this point you can see, some particular statistics about data."
   ]
  },
  {
   "cell_type": "code",
   "execution_count": 13,
   "metadata": {},
   "outputs": [
    {
     "data": {
      "text/html": [
       "<table border=\"1\" class=\"dataframe\">\n",
       "  <thead>\n",
       "    <tr style=\"text-align: right;\">\n",
       "      <th>Description</th>\n",
       "      <th>Value</th>\n",
       "    </tr>\n",
       "  </thead>\n",
       "  <tbody>\n",
       "    <tr>\n",
       "      <td>Number of offers all:</td>\n",
       "      <td>3,214</td>\n",
       "    </tr>\n",
       "    <tr>\n",
       "      <td>Number of offers on primary market:</td>\n",
       "      <td>1,418</td>\n",
       "    </tr>\n",
       "    <tr>\n",
       "      <td>Number of offers on secondary market:</td>\n",
       "      <td>1,795</td>\n",
       "    </tr>\n",
       "    <tr>\n",
       "      <td>Average price for square meter:</td>\n",
       "      <td>6,511</td>\n",
       "    </tr>\n",
       "    <tr>\n",
       "      <td>Average price for square meter primary market:</td>\n",
       "      <td>6,560</td>\n",
       "    </tr>\n",
       "    <tr>\n",
       "      <td>Average price for square meter secondary market:</td>\n",
       "      <td>6,471</td>\n",
       "    </tr>\n",
       "    <tr>\n",
       "      <td>Average surface of flat:</td>\n",
       "      <td>60</td>\n",
       "    </tr>\n",
       "    <tr>\n",
       "      <td>Average surface of flat on primary market:</td>\n",
       "      <td>56</td>\n",
       "    </tr>\n",
       "    <tr>\n",
       "      <td>Average surface of flat on secondary market:</td>\n",
       "      <td>64</td>\n",
       "    </tr>\n",
       "    <tr>\n",
       "      <td>Average price all:</td>\n",
       "      <td>386,197</td>\n",
       "    </tr>\n",
       "    <tr>\n",
       "      <td>Average price on primary market:</td>\n",
       "      <td>360,392</td>\n",
       "    </tr>\n",
       "    <tr>\n",
       "      <td>Average price on secondary market:</td>\n",
       "      <td>406,582</td>\n",
       "    </tr>\n",
       "    <tr>\n",
       "      <td>Max price:</td>\n",
       "      <td>5,756,000</td>\n",
       "    </tr>\n",
       "    <tr>\n",
       "      <td>Max price on primary market:</td>\n",
       "      <td>4,674,880</td>\n",
       "    </tr>\n",
       "    <tr>\n",
       "      <td>Max price on secondary market:</td>\n",
       "      <td>5,756,000</td>\n",
       "    </tr>\n",
       "    <tr>\n",
       "      <td>Min price:</td>\n",
       "      <td>99,000</td>\n",
       "    </tr>\n",
       "    <tr>\n",
       "      <td>Min price on primary market:</td>\n",
       "      <td>128,361</td>\n",
       "    </tr>\n",
       "    <tr>\n",
       "      <td>Min price on secondary market:</td>\n",
       "      <td>99,000</td>\n",
       "    </tr>\n",
       "  </tbody>\n",
       "</table>"
      ],
      "text/plain": [
       "<IPython.core.display.HTML object>"
      ]
     },
     "metadata": {},
     "output_type": "display_data"
    }
   ],
   "source": [
    "Statistics(dataset)"
   ]
  },
  {
   "cell_type": "markdown",
   "metadata": {},
   "source": [
    "## 2. Static analysis of different variables\n",
    "\n",
    "In this part of statement you can see distribution of different variables with different conditions. For me the most interesting flats are:\n",
    "* 2/3 rooms\n",
    "* no matter of type of market\n",
    "* surface between 40 and 65 square meters\n",
    "* building shoudn't be old, so year of building > 2005 \n",
    "* price between 230k and 330k \n",
    "\n",
    "At the begginig I use Shapiro Wilk test to ensure, if data with above condtions has normallity distibution.\n",
    "\n",
    "Let's check data!"
   ]
  },
  {
   "cell_type": "markdown",
   "metadata": {},
   "source": [
    "## Shapiro Wilk test\n",
    "\n",
    "* <i>H0:</i> Price per square meter in price range 230k - 330k has normallity distribuation\n",
    "\n",
    "Filtered data sample has really low p-value, so we don't have reason to exclude <i>H0</i>. We can assume that distribution of Price, Price_M2, Surface, Rooms is normally. It's good news because thanks that we can use a lot of statistician methods for this sample"
   ]
  },
  {
   "cell_type": "code",
   "execution_count": 14,
   "metadata": {},
   "outputs": [
    {
     "data": {
      "text/html": [
       "<table border=\"1\" class=\"dataframe\">\n",
       "  <thead>\n",
       "    <tr style=\"text-align: right;\">\n",
       "      <th>Test for</th>\n",
       "      <th>Test Statistics</th>\n",
       "      <th>p-value</th>\n",
       "      <th>Label</th>\n",
       "    </tr>\n",
       "  </thead>\n",
       "  <tbody>\n",
       "    <tr>\n",
       "      <td>Price</td>\n",
       "      <td>0.969917</td>\n",
       "      <td>3.585473e-13</td>\n",
       "      <td>****</td>\n",
       "    </tr>\n",
       "  </tbody>\n",
       "</table>"
      ],
      "text/plain": [
       "<IPython.core.display.HTML object>"
      ]
     },
     "metadata": {},
     "output_type": "display_data"
    },
    {
     "data": {
      "text/html": [
       "<table border=\"1\" class=\"dataframe\">\n",
       "  <thead>\n",
       "    <tr style=\"text-align: right;\">\n",
       "      <th>Test for</th>\n",
       "      <th>Test Statistics</th>\n",
       "      <th>p-value</th>\n",
       "      <th>Label</th>\n",
       "    </tr>\n",
       "  </thead>\n",
       "  <tbody>\n",
       "    <tr>\n",
       "      <td>Price_M2</td>\n",
       "      <td>0.991591</td>\n",
       "      <td>0.000028</td>\n",
       "      <td>****</td>\n",
       "    </tr>\n",
       "  </tbody>\n",
       "</table>"
      ],
      "text/plain": [
       "<IPython.core.display.HTML object>"
      ]
     },
     "metadata": {},
     "output_type": "display_data"
    },
    {
     "data": {
      "text/html": [
       "<table border=\"1\" class=\"dataframe\">\n",
       "  <thead>\n",
       "    <tr style=\"text-align: right;\">\n",
       "      <th>Test for</th>\n",
       "      <th>Test Statistics</th>\n",
       "      <th>p-value</th>\n",
       "      <th>Label</th>\n",
       "    </tr>\n",
       "  </thead>\n",
       "  <tbody>\n",
       "    <tr>\n",
       "      <td>Surface</td>\n",
       "      <td>0.948019</td>\n",
       "      <td>7.441979e-18</td>\n",
       "      <td>****</td>\n",
       "    </tr>\n",
       "  </tbody>\n",
       "</table>"
      ],
      "text/plain": [
       "<IPython.core.display.HTML object>"
      ]
     },
     "metadata": {},
     "output_type": "display_data"
    },
    {
     "data": {
      "text/html": [
       "<table border=\"1\" class=\"dataframe\">\n",
       "  <thead>\n",
       "    <tr style=\"text-align: right;\">\n",
       "      <th>Test for</th>\n",
       "      <th>Test Statistics</th>\n",
       "      <th>p-value</th>\n",
       "      <th>Label</th>\n",
       "    </tr>\n",
       "  </thead>\n",
       "  <tbody>\n",
       "    <tr>\n",
       "      <td>Rooms</td>\n",
       "      <td>0.570751</td>\n",
       "      <td>2.662467e-43</td>\n",
       "      <td>****</td>\n",
       "    </tr>\n",
       "  </tbody>\n",
       "</table>"
      ],
      "text/plain": [
       "<IPython.core.display.HTML object>"
      ]
     },
     "metadata": {},
     "output_type": "display_data"
    }
   ],
   "source": [
    "fdataset = Filtered(dataset, min_rooms = 2, max_rooms = 3, min_surface = 40, max_surface = 65, price_min = 230000,\n",
    "                    price_max = 330000)\n",
    "\n",
    "ShapiroResults(fdataset,\"CENA\")\n",
    "ShapiroResults(fdataset,\"CENA_M2\")\n",
    "ShapiroResults(fdataset,\"POWIERZCHNIA\")\n",
    "ShapiroResults(fdataset,\"POKOJE\")"
   ]
  },
  {
   "cell_type": "markdown",
   "metadata": {},
   "source": [
    "## Price"
   ]
  },
  {
   "cell_type": "code",
   "execution_count": 15,
   "metadata": {
    "scrolled": false
   },
   "outputs": [
    {
     "data": {
      "text/html": [
       "<table border=\"1\" class=\"dataframe\">\n",
       "  <thead>\n",
       "    <tr style=\"text-align: right;\">\n",
       "      <th>Description</th>\n",
       "      <th>Value</th>\n",
       "    </tr>\n",
       "  </thead>\n",
       "  <tbody>\n",
       "    <tr>\n",
       "      <td>Number of offers all:</td>\n",
       "      <td>1,733</td>\n",
       "    </tr>\n",
       "    <tr>\n",
       "      <td>Number of offers on primary market:</td>\n",
       "      <td>849</td>\n",
       "    </tr>\n",
       "    <tr>\n",
       "      <td>Number of offers on secondary market:</td>\n",
       "      <td>884</td>\n",
       "    </tr>\n",
       "    <tr>\n",
       "      <td>Average price for square meter:</td>\n",
       "      <td>6,538</td>\n",
       "    </tr>\n",
       "    <tr>\n",
       "      <td>Average price for square meter primary market:</td>\n",
       "      <td>6,556</td>\n",
       "    </tr>\n",
       "    <tr>\n",
       "      <td>Average price for square meter secondary market:</td>\n",
       "      <td>6,520</td>\n",
       "    </tr>\n",
       "    <tr>\n",
       "      <td>Average surface of flat:</td>\n",
       "      <td>51</td>\n",
       "    </tr>\n",
       "    <tr>\n",
       "      <td>Average surface of flat on primary market:</td>\n",
       "      <td>51</td>\n",
       "    </tr>\n",
       "    <tr>\n",
       "      <td>Average surface of flat on secondary market:</td>\n",
       "      <td>52</td>\n",
       "    </tr>\n",
       "    <tr>\n",
       "      <td>Average price all:</td>\n",
       "      <td>334,757</td>\n",
       "    </tr>\n",
       "    <tr>\n",
       "      <td>Average price on primary market:</td>\n",
       "      <td>331,779</td>\n",
       "    </tr>\n",
       "    <tr>\n",
       "      <td>Average price on secondary market:</td>\n",
       "      <td>337,617</td>\n",
       "    </tr>\n",
       "    <tr>\n",
       "      <td>Max price:</td>\n",
       "      <td>850,000</td>\n",
       "    </tr>\n",
       "    <tr>\n",
       "      <td>Max price on primary market:</td>\n",
       "      <td>750,000</td>\n",
       "    </tr>\n",
       "    <tr>\n",
       "      <td>Max price on secondary market:</td>\n",
       "      <td>850,000</td>\n",
       "    </tr>\n",
       "    <tr>\n",
       "      <td>Min price:</td>\n",
       "      <td>99,000</td>\n",
       "    </tr>\n",
       "    <tr>\n",
       "      <td>Min price on primary market:</td>\n",
       "      <td>191,000</td>\n",
       "    </tr>\n",
       "    <tr>\n",
       "      <td>Min price on secondary market:</td>\n",
       "      <td>99,000</td>\n",
       "    </tr>\n",
       "  </tbody>\n",
       "</table>"
      ],
      "text/plain": [
       "<IPython.core.display.HTML object>"
      ]
     },
     "metadata": {},
     "output_type": "display_data"
    },
    {
     "data": {
      "text/html": [
       "<iframe id=\"igraph\" scrolling=\"no\" style=\"border:none;\" seamless=\"seamless\" src=\"https://plot.ly/~kaczikrol/256.embed\" height=\"525px\" width=\"100%\"></iframe>"
      ],
      "text/plain": [
       "<plotly.tools.PlotlyDisplay object>"
      ]
     },
     "execution_count": 15,
     "metadata": {},
     "output_type": "execute_result"
    }
   ],
   "source": [
    "fdataset = Filtered(dataset, min_rooms = 2, max_rooms = 3, min_surface = 40, max_surface = 65)\n",
    "Statistics(fdataset)\n",
    "HistogramPlot(\"CENA\", fdataset)"
   ]
  },
  {
   "cell_type": "code",
   "execution_count": 16,
   "metadata": {},
   "outputs": [
    {
     "data": {
      "text/html": [
       "<table border=\"1\" class=\"dataframe\">\n",
       "  <thead>\n",
       "    <tr style=\"text-align: right;\">\n",
       "      <th>Description</th>\n",
       "      <th>Value</th>\n",
       "    </tr>\n",
       "  </thead>\n",
       "  <tbody>\n",
       "    <tr>\n",
       "      <td>Number of offers all:</td>\n",
       "      <td>957</td>\n",
       "    </tr>\n",
       "    <tr>\n",
       "      <td>Number of offers on primary market:</td>\n",
       "      <td>490</td>\n",
       "    </tr>\n",
       "    <tr>\n",
       "      <td>Number of offers on secondary market:</td>\n",
       "      <td>467</td>\n",
       "    </tr>\n",
       "    <tr>\n",
       "      <td>Average price for square meter:</td>\n",
       "      <td>6,098</td>\n",
       "    </tr>\n",
       "    <tr>\n",
       "      <td>Average price for square meter primary market:</td>\n",
       "      <td>6,273</td>\n",
       "    </tr>\n",
       "    <tr>\n",
       "      <td>Average price for square meter secondary market:</td>\n",
       "      <td>5,914</td>\n",
       "    </tr>\n",
       "    <tr>\n",
       "      <td>Average surface of flat:</td>\n",
       "      <td>48</td>\n",
       "    </tr>\n",
       "    <tr>\n",
       "      <td>Average surface of flat on primary market:</td>\n",
       "      <td>47</td>\n",
       "    </tr>\n",
       "    <tr>\n",
       "      <td>Average surface of flat on secondary market:</td>\n",
       "      <td>49</td>\n",
       "    </tr>\n",
       "    <tr>\n",
       "      <td>Average price all:</td>\n",
       "      <td>291,659</td>\n",
       "    </tr>\n",
       "    <tr>\n",
       "      <td>Average price on primary market:</td>\n",
       "      <td>294,726</td>\n",
       "    </tr>\n",
       "    <tr>\n",
       "      <td>Average price on secondary market:</td>\n",
       "      <td>288,441</td>\n",
       "    </tr>\n",
       "    <tr>\n",
       "      <td>Max price:</td>\n",
       "      <td>330,000</td>\n",
       "    </tr>\n",
       "    <tr>\n",
       "      <td>Max price on primary market:</td>\n",
       "      <td>329,524</td>\n",
       "    </tr>\n",
       "    <tr>\n",
       "      <td>Max price on secondary market:</td>\n",
       "      <td>330,000</td>\n",
       "    </tr>\n",
       "    <tr>\n",
       "      <td>Min price:</td>\n",
       "      <td>230,000</td>\n",
       "    </tr>\n",
       "    <tr>\n",
       "      <td>Min price on primary market:</td>\n",
       "      <td>232,904</td>\n",
       "    </tr>\n",
       "    <tr>\n",
       "      <td>Min price on secondary market:</td>\n",
       "      <td>230,000</td>\n",
       "    </tr>\n",
       "  </tbody>\n",
       "</table>"
      ],
      "text/plain": [
       "<IPython.core.display.HTML object>"
      ]
     },
     "metadata": {},
     "output_type": "display_data"
    },
    {
     "data": {
      "text/html": [
       "<iframe id=\"igraph\" scrolling=\"no\" style=\"border:none;\" seamless=\"seamless\" src=\"https://plot.ly/~kaczikrol/258.embed\" height=\"525px\" width=\"100%\"></iframe>"
      ],
      "text/plain": [
       "<plotly.tools.PlotlyDisplay object>"
      ]
     },
     "execution_count": 16,
     "metadata": {},
     "output_type": "execute_result"
    }
   ],
   "source": [
    "fdataset = Filtered(dataset, min_rooms = 2, max_rooms = 3, min_surface = 40, max_surface = 65, price_min = 230000,\n",
    "                    price_max = 330000)\n",
    "Statistics(fdataset)\n",
    "HistogramPlot(\"CENA\", fdataset)"
   ]
  },
  {
   "cell_type": "code",
   "execution_count": 17,
   "metadata": {
    "scrolled": false
   },
   "outputs": [
    {
     "name": "stdout",
     "output_type": "stream",
     "text": [
      "\n",
      "Warning: You have set filter on market - some data is unavaiable\n"
     ]
    },
    {
     "data": {
      "text/html": [
       "<table border=\"1\" class=\"dataframe\">\n",
       "  <thead>\n",
       "    <tr style=\"text-align: right;\">\n",
       "      <th>Description</th>\n",
       "      <th>Value</th>\n",
       "    </tr>\n",
       "  </thead>\n",
       "  <tbody>\n",
       "    <tr>\n",
       "      <td>Number of offers all:</td>\n",
       "      <td>467</td>\n",
       "    </tr>\n",
       "    <tr>\n",
       "      <td>Number of offers on primary market:</td>\n",
       "      <td>0</td>\n",
       "    </tr>\n",
       "    <tr>\n",
       "      <td>Number of offers on secondary market:</td>\n",
       "      <td>467</td>\n",
       "    </tr>\n",
       "    <tr>\n",
       "      <td>Average price for square meter:</td>\n",
       "      <td>5,914</td>\n",
       "    </tr>\n",
       "    <tr>\n",
       "      <td>Average price for square meter primary market:</td>\n",
       "      <td>nan</td>\n",
       "    </tr>\n",
       "    <tr>\n",
       "      <td>Average price for square meter secondary market:</td>\n",
       "      <td>5,914</td>\n",
       "    </tr>\n",
       "    <tr>\n",
       "      <td>Average surface of flat:</td>\n",
       "      <td>49</td>\n",
       "    </tr>\n",
       "    <tr>\n",
       "      <td>Average surface of flat on primary market:</td>\n",
       "      <td>nan</td>\n",
       "    </tr>\n",
       "    <tr>\n",
       "      <td>Average surface of flat on secondary market:</td>\n",
       "      <td>49</td>\n",
       "    </tr>\n",
       "    <tr>\n",
       "      <td>Average price all:</td>\n",
       "      <td>288,441</td>\n",
       "    </tr>\n",
       "    <tr>\n",
       "      <td>Average price on primary market:</td>\n",
       "      <td>nan</td>\n",
       "    </tr>\n",
       "    <tr>\n",
       "      <td>Average price on secondary market:</td>\n",
       "      <td>288,441</td>\n",
       "    </tr>\n",
       "    <tr>\n",
       "      <td>Max price:</td>\n",
       "      <td>330,000</td>\n",
       "    </tr>\n",
       "  </tbody>\n",
       "</table>"
      ],
      "text/plain": [
       "<IPython.core.display.HTML object>"
      ]
     },
     "metadata": {},
     "output_type": "display_data"
    },
    {
     "data": {
      "text/html": [
       "<iframe id=\"igraph\" scrolling=\"no\" style=\"border:none;\" seamless=\"seamless\" src=\"https://plot.ly/~kaczikrol/260.embed\" height=\"525px\" width=\"100%\"></iframe>"
      ],
      "text/plain": [
       "<plotly.tools.PlotlyDisplay object>"
      ]
     },
     "execution_count": 17,
     "metadata": {},
     "output_type": "execute_result"
    }
   ],
   "source": [
    "fdataset = Filtered(dataset, min_rooms = 2, max_rooms = 3, min_surface = 40, max_surface = 65, price_min = 230000,\n",
    "                  price_max = 330000, market = \"wtórny\")\n",
    "Statistics(fdataset)\n",
    "HistogramPlot(\"CENA\", fdataset)"
   ]
  },
  {
   "cell_type": "code",
   "execution_count": 18,
   "metadata": {},
   "outputs": [
    {
     "name": "stdout",
     "output_type": "stream",
     "text": [
      "\n",
      "Warning: You have set filter on market - some data is unavaiable\n"
     ]
    },
    {
     "data": {
      "text/html": [
       "<table border=\"1\" class=\"dataframe\">\n",
       "  <thead>\n",
       "    <tr style=\"text-align: right;\">\n",
       "      <th>Description</th>\n",
       "      <th>Value</th>\n",
       "    </tr>\n",
       "  </thead>\n",
       "  <tbody>\n",
       "    <tr>\n",
       "      <td>Number of offers all:</td>\n",
       "      <td>490</td>\n",
       "    </tr>\n",
       "    <tr>\n",
       "      <td>Number of offers on primary market:</td>\n",
       "      <td>490</td>\n",
       "    </tr>\n",
       "    <tr>\n",
       "      <td>Number of offers on secondary market:</td>\n",
       "      <td>0</td>\n",
       "    </tr>\n",
       "    <tr>\n",
       "      <td>Average price for square meter:</td>\n",
       "      <td>6,273</td>\n",
       "    </tr>\n",
       "    <tr>\n",
       "      <td>Average price for square meter primary market:</td>\n",
       "      <td>6,273</td>\n",
       "    </tr>\n",
       "    <tr>\n",
       "      <td>Average price for square meter secondary market:</td>\n",
       "      <td>nan</td>\n",
       "    </tr>\n",
       "    <tr>\n",
       "      <td>Average surface of flat:</td>\n",
       "      <td>47</td>\n",
       "    </tr>\n",
       "    <tr>\n",
       "      <td>Average surface of flat on primary market:</td>\n",
       "      <td>47</td>\n",
       "    </tr>\n",
       "    <tr>\n",
       "      <td>Average surface of flat on secondary market:</td>\n",
       "      <td>nan</td>\n",
       "    </tr>\n",
       "    <tr>\n",
       "      <td>Average price all:</td>\n",
       "      <td>294,726</td>\n",
       "    </tr>\n",
       "    <tr>\n",
       "      <td>Average price on primary market:</td>\n",
       "      <td>294,726</td>\n",
       "    </tr>\n",
       "    <tr>\n",
       "      <td>Average price on secondary market:</td>\n",
       "      <td>nan</td>\n",
       "    </tr>\n",
       "    <tr>\n",
       "      <td>Max price:</td>\n",
       "      <td>329,524</td>\n",
       "    </tr>\n",
       "    <tr>\n",
       "      <td>Max price on primary market:</td>\n",
       "      <td>329,524</td>\n",
       "    </tr>\n",
       "  </tbody>\n",
       "</table>"
      ],
      "text/plain": [
       "<IPython.core.display.HTML object>"
      ]
     },
     "metadata": {},
     "output_type": "display_data"
    },
    {
     "data": {
      "text/html": [
       "<iframe id=\"igraph\" scrolling=\"no\" style=\"border:none;\" seamless=\"seamless\" src=\"https://plot.ly/~kaczikrol/262.embed\" height=\"525px\" width=\"100%\"></iframe>"
      ],
      "text/plain": [
       "<plotly.tools.PlotlyDisplay object>"
      ]
     },
     "execution_count": 18,
     "metadata": {},
     "output_type": "execute_result"
    }
   ],
   "source": [
    "fdataset = Filtered(dataset, min_rooms = 2, max_rooms = 3, min_surface = 40, max_surface = 65, price_min = 230000,\n",
    "                    price_max = 330000, market = \"pierwotny\")\n",
    "Statistics(fdataset)\n",
    "HistogramPlot(\"CENA\", fdataset)"
   ]
  },
  {
   "cell_type": "markdown",
   "metadata": {},
   "source": [
    "## Price per square meter\n",
    "\n",
    "It's short look into distribution of price per square meter for flats where price is in range 230k-330k. After first look into histogram (espacially in scondary market) I noticed that price per square meter can have gausiann distribuation. Related with this findings I check it by Shapiro-Wilk test with \n",
    "* <i>H0:</i> Price per square meter in price range 230k - 330k has normallity distribuation\n",
    "\n",
    "I ommited here global distiribution becuase it is really resemblence like price distribuation."
   ]
  },
  {
   "cell_type": "code",
   "execution_count": 19,
   "metadata": {},
   "outputs": [
    {
     "data": {
      "text/html": [
       "<iframe id=\"igraph\" scrolling=\"no\" style=\"border:none;\" seamless=\"seamless\" src=\"https://plot.ly/~kaczikrol/264.embed\" height=\"525px\" width=\"100%\"></iframe>"
      ],
      "text/plain": [
       "<plotly.tools.PlotlyDisplay object>"
      ]
     },
     "execution_count": 19,
     "metadata": {},
     "output_type": "execute_result"
    }
   ],
   "source": [
    "fdataset = Filtered(dataset, min_rooms = 2, max_rooms = 3, min_surface = 40, max_surface = 65, price_min = 230000,\n",
    "                    price_max = 330000)\n",
    "HistogramPlot(\"CENA_M2\", fdataset)"
   ]
  },
  {
   "cell_type": "code",
   "execution_count": 20,
   "metadata": {},
   "outputs": [
    {
     "data": {
      "text/html": [
       "<iframe id=\"igraph\" scrolling=\"no\" style=\"border:none;\" seamless=\"seamless\" src=\"https://plot.ly/~kaczikrol/266.embed\" height=\"525px\" width=\"100%\"></iframe>"
      ],
      "text/plain": [
       "<plotly.tools.PlotlyDisplay object>"
      ]
     },
     "execution_count": 20,
     "metadata": {},
     "output_type": "execute_result"
    }
   ],
   "source": [
    "fdataset = Filtered(dataset, min_rooms = 2, max_rooms = 3, min_surface = 40, max_surface = 65, price_min = 230000,\n",
    "                    price_max = 330000, market = \"wtórny\")\n",
    "HistogramPlot(\"CENA_M2\", fdataset)"
   ]
  },
  {
   "cell_type": "code",
   "execution_count": 21,
   "metadata": {},
   "outputs": [
    {
     "data": {
      "text/html": [
       "<iframe id=\"igraph\" scrolling=\"no\" style=\"border:none;\" seamless=\"seamless\" src=\"https://plot.ly/~kaczikrol/268.embed\" height=\"525px\" width=\"100%\"></iframe>"
      ],
      "text/plain": [
       "<plotly.tools.PlotlyDisplay object>"
      ]
     },
     "execution_count": 21,
     "metadata": {},
     "output_type": "execute_result"
    }
   ],
   "source": [
    "fdataset = Filtered(dataset, min_rooms = 2, max_rooms = 3, min_surface = 40, max_surface = 65, price_min = 230000,\n",
    "                    price_max = 330000, market = \"pierwotny\")\n",
    "HistogramPlot(\"CENA_M2\", fdataset)\n"
   ]
  },
  {
   "cell_type": "markdown",
   "metadata": {},
   "source": [
    "## Surface"
   ]
  },
  {
   "cell_type": "code",
   "execution_count": 22,
   "metadata": {},
   "outputs": [
    {
     "data": {
      "text/html": [
       "<iframe id=\"igraph\" scrolling=\"no\" style=\"border:none;\" seamless=\"seamless\" src=\"https://plot.ly/~kaczikrol/270.embed\" height=\"525px\" width=\"100%\"></iframe>"
      ],
      "text/plain": [
       "<plotly.tools.PlotlyDisplay object>"
      ]
     },
     "execution_count": 22,
     "metadata": {},
     "output_type": "execute_result"
    }
   ],
   "source": [
    "fdataset = Filtered(dataset, min_rooms = 2, max_rooms = 3, min_surface = 40, max_surface = 65, price_min = 230000,\n",
    "                    price_max = 330000)\n",
    "HistogramPlot(\"POWIERZCHNIA\", fdataset)"
   ]
  },
  {
   "cell_type": "markdown",
   "metadata": {},
   "source": [
    "## Rooms"
   ]
  },
  {
   "cell_type": "code",
   "execution_count": 107,
   "metadata": {},
   "outputs": [
    {
     "data": {
      "text/html": [
       "<table border=\"1\" class=\"dataframe\">\n",
       "  <thead>\n",
       "    <tr style=\"text-align: right;\">\n",
       "      <th>POKOJE</th>\n",
       "      <th>QUANTITY</th>\n",
       "    </tr>\n",
       "  </thead>\n",
       "  <tbody>\n",
       "    <tr>\n",
       "      <td>2</td>\n",
       "      <td>677</td>\n",
       "    </tr>\n",
       "    <tr>\n",
       "      <td>3</td>\n",
       "      <td>280</td>\n",
       "    </tr>\n",
       "  </tbody>\n",
       "</table>"
      ],
      "text/plain": [
       "<IPython.core.display.HTML object>"
      ]
     },
     "metadata": {},
     "output_type": "display_data"
    }
   ],
   "source": [
    "fdataset = Filtered(dataset, min_rooms = 2, max_rooms = 3, min_surface = 40, max_surface = 65, price_min = 230000,\n",
    "                    price_max = 330000)\n",
    "fdataset = fdataset.groupby([\"POKOJE\"]).size().reset_index(name=\"QUANTITY\").sort_values(by=\"QUANTITY\", ascending = False)\n",
    "display(HTML(fdataset.to_html(index=False)))\n"
   ]
  },
  {
   "cell_type": "code",
   "execution_count": 108,
   "metadata": {},
   "outputs": [
    {
     "data": {
      "text/html": [
       "<table border=\"1\" class=\"dataframe\">\n",
       "  <thead>\n",
       "    <tr style=\"text-align: right;\">\n",
       "      <th>POKOJE</th>\n",
       "      <th>QUANTITY</th>\n",
       "    </tr>\n",
       "  </thead>\n",
       "  <tbody>\n",
       "    <tr>\n",
       "      <td>2</td>\n",
       "      <td>1300</td>\n",
       "    </tr>\n",
       "    <tr>\n",
       "      <td>3</td>\n",
       "      <td>1122</td>\n",
       "    </tr>\n",
       "    <tr>\n",
       "      <td>4</td>\n",
       "      <td>408</td>\n",
       "    </tr>\n",
       "    <tr>\n",
       "      <td>1</td>\n",
       "      <td>272</td>\n",
       "    </tr>\n",
       "    <tr>\n",
       "      <td>5</td>\n",
       "      <td>76</td>\n",
       "    </tr>\n",
       "    <tr>\n",
       "      <td>6</td>\n",
       "      <td>18</td>\n",
       "    </tr>\n",
       "    <tr>\n",
       "      <td>7</td>\n",
       "      <td>7</td>\n",
       "    </tr>\n",
       "    <tr>\n",
       "      <td>9</td>\n",
       "      <td>5</td>\n",
       "    </tr>\n",
       "    <tr>\n",
       "      <td>10</td>\n",
       "      <td>3</td>\n",
       "    </tr>\n",
       "    <tr>\n",
       "      <td>8</td>\n",
       "      <td>2</td>\n",
       "    </tr>\n",
       "  </tbody>\n",
       "</table>"
      ],
      "text/plain": [
       "<IPython.core.display.HTML object>"
      ]
     },
     "metadata": {},
     "output_type": "display_data"
    }
   ],
   "source": [
    "fdataset = Filtered(dataset, min_rooms = 1, max_rooms = 10)\n",
    "fdataset = fdataset.groupby([\"POKOJE\"]).size().reset_index(name=\"QUANTITY\").sort_values(by=\"QUANTITY\", ascending = False)\n",
    "display(HTML(fdataset.to_html(index=False)))"
   ]
  },
  {
   "cell_type": "markdown",
   "metadata": {},
   "source": [
    "## Bachelor apartment"
   ]
  },
  {
   "cell_type": "code",
   "execution_count": 24,
   "metadata": {
    "scrolled": false
   },
   "outputs": [
    {
     "data": {
      "text/html": [
       "<table border=\"1\" class=\"dataframe\">\n",
       "  <thead>\n",
       "    <tr style=\"text-align: right;\">\n",
       "      <th>Description</th>\n",
       "      <th>Value</th>\n",
       "    </tr>\n",
       "  </thead>\n",
       "  <tbody>\n",
       "    <tr>\n",
       "      <td>Number of offers all:</td>\n",
       "      <td>272</td>\n",
       "    </tr>\n",
       "    <tr>\n",
       "      <td>Number of offers on primary market:</td>\n",
       "      <td>107</td>\n",
       "    </tr>\n",
       "    <tr>\n",
       "      <td>Number of offers on secondary market:</td>\n",
       "      <td>165</td>\n",
       "    </tr>\n",
       "    <tr>\n",
       "      <td>Average price for square meter:</td>\n",
       "      <td>7,201</td>\n",
       "    </tr>\n",
       "    <tr>\n",
       "      <td>Average price for square meter primary market:</td>\n",
       "      <td>7,557</td>\n",
       "    </tr>\n",
       "    <tr>\n",
       "      <td>Average price for square meter secondary market:</td>\n",
       "      <td>6,971</td>\n",
       "    </tr>\n",
       "    <tr>\n",
       "      <td>Average surface of flat:</td>\n",
       "      <td>34</td>\n",
       "    </tr>\n",
       "    <tr>\n",
       "      <td>Average surface of flat on primary market:</td>\n",
       "      <td>35</td>\n",
       "    </tr>\n",
       "    <tr>\n",
       "      <td>Average surface of flat on secondary market:</td>\n",
       "      <td>33</td>\n",
       "    </tr>\n",
       "    <tr>\n",
       "      <td>Average price all:</td>\n",
       "      <td>238,480</td>\n",
       "    </tr>\n",
       "    <tr>\n",
       "      <td>Average price on primary market:</td>\n",
       "      <td>256,743</td>\n",
       "    </tr>\n",
       "    <tr>\n",
       "      <td>Average price on secondary market:</td>\n",
       "      <td>226,636</td>\n",
       "    </tr>\n",
       "    <tr>\n",
       "      <td>Max price:</td>\n",
       "      <td>607,048</td>\n",
       "    </tr>\n",
       "    <tr>\n",
       "      <td>Max price on primary market:</td>\n",
       "      <td>607,048</td>\n",
       "    </tr>\n",
       "    <tr>\n",
       "      <td>Max price on secondary market:</td>\n",
       "      <td>489,000</td>\n",
       "    </tr>\n",
       "    <tr>\n",
       "      <td>Min price:</td>\n",
       "      <td>119,400</td>\n",
       "    </tr>\n",
       "    <tr>\n",
       "      <td>Min price on primary market:</td>\n",
       "      <td>128,361</td>\n",
       "    </tr>\n",
       "    <tr>\n",
       "      <td>Min price on secondary market:</td>\n",
       "      <td>119,400</td>\n",
       "    </tr>\n",
       "  </tbody>\n",
       "</table>"
      ],
      "text/plain": [
       "<IPython.core.display.HTML object>"
      ]
     },
     "metadata": {},
     "output_type": "display_data"
    },
    {
     "data": {
      "text/html": [
       "<iframe id=\"igraph\" scrolling=\"no\" style=\"border:none;\" seamless=\"seamless\" src=\"https://plot.ly/~kaczikrol/272.embed\" height=\"525px\" width=\"100%\"></iframe>"
      ],
      "text/plain": [
       "<plotly.tools.PlotlyDisplay object>"
      ]
     },
     "execution_count": 24,
     "metadata": {},
     "output_type": "execute_result"
    }
   ],
   "source": [
    "fdataset = Filtered(dataset, min_rooms = 1, max_rooms = 1)\n",
    "Statistics(fdataset)\n",
    "HistogramPlot(\"CENA_M2\", fdataset)"
   ]
  },
  {
   "cell_type": "markdown",
   "metadata": {},
   "source": [
    "## Highest price districts in Poznan"
   ]
  },
  {
   "cell_type": "code",
   "execution_count": 82,
   "metadata": {},
   "outputs": [
    {
     "data": {
      "text/html": [
       "<div>\n",
       "<style>\n",
       "    .dataframe thead tr:only-child th {\n",
       "        text-align: right;\n",
       "    }\n",
       "\n",
       "    .dataframe thead th {\n",
       "        text-align: left;\n",
       "    }\n",
       "\n",
       "    .dataframe tbody tr th {\n",
       "        vertical-align: top;\n",
       "    }\n",
       "</style>\n",
       "<table border=\"1\" class=\"dataframe\">\n",
       "  <thead>\n",
       "    <tr>\n",
       "      <th></th>\n",
       "      <th colspan=\"2\" halign=\"left\">CENA_M2</th>\n",
       "    </tr>\n",
       "    <tr>\n",
       "      <th></th>\n",
       "      <th>mean</th>\n",
       "      <th>size</th>\n",
       "    </tr>\n",
       "    <tr>\n",
       "      <th>DZIELNICA</th>\n",
       "      <th></th>\n",
       "      <th></th>\n",
       "    </tr>\n",
       "  </thead>\n",
       "  <tbody>\n",
       "    <tr>\n",
       "      <th>Ostrów Tumski</th>\n",
       "      <td>8438.0</td>\n",
       "      <td>1</td>\n",
       "    </tr>\n",
       "    <tr>\n",
       "      <th>Stare Miasto</th>\n",
       "      <td>7662.0</td>\n",
       "      <td>149</td>\n",
       "    </tr>\n",
       "    <tr>\n",
       "      <th>Sołacz</th>\n",
       "      <td>7457.0</td>\n",
       "      <td>57</td>\n",
       "    </tr>\n",
       "    <tr>\n",
       "      <th>Górczyn</th>\n",
       "      <td>6920.0</td>\n",
       "      <td>71</td>\n",
       "    </tr>\n",
       "    <tr>\n",
       "      <th>Świerczewo</th>\n",
       "      <td>6833.0</td>\n",
       "      <td>1</td>\n",
       "    </tr>\n",
       "    <tr>\n",
       "      <th>Śródka</th>\n",
       "      <td>6812.0</td>\n",
       "      <td>21</td>\n",
       "    </tr>\n",
       "    <tr>\n",
       "      <th>Zawady</th>\n",
       "      <td>6787.0</td>\n",
       "      <td>10</td>\n",
       "    </tr>\n",
       "    <tr>\n",
       "      <th>Winogrady</th>\n",
       "      <td>6779.0</td>\n",
       "      <td>157</td>\n",
       "    </tr>\n",
       "    <tr>\n",
       "      <th>Ławica</th>\n",
       "      <td>6637.0</td>\n",
       "      <td>2</td>\n",
       "    </tr>\n",
       "    <tr>\n",
       "      <th>Zieliniec</th>\n",
       "      <td>6588.0</td>\n",
       "      <td>7</td>\n",
       "    </tr>\n",
       "    <tr>\n",
       "      <th>Umultowo</th>\n",
       "      <td>6574.0</td>\n",
       "      <td>2</td>\n",
       "    </tr>\n",
       "    <tr>\n",
       "      <th>Grunwald</th>\n",
       "      <td>6545.0</td>\n",
       "      <td>554</td>\n",
       "    </tr>\n",
       "    <tr>\n",
       "      <th>Wilda</th>\n",
       "      <td>6417.0</td>\n",
       "      <td>301</td>\n",
       "    </tr>\n",
       "    <tr>\n",
       "      <th>Strzeszyn</th>\n",
       "      <td>6400.0</td>\n",
       "      <td>50</td>\n",
       "    </tr>\n",
       "    <tr>\n",
       "      <th>Chartowo</th>\n",
       "      <td>6375.0</td>\n",
       "      <td>13</td>\n",
       "    </tr>\n",
       "    <tr>\n",
       "      <th>Jeżyce</th>\n",
       "      <td>6361.0</td>\n",
       "      <td>150</td>\n",
       "    </tr>\n",
       "    <tr>\n",
       "      <th>Żegrze</th>\n",
       "      <td>6326.0</td>\n",
       "      <td>29</td>\n",
       "    </tr>\n",
       "    <tr>\n",
       "      <th>Ogrody</th>\n",
       "      <td>6323.0</td>\n",
       "      <td>37</td>\n",
       "    </tr>\n",
       "    <tr>\n",
       "      <th>Łazarz</th>\n",
       "      <td>6301.0</td>\n",
       "      <td>87</td>\n",
       "    </tr>\n",
       "    <tr>\n",
       "      <th>Wola</th>\n",
       "      <td>6202.0</td>\n",
       "      <td>3</td>\n",
       "    </tr>\n",
       "    <tr>\n",
       "      <th>Naramowice</th>\n",
       "      <td>6188.0</td>\n",
       "      <td>128</td>\n",
       "    </tr>\n",
       "    <tr>\n",
       "      <th>Piątkowo</th>\n",
       "      <td>6142.0</td>\n",
       "      <td>105</td>\n",
       "    </tr>\n",
       "    <tr>\n",
       "      <th>Komandoria</th>\n",
       "      <td>6058.0</td>\n",
       "      <td>2</td>\n",
       "    </tr>\n",
       "    <tr>\n",
       "      <th>Jana III Sobieskiego</th>\n",
       "      <td>6014.0</td>\n",
       "      <td>2</td>\n",
       "    </tr>\n",
       "    <tr>\n",
       "      <th>Rataje</th>\n",
       "      <td>6013.0</td>\n",
       "      <td>186</td>\n",
       "    </tr>\n",
       "    <tr>\n",
       "      <th>Winiary</th>\n",
       "      <td>5957.0</td>\n",
       "      <td>12</td>\n",
       "    </tr>\n",
       "    <tr>\n",
       "      <th>Junikowo</th>\n",
       "      <td>5853.0</td>\n",
       "      <td>8</td>\n",
       "    </tr>\n",
       "    <tr>\n",
       "      <th>Podolany</th>\n",
       "      <td>5651.0</td>\n",
       "      <td>79</td>\n",
       "    </tr>\n",
       "    <tr>\n",
       "      <th>Antoninek</th>\n",
       "      <td>5644.0</td>\n",
       "      <td>8</td>\n",
       "    </tr>\n",
       "    <tr>\n",
       "      <th>Dębiec</th>\n",
       "      <td>5624.0</td>\n",
       "      <td>37</td>\n",
       "    </tr>\n",
       "    <tr>\n",
       "      <th>Smochowice</th>\n",
       "      <td>5530.0</td>\n",
       "      <td>5</td>\n",
       "    </tr>\n",
       "    <tr>\n",
       "      <th>Starołęka</th>\n",
       "      <td>5464.0</td>\n",
       "      <td>22</td>\n",
       "    </tr>\n",
       "    <tr>\n",
       "      <th>Główna</th>\n",
       "      <td>5442.0</td>\n",
       "      <td>16</td>\n",
       "    </tr>\n",
       "    <tr>\n",
       "      <th>Morasko</th>\n",
       "      <td>5099.0</td>\n",
       "      <td>1</td>\n",
       "    </tr>\n",
       "    <tr>\n",
       "      <th>Głuszyna</th>\n",
       "      <td>4830.0</td>\n",
       "      <td>18</td>\n",
       "    </tr>\n",
       "    <tr>\n",
       "      <th>Szczepankowo</th>\n",
       "      <td>4556.0</td>\n",
       "      <td>22</td>\n",
       "    </tr>\n",
       "    <tr>\n",
       "      <th>Kotowo</th>\n",
       "      <td>4440.0</td>\n",
       "      <td>2</td>\n",
       "    </tr>\n",
       "    <tr>\n",
       "      <th>Pokrzywno</th>\n",
       "      <td>4433.0</td>\n",
       "      <td>1</td>\n",
       "    </tr>\n",
       "    <tr>\n",
       "      <th>Warszawskie</th>\n",
       "      <td>3556.0</td>\n",
       "      <td>3</td>\n",
       "    </tr>\n",
       "  </tbody>\n",
       "</table>\n",
       "</div>"
      ],
      "text/plain": [
       "                     CENA_M2     \n",
       "                        mean size\n",
       "DZIELNICA                        \n",
       "Ostrów Tumski         8438.0    1\n",
       "Stare Miasto          7662.0  149\n",
       "Sołacz                7457.0   57\n",
       "Górczyn               6920.0   71\n",
       "Świerczewo            6833.0    1\n",
       "Śródka                6812.0   21\n",
       "Zawady                6787.0   10\n",
       "Winogrady             6779.0  157\n",
       "Ławica                6637.0    2\n",
       "Zieliniec             6588.0    7\n",
       "Umultowo              6574.0    2\n",
       "Grunwald              6545.0  554\n",
       "Wilda                 6417.0  301\n",
       "Strzeszyn             6400.0   50\n",
       "Chartowo              6375.0   13\n",
       "Jeżyce                6361.0  150\n",
       "Żegrze                6326.0   29\n",
       "Ogrody                6323.0   37\n",
       "Łazarz                6301.0   87\n",
       "Wola                  6202.0    3\n",
       "Naramowice            6188.0  128\n",
       "Piątkowo              6142.0  105\n",
       "Komandoria            6058.0    2\n",
       "Jana III Sobieskiego  6014.0    2\n",
       "Rataje                6013.0  186\n",
       "Winiary               5957.0   12\n",
       "Junikowo              5853.0    8\n",
       "Podolany              5651.0   79\n",
       "Antoninek             5644.0    8\n",
       "Dębiec                5624.0   37\n",
       "Smochowice            5530.0    5\n",
       "Starołęka             5464.0   22\n",
       "Główna                5442.0   16\n",
       "Morasko               5099.0    1\n",
       "Głuszyna              4830.0   18\n",
       "Szczepankowo          4556.0   22\n",
       "Kotowo                4440.0    2\n",
       "Pokrzywno             4433.0    1\n",
       "Warszawskie           3556.0    3"
      ]
     },
     "execution_count": 82,
     "metadata": {},
     "output_type": "execute_result"
    }
   ],
   "source": [
    "fdataset = dataset\n",
    "AveragePerVariable(fdataset,\"DZIELNICA\",\"CENA_M2\")"
   ]
  },
  {
   "cell_type": "markdown",
   "metadata": {},
   "source": [
    "## Highest price per year of building"
   ]
  },
  {
   "cell_type": "code",
   "execution_count": 98,
   "metadata": {},
   "outputs": [
    {
     "data": {
      "text/html": [
       "<div>\n",
       "<style>\n",
       "    .dataframe thead tr:only-child th {\n",
       "        text-align: right;\n",
       "    }\n",
       "\n",
       "    .dataframe thead th {\n",
       "        text-align: left;\n",
       "    }\n",
       "\n",
       "    .dataframe tbody tr th {\n",
       "        vertical-align: top;\n",
       "    }\n",
       "</style>\n",
       "<table border=\"1\" class=\"dataframe\">\n",
       "  <thead>\n",
       "    <tr>\n",
       "      <th></th>\n",
       "      <th colspan=\"2\" halign=\"left\">CENA_M2</th>\n",
       "    </tr>\n",
       "    <tr>\n",
       "      <th></th>\n",
       "      <th>mean</th>\n",
       "      <th>size</th>\n",
       "    </tr>\n",
       "    <tr>\n",
       "      <th>ROK_BUDOWY</th>\n",
       "      <th></th>\n",
       "      <th></th>\n",
       "    </tr>\n",
       "  </thead>\n",
       "  <tbody>\n",
       "    <tr>\n",
       "      <th>2013.0</th>\n",
       "      <td>9503.0</td>\n",
       "      <td>18</td>\n",
       "    </tr>\n",
       "    <tr>\n",
       "      <th>2009.0</th>\n",
       "      <td>8435.0</td>\n",
       "      <td>52</td>\n",
       "    </tr>\n",
       "    <tr>\n",
       "      <th>2014.0</th>\n",
       "      <td>8403.0</td>\n",
       "      <td>20</td>\n",
       "    </tr>\n",
       "    <tr>\n",
       "      <th>2010.0</th>\n",
       "      <td>8150.0</td>\n",
       "      <td>30</td>\n",
       "    </tr>\n",
       "    <tr>\n",
       "      <th>2011.0</th>\n",
       "      <td>7889.0</td>\n",
       "      <td>26</td>\n",
       "    </tr>\n",
       "    <tr>\n",
       "      <th>2008.0</th>\n",
       "      <td>7727.0</td>\n",
       "      <td>57</td>\n",
       "    </tr>\n",
       "    <tr>\n",
       "      <th>2015.0</th>\n",
       "      <td>7605.0</td>\n",
       "      <td>34</td>\n",
       "    </tr>\n",
       "    <tr>\n",
       "      <th>2012.0</th>\n",
       "      <td>7516.0</td>\n",
       "      <td>20</td>\n",
       "    </tr>\n",
       "    <tr>\n",
       "      <th>2005.0</th>\n",
       "      <td>7248.0</td>\n",
       "      <td>21</td>\n",
       "    </tr>\n",
       "    <tr>\n",
       "      <th>2002.0</th>\n",
       "      <td>7034.0</td>\n",
       "      <td>13</td>\n",
       "    </tr>\n",
       "    <tr>\n",
       "      <th>2006.0</th>\n",
       "      <td>7004.0</td>\n",
       "      <td>32</td>\n",
       "    </tr>\n",
       "    <tr>\n",
       "      <th>2007.0</th>\n",
       "      <td>6996.0</td>\n",
       "      <td>33</td>\n",
       "    </tr>\n",
       "    <tr>\n",
       "      <th>2003.0</th>\n",
       "      <td>6881.0</td>\n",
       "      <td>12</td>\n",
       "    </tr>\n",
       "    <tr>\n",
       "      <th>2020.0</th>\n",
       "      <td>6797.0</td>\n",
       "      <td>3</td>\n",
       "    </tr>\n",
       "    <tr>\n",
       "      <th>2001.0</th>\n",
       "      <td>6614.0</td>\n",
       "      <td>25</td>\n",
       "    </tr>\n",
       "    <tr>\n",
       "      <th>2016.0</th>\n",
       "      <td>6563.0</td>\n",
       "      <td>117</td>\n",
       "    </tr>\n",
       "    <tr>\n",
       "      <th>2019.0</th>\n",
       "      <td>6526.0</td>\n",
       "      <td>243</td>\n",
       "    </tr>\n",
       "    <tr>\n",
       "      <th>2018.0</th>\n",
       "      <td>6509.0</td>\n",
       "      <td>436</td>\n",
       "    </tr>\n",
       "    <tr>\n",
       "      <th>2017.0</th>\n",
       "      <td>6431.0</td>\n",
       "      <td>235</td>\n",
       "    </tr>\n",
       "    <tr>\n",
       "      <th>2004.0</th>\n",
       "      <td>6385.0</td>\n",
       "      <td>10</td>\n",
       "    </tr>\n",
       "    <tr>\n",
       "      <th>2000.0</th>\n",
       "      <td>6362.0</td>\n",
       "      <td>48</td>\n",
       "    </tr>\n",
       "  </tbody>\n",
       "</table>\n",
       "</div>"
      ],
      "text/plain": [
       "           CENA_M2     \n",
       "              mean size\n",
       "ROK_BUDOWY             \n",
       "2013.0      9503.0   18\n",
       "2009.0      8435.0   52\n",
       "2014.0      8403.0   20\n",
       "2010.0      8150.0   30\n",
       "2011.0      7889.0   26\n",
       "2008.0      7727.0   57\n",
       "2015.0      7605.0   34\n",
       "2012.0      7516.0   20\n",
       "2005.0      7248.0   21\n",
       "2002.0      7034.0   13\n",
       "2006.0      7004.0   32\n",
       "2007.0      6996.0   33\n",
       "2003.0      6881.0   12\n",
       "2020.0      6797.0    3\n",
       "2001.0      6614.0   25\n",
       "2016.0      6563.0  117\n",
       "2019.0      6526.0  243\n",
       "2018.0      6509.0  436\n",
       "2017.0      6431.0  235\n",
       "2004.0      6385.0   10\n",
       "2000.0      6362.0   48"
      ]
     },
     "execution_count": 98,
     "metadata": {},
     "output_type": "execute_result"
    }
   ],
   "source": [
    "fdataset = Filtered(dataset, start_year = 2000, end_year = 2030)\n",
    "AveragePerVariable(fdataset,\"ROK_BUDOWY\",\"CENA_M2\")"
   ]
  },
  {
   "cell_type": "markdown",
   "metadata": {},
   "source": [
    "## Most popular districts to building new flats"
   ]
  },
  {
   "cell_type": "code",
   "execution_count": 97,
   "metadata": {},
   "outputs": [
    {
     "data": {
      "text/html": [
       "<div>\n",
       "<style>\n",
       "    .dataframe thead tr:only-child th {\n",
       "        text-align: right;\n",
       "    }\n",
       "\n",
       "    .dataframe thead th {\n",
       "        text-align: left;\n",
       "    }\n",
       "\n",
       "    .dataframe tbody tr th {\n",
       "        vertical-align: top;\n",
       "    }\n",
       "</style>\n",
       "<table border=\"1\" class=\"dataframe\">\n",
       "  <thead>\n",
       "    <tr>\n",
       "      <th></th>\n",
       "      <th colspan=\"2\" halign=\"left\">ROK_BUDOWY</th>\n",
       "    </tr>\n",
       "    <tr>\n",
       "      <th></th>\n",
       "      <th>mean</th>\n",
       "      <th>size</th>\n",
       "    </tr>\n",
       "    <tr>\n",
       "      <th>DZIELNICA</th>\n",
       "      <th></th>\n",
       "      <th></th>\n",
       "    </tr>\n",
       "  </thead>\n",
       "  <tbody>\n",
       "    <tr>\n",
       "      <th>Grunwald</th>\n",
       "      <td>2019.0</td>\n",
       "      <td>197</td>\n",
       "    </tr>\n",
       "    <tr>\n",
       "      <th>Wilda</th>\n",
       "      <td>2019.0</td>\n",
       "      <td>43</td>\n",
       "    </tr>\n",
       "    <tr>\n",
       "      <th>Stare Miasto</th>\n",
       "      <td>2018.0</td>\n",
       "      <td>29</td>\n",
       "    </tr>\n",
       "    <tr>\n",
       "      <th>Strzeszyn</th>\n",
       "      <td>2018.0</td>\n",
       "      <td>25</td>\n",
       "    </tr>\n",
       "    <tr>\n",
       "      <th>Naramowice</th>\n",
       "      <td>2019.0</td>\n",
       "      <td>23</td>\n",
       "    </tr>\n",
       "    <tr>\n",
       "      <th>Sołacz</th>\n",
       "      <td>2018.0</td>\n",
       "      <td>18</td>\n",
       "    </tr>\n",
       "    <tr>\n",
       "      <th>Górczyn</th>\n",
       "      <td>2018.0</td>\n",
       "      <td>17</td>\n",
       "    </tr>\n",
       "    <tr>\n",
       "      <th>Żegrze</th>\n",
       "      <td>2019.0</td>\n",
       "      <td>15</td>\n",
       "    </tr>\n",
       "    <tr>\n",
       "      <th>Winogrady</th>\n",
       "      <td>2018.0</td>\n",
       "      <td>13</td>\n",
       "    </tr>\n",
       "    <tr>\n",
       "      <th>Ogrody</th>\n",
       "      <td>2018.0</td>\n",
       "      <td>11</td>\n",
       "    </tr>\n",
       "    <tr>\n",
       "      <th>Szczepankowo</th>\n",
       "      <td>2018.0</td>\n",
       "      <td>7</td>\n",
       "    </tr>\n",
       "    <tr>\n",
       "      <th>Główna</th>\n",
       "      <td>2018.0</td>\n",
       "      <td>7</td>\n",
       "    </tr>\n",
       "    <tr>\n",
       "      <th>Jeżyce</th>\n",
       "      <td>2018.0</td>\n",
       "      <td>5</td>\n",
       "    </tr>\n",
       "    <tr>\n",
       "      <th>Rataje</th>\n",
       "      <td>2018.0</td>\n",
       "      <td>3</td>\n",
       "    </tr>\n",
       "    <tr>\n",
       "      <th>Zawady</th>\n",
       "      <td>2018.0</td>\n",
       "      <td>3</td>\n",
       "    </tr>\n",
       "    <tr>\n",
       "      <th>Podolany</th>\n",
       "      <td>2018.0</td>\n",
       "      <td>2</td>\n",
       "    </tr>\n",
       "    <tr>\n",
       "      <th>Starołęka</th>\n",
       "      <td>2018.0</td>\n",
       "      <td>2</td>\n",
       "    </tr>\n",
       "    <tr>\n",
       "      <th>Morasko</th>\n",
       "      <td>2018.0</td>\n",
       "      <td>1</td>\n",
       "    </tr>\n",
       "    <tr>\n",
       "      <th>Kotowo</th>\n",
       "      <td>2018.0</td>\n",
       "      <td>1</td>\n",
       "    </tr>\n",
       "    <tr>\n",
       "      <th>Junikowo</th>\n",
       "      <td>2018.0</td>\n",
       "      <td>1</td>\n",
       "    </tr>\n",
       "    <tr>\n",
       "      <th>Zieliniec</th>\n",
       "      <td>2018.0</td>\n",
       "      <td>1</td>\n",
       "    </tr>\n",
       "    <tr>\n",
       "      <th>Śródka</th>\n",
       "      <td>2018.0</td>\n",
       "      <td>1</td>\n",
       "    </tr>\n",
       "    <tr>\n",
       "      <th>Smochowice</th>\n",
       "      <td>2018.0</td>\n",
       "      <td>1</td>\n",
       "    </tr>\n",
       "  </tbody>\n",
       "</table>\n",
       "</div>"
      ],
      "text/plain": [
       "             ROK_BUDOWY     \n",
       "                   mean size\n",
       "DZIELNICA                   \n",
       "Grunwald         2019.0  197\n",
       "Wilda            2019.0   43\n",
       "Stare Miasto     2018.0   29\n",
       "Strzeszyn        2018.0   25\n",
       "Naramowice       2019.0   23\n",
       "Sołacz           2018.0   18\n",
       "Górczyn          2018.0   17\n",
       "Żegrze           2019.0   15\n",
       "Winogrady        2018.0   13\n",
       "Ogrody           2018.0   11\n",
       "Szczepankowo     2018.0    7\n",
       "Główna           2018.0    7\n",
       "Jeżyce           2018.0    5\n",
       "Rataje           2018.0    3\n",
       "Zawady           2018.0    3\n",
       "Podolany         2018.0    2\n",
       "Starołęka        2018.0    2\n",
       "Morasko          2018.0    1\n",
       "Kotowo           2018.0    1\n",
       "Junikowo         2018.0    1\n",
       "Zieliniec        2018.0    1\n",
       "Śródka           2018.0    1\n",
       "Smochowice       2018.0    1"
      ]
     },
     "execution_count": 97,
     "metadata": {},
     "output_type": "execute_result"
    }
   ],
   "source": [
    "fdataset = Filtered(dataset, start_year = 2018, end_year = 2030)\n",
    "AveragePerVariable(fdataset,\"DZIELNICA\",\"ROK_BUDOWY\")"
   ]
  },
  {
   "cell_type": "markdown",
   "metadata": {},
   "source": [
    "* sprawdzić korelacje róznych zmiennych, jak na siebie wpływaja\n"
   ]
  },
  {
   "cell_type": "markdown",
   "metadata": {},
   "source": [
    "## Correlate"
   ]
  },
  {
   "cell_type": "code",
   "execution_count": 109,
   "metadata": {},
   "outputs": [
    {
     "data": {
      "text/html": [
       "<div>\n",
       "<style>\n",
       "    .dataframe thead tr:only-child th {\n",
       "        text-align: right;\n",
       "    }\n",
       "\n",
       "    .dataframe thead th {\n",
       "        text-align: left;\n",
       "    }\n",
       "\n",
       "    .dataframe tbody tr th {\n",
       "        vertical-align: top;\n",
       "    }\n",
       "</style>\n",
       "<table border=\"1\" class=\"dataframe\">\n",
       "  <thead>\n",
       "    <tr style=\"text-align: right;\">\n",
       "      <th></th>\n",
       "      <th>CENA</th>\n",
       "      <th>CENA_M2</th>\n",
       "      <th>POWIERZCHNIA</th>\n",
       "      <th>POKOJE</th>\n",
       "      <th>PIĘTRO</th>\n",
       "      <th>ROK_BUDOWY</th>\n",
       "      <th>CZYNSZ</th>\n",
       "    </tr>\n",
       "  </thead>\n",
       "  <tbody>\n",
       "    <tr>\n",
       "      <th>CENA</th>\n",
       "      <td>1.000000</td>\n",
       "      <td>0.522427</td>\n",
       "      <td>0.722977</td>\n",
       "      <td>0.488750</td>\n",
       "      <td>-0.002233</td>\n",
       "      <td>0.001659</td>\n",
       "      <td>0.512034</td>\n",
       "    </tr>\n",
       "    <tr>\n",
       "      <th>CENA_M2</th>\n",
       "      <td>0.522427</td>\n",
       "      <td>1.000000</td>\n",
       "      <td>-0.113822</td>\n",
       "      <td>-0.189695</td>\n",
       "      <td>0.109184</td>\n",
       "      <td>0.080180</td>\n",
       "      <td>0.055898</td>\n",
       "    </tr>\n",
       "    <tr>\n",
       "      <th>POWIERZCHNIA</th>\n",
       "      <td>0.722977</td>\n",
       "      <td>-0.113822</td>\n",
       "      <td>1.000000</td>\n",
       "      <td>0.767462</td>\n",
       "      <td>-0.107391</td>\n",
       "      <td>-0.078803</td>\n",
       "      <td>0.466635</td>\n",
       "    </tr>\n",
       "    <tr>\n",
       "      <th>POKOJE</th>\n",
       "      <td>0.488750</td>\n",
       "      <td>-0.189695</td>\n",
       "      <td>0.767462</td>\n",
       "      <td>1.000000</td>\n",
       "      <td>-0.057837</td>\n",
       "      <td>-0.018822</td>\n",
       "      <td>0.410996</td>\n",
       "    </tr>\n",
       "    <tr>\n",
       "      <th>PIĘTRO</th>\n",
       "      <td>-0.002233</td>\n",
       "      <td>0.109184</td>\n",
       "      <td>-0.107391</td>\n",
       "      <td>-0.057837</td>\n",
       "      <td>1.000000</td>\n",
       "      <td>0.048739</td>\n",
       "      <td>0.081397</td>\n",
       "    </tr>\n",
       "    <tr>\n",
       "      <th>ROK_BUDOWY</th>\n",
       "      <td>0.001659</td>\n",
       "      <td>0.080180</td>\n",
       "      <td>-0.078803</td>\n",
       "      <td>-0.018822</td>\n",
       "      <td>0.048739</td>\n",
       "      <td>1.000000</td>\n",
       "      <td>0.049461</td>\n",
       "    </tr>\n",
       "    <tr>\n",
       "      <th>CZYNSZ</th>\n",
       "      <td>0.512034</td>\n",
       "      <td>0.055898</td>\n",
       "      <td>0.466635</td>\n",
       "      <td>0.410996</td>\n",
       "      <td>0.081397</td>\n",
       "      <td>0.049461</td>\n",
       "      <td>1.000000</td>\n",
       "    </tr>\n",
       "  </tbody>\n",
       "</table>\n",
       "</div>"
      ],
      "text/plain": [
       "                  CENA   CENA_M2  POWIERZCHNIA    POKOJE    PIĘTRO  \\\n",
       "CENA          1.000000  0.522427      0.722977  0.488750 -0.002233   \n",
       "CENA_M2       0.522427  1.000000     -0.113822 -0.189695  0.109184   \n",
       "POWIERZCHNIA  0.722977 -0.113822      1.000000  0.767462 -0.107391   \n",
       "POKOJE        0.488750 -0.189695      0.767462  1.000000 -0.057837   \n",
       "PIĘTRO       -0.002233  0.109184     -0.107391 -0.057837  1.000000   \n",
       "ROK_BUDOWY    0.001659  0.080180     -0.078803 -0.018822  0.048739   \n",
       "CZYNSZ        0.512034  0.055898      0.466635  0.410996  0.081397   \n",
       "\n",
       "              ROK_BUDOWY    CZYNSZ  \n",
       "CENA            0.001659  0.512034  \n",
       "CENA_M2         0.080180  0.055898  \n",
       "POWIERZCHNIA   -0.078803  0.466635  \n",
       "POKOJE         -0.018822  0.410996  \n",
       "PIĘTRO          0.048739  0.081397  \n",
       "ROK_BUDOWY      1.000000  0.049461  \n",
       "CZYNSZ          0.049461  1.000000  "
      ]
     },
     "execution_count": 109,
     "metadata": {},
     "output_type": "execute_result"
    }
   ],
   "source": [
    "fdataset = dataset\n",
    "fdataset.corr()"
   ]
  },
  {
   "cell_type": "code",
   "execution_count": 111,
   "metadata": {},
   "outputs": [
    {
     "data": {
      "text/html": [
       "<div>\n",
       "<style>\n",
       "    .dataframe thead tr:only-child th {\n",
       "        text-align: right;\n",
       "    }\n",
       "\n",
       "    .dataframe thead th {\n",
       "        text-align: left;\n",
       "    }\n",
       "\n",
       "    .dataframe tbody tr th {\n",
       "        vertical-align: top;\n",
       "    }\n",
       "</style>\n",
       "<table border=\"1\" class=\"dataframe\">\n",
       "  <thead>\n",
       "    <tr style=\"text-align: right;\">\n",
       "      <th></th>\n",
       "      <th>CENA</th>\n",
       "      <th>CENA_M2</th>\n",
       "      <th>POWIERZCHNIA</th>\n",
       "      <th>POKOJE</th>\n",
       "      <th>PIĘTRO</th>\n",
       "      <th>ROK_BUDOWY</th>\n",
       "      <th>CZYNSZ</th>\n",
       "    </tr>\n",
       "  </thead>\n",
       "  <tbody>\n",
       "    <tr>\n",
       "      <th>CENA</th>\n",
       "      <td>1.000000</td>\n",
       "      <td>0.013943</td>\n",
       "      <td>0.437579</td>\n",
       "      <td>0.340604</td>\n",
       "      <td>0.065533</td>\n",
       "      <td>0.066128</td>\n",
       "      <td>0.260981</td>\n",
       "    </tr>\n",
       "    <tr>\n",
       "      <th>CENA_M2</th>\n",
       "      <td>0.013943</td>\n",
       "      <td>1.000000</td>\n",
       "      <td>-0.815207</td>\n",
       "      <td>-0.523634</td>\n",
       "      <td>0.047731</td>\n",
       "      <td>0.114489</td>\n",
       "      <td>-0.310268</td>\n",
       "    </tr>\n",
       "    <tr>\n",
       "      <th>POWIERZCHNIA</th>\n",
       "      <td>0.437579</td>\n",
       "      <td>-0.815207</td>\n",
       "      <td>1.000000</td>\n",
       "      <td>0.601998</td>\n",
       "      <td>-0.037310</td>\n",
       "      <td>-0.116631</td>\n",
       "      <td>0.320582</td>\n",
       "    </tr>\n",
       "    <tr>\n",
       "      <th>POKOJE</th>\n",
       "      <td>0.340604</td>\n",
       "      <td>-0.523634</td>\n",
       "      <td>0.601998</td>\n",
       "      <td>1.000000</td>\n",
       "      <td>0.025850</td>\n",
       "      <td>-0.036069</td>\n",
       "      <td>0.327817</td>\n",
       "    </tr>\n",
       "    <tr>\n",
       "      <th>PIĘTRO</th>\n",
       "      <td>0.065533</td>\n",
       "      <td>0.047731</td>\n",
       "      <td>-0.037310</td>\n",
       "      <td>0.025850</td>\n",
       "      <td>1.000000</td>\n",
       "      <td>0.032930</td>\n",
       "      <td>0.244484</td>\n",
       "    </tr>\n",
       "    <tr>\n",
       "      <th>ROK_BUDOWY</th>\n",
       "      <td>0.066128</td>\n",
       "      <td>0.114489</td>\n",
       "      <td>-0.116631</td>\n",
       "      <td>-0.036069</td>\n",
       "      <td>0.032930</td>\n",
       "      <td>1.000000</td>\n",
       "      <td>-0.045147</td>\n",
       "    </tr>\n",
       "    <tr>\n",
       "      <th>CZYNSZ</th>\n",
       "      <td>0.260981</td>\n",
       "      <td>-0.310268</td>\n",
       "      <td>0.320582</td>\n",
       "      <td>0.327817</td>\n",
       "      <td>0.244484</td>\n",
       "      <td>-0.045147</td>\n",
       "      <td>1.000000</td>\n",
       "    </tr>\n",
       "  </tbody>\n",
       "</table>\n",
       "</div>"
      ],
      "text/plain": [
       "                  CENA   CENA_M2  POWIERZCHNIA    POKOJE    PIĘTRO  \\\n",
       "CENA          1.000000  0.013943      0.437579  0.340604  0.065533   \n",
       "CENA_M2       0.013943  1.000000     -0.815207 -0.523634  0.047731   \n",
       "POWIERZCHNIA  0.437579 -0.815207      1.000000  0.601998 -0.037310   \n",
       "POKOJE        0.340604 -0.523634      0.601998  1.000000  0.025850   \n",
       "PIĘTRO        0.065533  0.047731     -0.037310  0.025850  1.000000   \n",
       "ROK_BUDOWY    0.066128  0.114489     -0.116631 -0.036069  0.032930   \n",
       "CZYNSZ        0.260981 -0.310268      0.320582  0.327817  0.244484   \n",
       "\n",
       "              ROK_BUDOWY    CZYNSZ  \n",
       "CENA            0.066128  0.260981  \n",
       "CENA_M2         0.114489 -0.310268  \n",
       "POWIERZCHNIA   -0.116631  0.320582  \n",
       "POKOJE         -0.036069  0.327817  \n",
       "PIĘTRO          0.032930  0.244484  \n",
       "ROK_BUDOWY      1.000000 -0.045147  \n",
       "CZYNSZ         -0.045147  1.000000  "
      ]
     },
     "execution_count": 111,
     "metadata": {},
     "output_type": "execute_result"
    }
   ],
   "source": [
    "fdataset = fdataset = Filtered(dataset, price_min = 230000, price_max = 330000)\n",
    "fdataset.corr()\n",
    "#fdataset.plot.scatter(\"CENA_M2\",\"POWIERZCHNIA\")"
   ]
  },
  {
   "cell_type": "code",
   "execution_count": 112,
   "metadata": {},
   "outputs": [
    {
     "data": {
      "text/plain": [
       "<matplotlib.axes._subplots.AxesSubplot at 0x16a10a90>"
      ]
     },
     "execution_count": 112,
     "metadata": {},
     "output_type": "execute_result"
    },
    {
     "data": {
      "image/png": "[encoded data removed]",
      "text/plain": [
       "<matplotlib.figure.Figure at 0x162187b8>"
      ]
     },
     "metadata": {},
     "output_type": "display_data"
    }
   ],
   "source": [
    "fdataset = fdataset = Filtered(dataset, price_min = 230000, price_max = 330000)\n",
    "fdataset.plot.scatter(\"CENA_M2\",\"POWIERZCHNIA\")"
   ]
  },
  {
   "cell_type": "code",
   "execution_count": 116,
   "metadata": {},
   "outputs": [
    {
     "data": {
      "text/plain": [
       "<matplotlib.axes._subplots.AxesSubplot at 0x1682be48>"
      ]
     },
     "execution_count": 116,
     "metadata": {},
     "output_type": "execute_result"
    },
    {
     "data": {
      "image/png": "[encoded data removed]",
      "text/plain": [
       "<matplotlib.figure.Figure at 0x1682f470>"
      ]
     },
     "metadata": {},
     "output_type": "display_data"
    }
   ],
   "source": [
    "fdataset = fdataset = Filtered(dataset, price_min = 230000, price_max = 330000, start_year = 1990, end_year = 2020)\n",
    "fdataset.plot.scatter(\"ROK_BUDOWY\",\"CENA_M2\")"
   ]
  },
  {
   "cell_type": "markdown",
   "metadata": {},
   "source": [
    "## Let's try some Machine Learning"
   ]
  },
  {
   "cell_type": "markdown",
   "metadata": {},
   "source": [
    "* sprobowac zrobic regresje, svm, drzewo, jakis klasyfikator, porozbijac te dane\n",
    "* zaleznosci mozna na calym zbiorze np cena vs liczba pokoi, cena vs wyposazenie\n",
    "* cena od powierzchni ale nie histogramy\n",
    "* ceny wzgledem dzielnic tez na calosci - glownie mediany\n",
    "* wiecej danych jakosciowych\n",
    "* sprobuj sie pobawic regresja, svm etc"
   ]
  },
  {
   "cell_type": "code",
   "execution_count": null,
   "metadata": {},
   "outputs": [],
   "source": []
  }
 ],
 "metadata": {
  "kernelspec": {
   "display_name": "Python 3",
   "language": "python",
   "name": "python3"
  },
  "language_info": {
   "codemirror_mode": {
    "name": "ipython",
    "version": 3
   },
   "file_extension": ".py",
   "mimetype": "text/x-python",
   "name": "python",
   "nbconvert_exporter": "python",
   "pygments_lexer": "ipython3",
   "version": "3.4.3"
  }
 },
 "nbformat": 4,
 "nbformat_minor": 2
}
